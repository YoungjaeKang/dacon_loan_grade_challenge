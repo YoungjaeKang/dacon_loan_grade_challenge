{
 "cells": [
  {
   "cell_type": "markdown",
   "source": [
    "# Fixed Random Seed"
   ],
   "metadata": {
    "collapsed": false
   },
   "id": "767fc78011fe521a"
  },
  {
   "cell_type": "code",
   "execution_count": 1,
   "id": "initial_id",
   "metadata": {
    "collapsed": true,
    "ExecuteTime": {
     "end_time": "2024-01-19T15:20:30.655123Z",
     "start_time": "2024-01-19T15:20:30.653584Z"
    }
   },
   "outputs": [],
   "source": [
    "import numpy as np\n",
    "import random\n",
    "import os\n",
    "\n",
    "def seed_everything(seed):\n",
    "    random.seed(seed)\n",
    "    os.environ['PYTHONHASHSEED'] = str(seed)\n",
    "    np.random.seed(seed)\n",
    "\n",
    "seed_everything(42) # Seed 고정"
   ]
  },
  {
   "cell_type": "markdown",
   "source": [
    "# Load Dataset"
   ],
   "metadata": {
    "collapsed": false
   },
   "id": "d348be23a2a183ad"
  },
  {
   "cell_type": "code",
   "execution_count": 3,
   "outputs": [
    {
     "data": {
      "text/plain": "            ID      대출금액        대출기간       근로기간    주택소유상태       연간소득  \\\n0  TRAIN_00000  12480000   36 months    6 years      RENT   72000000   \n1  TRAIN_00001  14400000   60 months  10+ years  MORTGAGE  130800000   \n2  TRAIN_00002  12000000   36 months    5 years  MORTGAGE   96000000   \n\n   부채_대비_소득_비율  총계좌수   대출목적  최근_2년간_연체_횟수   총상환원금     총상환이자  총연체금액  연체계좌수 대출등급  \n0        18.90    15  부채 통합             0       0       0.0    0.0    0.0    C  \n1        22.33    21  주택 개선             0  373572  234060.0    0.0    0.0    B  \n2         8.60    14  부채 통합             0  928644  151944.0    0.0    0.0    A  ",
      "text/html": "<div>\n<style scoped>\n    .dataframe tbody tr th:only-of-type {\n        vertical-align: middle;\n    }\n\n    .dataframe tbody tr th {\n        vertical-align: top;\n    }\n\n    .dataframe thead th {\n        text-align: right;\n    }\n</style>\n<table border=\"1\" class=\"dataframe\">\n  <thead>\n    <tr style=\"text-align: right;\">\n      <th></th>\n      <th>ID</th>\n      <th>대출금액</th>\n      <th>대출기간</th>\n      <th>근로기간</th>\n      <th>주택소유상태</th>\n      <th>연간소득</th>\n      <th>부채_대비_소득_비율</th>\n      <th>총계좌수</th>\n      <th>대출목적</th>\n      <th>최근_2년간_연체_횟수</th>\n      <th>총상환원금</th>\n      <th>총상환이자</th>\n      <th>총연체금액</th>\n      <th>연체계좌수</th>\n      <th>대출등급</th>\n    </tr>\n  </thead>\n  <tbody>\n    <tr>\n      <th>0</th>\n      <td>TRAIN_00000</td>\n      <td>12480000</td>\n      <td>36 months</td>\n      <td>6 years</td>\n      <td>RENT</td>\n      <td>72000000</td>\n      <td>18.90</td>\n      <td>15</td>\n      <td>부채 통합</td>\n      <td>0</td>\n      <td>0</td>\n      <td>0.0</td>\n      <td>0.0</td>\n      <td>0.0</td>\n      <td>C</td>\n    </tr>\n    <tr>\n      <th>1</th>\n      <td>TRAIN_00001</td>\n      <td>14400000</td>\n      <td>60 months</td>\n      <td>10+ years</td>\n      <td>MORTGAGE</td>\n      <td>130800000</td>\n      <td>22.33</td>\n      <td>21</td>\n      <td>주택 개선</td>\n      <td>0</td>\n      <td>373572</td>\n      <td>234060.0</td>\n      <td>0.0</td>\n      <td>0.0</td>\n      <td>B</td>\n    </tr>\n    <tr>\n      <th>2</th>\n      <td>TRAIN_00002</td>\n      <td>12000000</td>\n      <td>36 months</td>\n      <td>5 years</td>\n      <td>MORTGAGE</td>\n      <td>96000000</td>\n      <td>8.60</td>\n      <td>14</td>\n      <td>부채 통합</td>\n      <td>0</td>\n      <td>928644</td>\n      <td>151944.0</td>\n      <td>0.0</td>\n      <td>0.0</td>\n      <td>A</td>\n    </tr>\n  </tbody>\n</table>\n</div>"
     },
     "metadata": {},
     "output_type": "display_data"
    },
    {
     "data": {
      "text/plain": "           ID      대출금액        대출기간     근로기간    주택소유상태       연간소득  \\\n0  TEST_00000  16800000   36 months  8 years  MORTGAGE  132000000   \n1  TEST_00001   8400000   36 months  5 years      RENT   89971200   \n2  TEST_00002  17280000   36 months  6 years      RENT  150000000   \n\n   부채_대비_소득_비율  총계좌수   대출목적  최근_2년간_연체_횟수    총상환원금     총상환이자  총연체금액  연체계좌수  \n0        19.64    12  주택 개선             0   394692  146604.0    0.0    0.0  \n1        15.84    25  부채 통합             0        0       0.0    0.0    0.0  \n2         8.41    20  신용 카드             0  1786980  281820.0    0.0    0.0  ",
      "text/html": "<div>\n<style scoped>\n    .dataframe tbody tr th:only-of-type {\n        vertical-align: middle;\n    }\n\n    .dataframe tbody tr th {\n        vertical-align: top;\n    }\n\n    .dataframe thead th {\n        text-align: right;\n    }\n</style>\n<table border=\"1\" class=\"dataframe\">\n  <thead>\n    <tr style=\"text-align: right;\">\n      <th></th>\n      <th>ID</th>\n      <th>대출금액</th>\n      <th>대출기간</th>\n      <th>근로기간</th>\n      <th>주택소유상태</th>\n      <th>연간소득</th>\n      <th>부채_대비_소득_비율</th>\n      <th>총계좌수</th>\n      <th>대출목적</th>\n      <th>최근_2년간_연체_횟수</th>\n      <th>총상환원금</th>\n      <th>총상환이자</th>\n      <th>총연체금액</th>\n      <th>연체계좌수</th>\n    </tr>\n  </thead>\n  <tbody>\n    <tr>\n      <th>0</th>\n      <td>TEST_00000</td>\n      <td>16800000</td>\n      <td>36 months</td>\n      <td>8 years</td>\n      <td>MORTGAGE</td>\n      <td>132000000</td>\n      <td>19.64</td>\n      <td>12</td>\n      <td>주택 개선</td>\n      <td>0</td>\n      <td>394692</td>\n      <td>146604.0</td>\n      <td>0.0</td>\n      <td>0.0</td>\n    </tr>\n    <tr>\n      <th>1</th>\n      <td>TEST_00001</td>\n      <td>8400000</td>\n      <td>36 months</td>\n      <td>5 years</td>\n      <td>RENT</td>\n      <td>89971200</td>\n      <td>15.84</td>\n      <td>25</td>\n      <td>부채 통합</td>\n      <td>0</td>\n      <td>0</td>\n      <td>0.0</td>\n      <td>0.0</td>\n      <td>0.0</td>\n    </tr>\n    <tr>\n      <th>2</th>\n      <td>TEST_00002</td>\n      <td>17280000</td>\n      <td>36 months</td>\n      <td>6 years</td>\n      <td>RENT</td>\n      <td>150000000</td>\n      <td>8.41</td>\n      <td>20</td>\n      <td>신용 카드</td>\n      <td>0</td>\n      <td>1786980</td>\n      <td>281820.0</td>\n      <td>0.0</td>\n      <td>0.0</td>\n    </tr>\n  </tbody>\n</table>\n</div>"
     },
     "metadata": {},
     "output_type": "display_data"
    }
   ],
   "source": [
    "import pandas as pd\n",
    "\n",
    "train_df = pd.read_csv('data/train.csv')\n",
    "test_df = pd.read_csv('data/test.csv')\n",
    "\n",
    "display(train_df.head(3))\n",
    "display(test_df.head(3))"
   ],
   "metadata": {
    "collapsed": false,
    "ExecuteTime": {
     "end_time": "2024-01-19T15:22:03.458757Z",
     "start_time": "2024-01-19T15:22:03.218599Z"
    }
   },
   "id": "dd3cfc7b08c6d12a"
  },
  {
   "cell_type": "markdown",
   "source": [
    "# 데이터 전처리 1 : 학습 및 추론 데이터 설정¶\n",
    "\n",
    "모델에게 입력할 학습 데이터와 추론 데이터를 만들어 봅시다\n",
    "\n"
   ],
   "metadata": {
    "collapsed": false
   },
   "id": "b6a50918f377de9a"
  },
  {
   "cell_type": "code",
   "execution_count": 4,
   "outputs": [],
   "source": [
    "train_x = train_df.drop(columns=['ID', '근로기간', '대출등급'])\n",
    "train_y = train_df['대출등급']\n",
    "\n",
    "test_x = test_df.drop(columns=['ID', '근로기간'])"
   ],
   "metadata": {
    "collapsed": false,
    "ExecuteTime": {
     "end_time": "2024-01-19T15:22:29.013692Z",
     "start_time": "2024-01-19T15:22:29.011899Z"
    }
   },
   "id": "7f382d2b3720a5a9"
  },
  {
   "cell_type": "markdown",
   "source": [
    "# 데이터 전처리 2 : 범주형 변수 수치화¶\n",
    "\n",
    "LabelEncoder를 통해 범주형 변수 수치화를 진행해 봅시다"
   ],
   "metadata": {
    "collapsed": false
   },
   "id": "c7d61d3a4f2e6f9e"
  },
  {
   "cell_type": "code",
   "execution_count": 6,
   "outputs": [
    {
     "data": {
      "text/plain": "       대출금액  대출기간  주택소유상태       연간소득  부채_대비_소득_비율  총계좌수  대출목적  최근_2년간_연체_횟수  \\\n0  12480000     0       3   72000000        18.90    15     1             0   \n1  14400000     1       1  130800000        22.33    21    10             0   \n2  12000000     0       1   96000000         8.60    14     1             0   \n\n    총상환원금     총상환이자  총연체금액  연체계좌수  \n0       0       0.0    0.0    0.0  \n1  373572  234060.0    0.0    0.0  \n2  928644  151944.0    0.0    0.0  ",
      "text/html": "<div>\n<style scoped>\n    .dataframe tbody tr th:only-of-type {\n        vertical-align: middle;\n    }\n\n    .dataframe tbody tr th {\n        vertical-align: top;\n    }\n\n    .dataframe thead th {\n        text-align: right;\n    }\n</style>\n<table border=\"1\" class=\"dataframe\">\n  <thead>\n    <tr style=\"text-align: right;\">\n      <th></th>\n      <th>대출금액</th>\n      <th>대출기간</th>\n      <th>주택소유상태</th>\n      <th>연간소득</th>\n      <th>부채_대비_소득_비율</th>\n      <th>총계좌수</th>\n      <th>대출목적</th>\n      <th>최근_2년간_연체_횟수</th>\n      <th>총상환원금</th>\n      <th>총상환이자</th>\n      <th>총연체금액</th>\n      <th>연체계좌수</th>\n    </tr>\n  </thead>\n  <tbody>\n    <tr>\n      <th>0</th>\n      <td>12480000</td>\n      <td>0</td>\n      <td>3</td>\n      <td>72000000</td>\n      <td>18.90</td>\n      <td>15</td>\n      <td>1</td>\n      <td>0</td>\n      <td>0</td>\n      <td>0.0</td>\n      <td>0.0</td>\n      <td>0.0</td>\n    </tr>\n    <tr>\n      <th>1</th>\n      <td>14400000</td>\n      <td>1</td>\n      <td>1</td>\n      <td>130800000</td>\n      <td>22.33</td>\n      <td>21</td>\n      <td>10</td>\n      <td>0</td>\n      <td>373572</td>\n      <td>234060.0</td>\n      <td>0.0</td>\n      <td>0.0</td>\n    </tr>\n    <tr>\n      <th>2</th>\n      <td>12000000</td>\n      <td>0</td>\n      <td>1</td>\n      <td>96000000</td>\n      <td>8.60</td>\n      <td>14</td>\n      <td>1</td>\n      <td>0</td>\n      <td>928644</td>\n      <td>151944.0</td>\n      <td>0.0</td>\n      <td>0.0</td>\n    </tr>\n  </tbody>\n</table>\n</div>"
     },
     "metadata": {},
     "output_type": "display_data"
    },
    {
     "data": {
      "text/plain": "       대출금액  대출기간  주택소유상태       연간소득  부채_대비_소득_비율  총계좌수  대출목적  최근_2년간_연체_횟수  \\\n0  16800000     0       1  132000000        19.64    12    10             0   \n1   8400000     0       3   89971200        15.84    25     1             0   \n2  17280000     0       3  150000000         8.41    20     3             0   \n\n     총상환원금     총상환이자  총연체금액  연체계좌수  \n0   394692  146604.0    0.0    0.0  \n1        0       0.0    0.0    0.0  \n2  1786980  281820.0    0.0    0.0  ",
      "text/html": "<div>\n<style scoped>\n    .dataframe tbody tr th:only-of-type {\n        vertical-align: middle;\n    }\n\n    .dataframe tbody tr th {\n        vertical-align: top;\n    }\n\n    .dataframe thead th {\n        text-align: right;\n    }\n</style>\n<table border=\"1\" class=\"dataframe\">\n  <thead>\n    <tr style=\"text-align: right;\">\n      <th></th>\n      <th>대출금액</th>\n      <th>대출기간</th>\n      <th>주택소유상태</th>\n      <th>연간소득</th>\n      <th>부채_대비_소득_비율</th>\n      <th>총계좌수</th>\n      <th>대출목적</th>\n      <th>최근_2년간_연체_횟수</th>\n      <th>총상환원금</th>\n      <th>총상환이자</th>\n      <th>총연체금액</th>\n      <th>연체계좌수</th>\n    </tr>\n  </thead>\n  <tbody>\n    <tr>\n      <th>0</th>\n      <td>16800000</td>\n      <td>0</td>\n      <td>1</td>\n      <td>132000000</td>\n      <td>19.64</td>\n      <td>12</td>\n      <td>10</td>\n      <td>0</td>\n      <td>394692</td>\n      <td>146604.0</td>\n      <td>0.0</td>\n      <td>0.0</td>\n    </tr>\n    <tr>\n      <th>1</th>\n      <td>8400000</td>\n      <td>0</td>\n      <td>3</td>\n      <td>89971200</td>\n      <td>15.84</td>\n      <td>25</td>\n      <td>1</td>\n      <td>0</td>\n      <td>0</td>\n      <td>0.0</td>\n      <td>0.0</td>\n      <td>0.0</td>\n    </tr>\n    <tr>\n      <th>2</th>\n      <td>17280000</td>\n      <td>0</td>\n      <td>3</td>\n      <td>150000000</td>\n      <td>8.41</td>\n      <td>20</td>\n      <td>3</td>\n      <td>0</td>\n      <td>1786980</td>\n      <td>281820.0</td>\n      <td>0.0</td>\n      <td>0.0</td>\n    </tr>\n  </tbody>\n</table>\n</div>"
     },
     "metadata": {},
     "output_type": "display_data"
    }
   ],
   "source": [
    "from sklearn.preprocessing import LabelEncoder\n",
    "\n",
    "categorical_features = ['대출기간', '주택소유상태', '대출목적']\n",
    "\n",
    "for i in categorical_features:\n",
    "    le = LabelEncoder()\n",
    "    le=le.fit(train_x[i]) \n",
    "    train_x[i]=le.transform(train_x[i])\n",
    "    \n",
    "    for case in np.unique(test_x[i]):\n",
    "        if case not in le.classes_: \n",
    "            le.classes_ = np.append(le.classes_, case) \n",
    "    test_x[i]=le.transform(test_x[i])\n",
    "    \n",
    "display(train_x.head(3))\n",
    "display(test_x.head(3))"
   ],
   "metadata": {
    "collapsed": false,
    "ExecuteTime": {
     "end_time": "2024-01-19T15:23:00.758811Z",
     "start_time": "2024-01-19T15:23:00.517225Z"
    }
   },
   "id": "78aa68c48b475e1b"
  },
  {
   "cell_type": "markdown",
   "source": [
    "# 모델 선정 및 학습¶\n",
    "\n",
    "대출등급 분류를 위한 AI 모델을 정하고 학습시켜 봅시다"
   ],
   "metadata": {
    "collapsed": false
   },
   "id": "909a7d020a8483b2"
  },
  {
   "cell_type": "code",
   "execution_count": 8,
   "outputs": [
    {
     "data": {
      "text/plain": "RandomForestClassifier()",
      "text/html": "<style>#sk-container-id-1 {color: black;}#sk-container-id-1 pre{padding: 0;}#sk-container-id-1 div.sk-toggleable {background-color: white;}#sk-container-id-1 label.sk-toggleable__label {cursor: pointer;display: block;width: 100%;margin-bottom: 0;padding: 0.3em;box-sizing: border-box;text-align: center;}#sk-container-id-1 label.sk-toggleable__label-arrow:before {content: \"▸\";float: left;margin-right: 0.25em;color: #696969;}#sk-container-id-1 label.sk-toggleable__label-arrow:hover:before {color: black;}#sk-container-id-1 div.sk-estimator:hover label.sk-toggleable__label-arrow:before {color: black;}#sk-container-id-1 div.sk-toggleable__content {max-height: 0;max-width: 0;overflow: hidden;text-align: left;background-color: #f0f8ff;}#sk-container-id-1 div.sk-toggleable__content pre {margin: 0.2em;color: black;border-radius: 0.25em;background-color: #f0f8ff;}#sk-container-id-1 input.sk-toggleable__control:checked~div.sk-toggleable__content {max-height: 200px;max-width: 100%;overflow: auto;}#sk-container-id-1 input.sk-toggleable__control:checked~label.sk-toggleable__label-arrow:before {content: \"▾\";}#sk-container-id-1 div.sk-estimator input.sk-toggleable__control:checked~label.sk-toggleable__label {background-color: #d4ebff;}#sk-container-id-1 div.sk-label input.sk-toggleable__control:checked~label.sk-toggleable__label {background-color: #d4ebff;}#sk-container-id-1 input.sk-hidden--visually {border: 0;clip: rect(1px 1px 1px 1px);clip: rect(1px, 1px, 1px, 1px);height: 1px;margin: -1px;overflow: hidden;padding: 0;position: absolute;width: 1px;}#sk-container-id-1 div.sk-estimator {font-family: monospace;background-color: #f0f8ff;border: 1px dotted black;border-radius: 0.25em;box-sizing: border-box;margin-bottom: 0.5em;}#sk-container-id-1 div.sk-estimator:hover {background-color: #d4ebff;}#sk-container-id-1 div.sk-parallel-item::after {content: \"\";width: 100%;border-bottom: 1px solid gray;flex-grow: 1;}#sk-container-id-1 div.sk-label:hover label.sk-toggleable__label {background-color: #d4ebff;}#sk-container-id-1 div.sk-serial::before {content: \"\";position: absolute;border-left: 1px solid gray;box-sizing: border-box;top: 0;bottom: 0;left: 50%;z-index: 0;}#sk-container-id-1 div.sk-serial {display: flex;flex-direction: column;align-items: center;background-color: white;padding-right: 0.2em;padding-left: 0.2em;position: relative;}#sk-container-id-1 div.sk-item {position: relative;z-index: 1;}#sk-container-id-1 div.sk-parallel {display: flex;align-items: stretch;justify-content: center;background-color: white;position: relative;}#sk-container-id-1 div.sk-item::before, #sk-container-id-1 div.sk-parallel-item::before {content: \"\";position: absolute;border-left: 1px solid gray;box-sizing: border-box;top: 0;bottom: 0;left: 50%;z-index: -1;}#sk-container-id-1 div.sk-parallel-item {display: flex;flex-direction: column;z-index: 1;position: relative;background-color: white;}#sk-container-id-1 div.sk-parallel-item:first-child::after {align-self: flex-end;width: 50%;}#sk-container-id-1 div.sk-parallel-item:last-child::after {align-self: flex-start;width: 50%;}#sk-container-id-1 div.sk-parallel-item:only-child::after {width: 0;}#sk-container-id-1 div.sk-dashed-wrapped {border: 1px dashed gray;margin: 0 0.4em 0.5em 0.4em;box-sizing: border-box;padding-bottom: 0.4em;background-color: white;}#sk-container-id-1 div.sk-label label {font-family: monospace;font-weight: bold;display: inline-block;line-height: 1.2em;}#sk-container-id-1 div.sk-label-container {text-align: center;}#sk-container-id-1 div.sk-container {/* jupyter's `normalize.less` sets `[hidden] { display: none; }` but bootstrap.min.css set `[hidden] { display: none !important; }` so we also need the `!important` here to be able to override the default hidden behavior on the sphinx rendered scikit-learn.org. See: https://github.com/scikit-learn/scikit-learn/issues/21755 */display: inline-block !important;position: relative;}#sk-container-id-1 div.sk-text-repr-fallback {display: none;}</style><div id=\"sk-container-id-1\" class=\"sk-top-container\"><div class=\"sk-text-repr-fallback\"><pre>RandomForestClassifier()</pre><b>In a Jupyter environment, please rerun this cell to show the HTML representation or trust the notebook. <br />On GitHub, the HTML representation is unable to render, please try loading this page with nbviewer.org.</b></div><div class=\"sk-container\" hidden><div class=\"sk-item\"><div class=\"sk-estimator sk-toggleable\"><input class=\"sk-toggleable__control sk-hidden--visually\" id=\"sk-estimator-id-1\" type=\"checkbox\" checked><label for=\"sk-estimator-id-1\" class=\"sk-toggleable__label sk-toggleable__label-arrow\">RandomForestClassifier</label><div class=\"sk-toggleable__content\"><pre>RandomForestClassifier()</pre></div></div></div></div></div>"
     },
     "execution_count": 8,
     "metadata": {},
     "output_type": "execute_result"
    }
   ],
   "source": [
    "from sklearn.ensemble import RandomForestClassifier\n",
    "\n",
    "model = RandomForestClassifier()\n",
    "model.fit(train_x, train_y)"
   ],
   "metadata": {
    "collapsed": false,
    "ExecuteTime": {
     "end_time": "2024-01-19T15:23:51.207661Z",
     "start_time": "2024-01-19T15:23:36.084337Z"
    }
   },
   "id": "49a4826c6c0fb1b"
  },
  {
   "cell_type": "markdown",
   "source": [
    "# 예측 수행\n",
    "\n",
    ".predict()를 통해 모델이 예측한 대출등급을 구해봅시다"
   ],
   "metadata": {
    "collapsed": false
   },
   "id": "3608d06775314bf0"
  },
  {
   "cell_type": "code",
   "execution_count": 9,
   "outputs": [],
   "source": [
    "pred = model.predict(test_x)"
   ],
   "metadata": {
    "collapsed": false,
    "ExecuteTime": {
     "end_time": "2024-01-19T15:23:53.271166Z",
     "start_time": "2024-01-19T15:23:51.213281Z"
    }
   },
   "id": "eb75750b20a8b761"
  },
  {
   "cell_type": "markdown",
   "source": [
    "# 제출양식에 예측결과 입력¶\n",
    "\n",
    "모델이 예측한 대출등급을 제출양식에 입력해 봅시다"
   ],
   "metadata": {
    "collapsed": false
   },
   "id": "ac84f243dc2a6c7e"
  },
  {
   "cell_type": "code",
   "execution_count": 11,
   "outputs": [
    {
     "data": {
      "text/plain": "               ID 대출등급\n0      TEST_00000    B\n1      TEST_00001    B\n2      TEST_00002    A\n3      TEST_00003    C\n4      TEST_00004    C\n...           ...  ...\n64192  TEST_64192    D\n64193  TEST_64193    D\n64194  TEST_64194    D\n64195  TEST_64195    C\n64196  TEST_64196    A\n\n[64197 rows x 2 columns]",
      "text/html": "<div>\n<style scoped>\n    .dataframe tbody tr th:only-of-type {\n        vertical-align: middle;\n    }\n\n    .dataframe tbody tr th {\n        vertical-align: top;\n    }\n\n    .dataframe thead th {\n        text-align: right;\n    }\n</style>\n<table border=\"1\" class=\"dataframe\">\n  <thead>\n    <tr style=\"text-align: right;\">\n      <th></th>\n      <th>ID</th>\n      <th>대출등급</th>\n    </tr>\n  </thead>\n  <tbody>\n    <tr>\n      <th>0</th>\n      <td>TEST_00000</td>\n      <td>B</td>\n    </tr>\n    <tr>\n      <th>1</th>\n      <td>TEST_00001</td>\n      <td>B</td>\n    </tr>\n    <tr>\n      <th>2</th>\n      <td>TEST_00002</td>\n      <td>A</td>\n    </tr>\n    <tr>\n      <th>3</th>\n      <td>TEST_00003</td>\n      <td>C</td>\n    </tr>\n    <tr>\n      <th>4</th>\n      <td>TEST_00004</td>\n      <td>C</td>\n    </tr>\n    <tr>\n      <th>...</th>\n      <td>...</td>\n      <td>...</td>\n    </tr>\n    <tr>\n      <th>64192</th>\n      <td>TEST_64192</td>\n      <td>D</td>\n    </tr>\n    <tr>\n      <th>64193</th>\n      <td>TEST_64193</td>\n      <td>D</td>\n    </tr>\n    <tr>\n      <th>64194</th>\n      <td>TEST_64194</td>\n      <td>D</td>\n    </tr>\n    <tr>\n      <th>64195</th>\n      <td>TEST_64195</td>\n      <td>C</td>\n    </tr>\n    <tr>\n      <th>64196</th>\n      <td>TEST_64196</td>\n      <td>A</td>\n    </tr>\n  </tbody>\n</table>\n<p>64197 rows × 2 columns</p>\n</div>"
     },
     "execution_count": 11,
     "metadata": {},
     "output_type": "execute_result"
    }
   ],
   "source": [
    "sample_submission = pd.read_csv('data/sample_submission.csv')\n",
    "sample_submission['대출등급'] = pred\n",
    "sample_submission"
   ],
   "metadata": {
    "collapsed": false,
    "ExecuteTime": {
     "end_time": "2024-01-19T15:24:17.538461Z",
     "start_time": "2024-01-19T15:24:17.486659Z"
    }
   },
   "id": "7bfcb95d39aaa7bf"
  },
  {
   "cell_type": "markdown",
   "source": [
    "# 예측결과 저장\n",
    "\n",
    "값이 기입된 제출물을 저장해 봅시다"
   ],
   "metadata": {
    "collapsed": false
   },
   "id": "9fbc948fe978a37e"
  },
  {
   "cell_type": "code",
   "execution_count": 18,
   "outputs": [],
   "source": [
    "sample_submission.to_csv('result/baseline_submit.csv', index=False)"
   ],
   "metadata": {
    "collapsed": false,
    "ExecuteTime": {
     "end_time": "2024-01-19T15:25:51.338500Z",
     "start_time": "2024-01-19T15:25:51.268792Z"
    }
   },
   "id": "68740d5b129fe33f"
  },
  {
   "cell_type": "code",
   "execution_count": null,
   "outputs": [],
   "source": [],
   "metadata": {
    "collapsed": false
   },
   "id": "1f7ff141434e9a4c"
  }
 ],
 "metadata": {
  "kernelspec": {
   "display_name": "Python 3",
   "language": "python",
   "name": "python3"
  },
  "language_info": {
   "codemirror_mode": {
    "name": "ipython",
    "version": 2
   },
   "file_extension": ".py",
   "mimetype": "text/x-python",
   "name": "python",
   "nbconvert_exporter": "python",
   "pygments_lexer": "ipython2",
   "version": "2.7.6"
  }
 },
 "nbformat": 4,
 "nbformat_minor": 5
}
