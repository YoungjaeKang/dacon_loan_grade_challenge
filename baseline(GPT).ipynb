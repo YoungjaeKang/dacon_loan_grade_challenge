{
 "cells": [
  {
   "cell_type": "code",
   "execution_count": null,
   "id": "initial_id",
   "metadata": {
    "collapsed": true
   },
   "outputs": [],
   "source": [
    "import pandas as pd\n",
    "from sklearn.model_selection import train_test_split\n",
    "from sklearn.ensemble import RandomForestClassifier\n",
    "from sklearn.metrics import f1_score\n",
    "\n",
    "# 데이터 불러오기\n",
    "data = pd.read_csv(\"train.csv\")  # 훈련 데이터 파일명을 적절히 변경하세요\n",
    "\n",
    "# 특성과 타겟 분리\n",
    "X = data.drop(columns=[\"대출등급\"])\n",
    "y = data[\"대출등급\"]\n",
    "\n",
    "# 훈련 데이터와 검증 데이터로 나누기\n",
    "X_train, X_val, y_train, y_val = train_test_split(X, y, test_size=0.2, random_state=42)\n",
    "\n",
    "# 모델 학습\n",
    "model = RandomForestClassifier()\n",
    "model.fit(X_train, y_train)\n",
    "\n",
    "# 검증 데이터로 예측\n",
    "y_pred = model.predict(X_val)\n",
    "\n",
    "# 평가: Macro F1 점수 계산\n",
    "f1_macro = f1_score(y_val, y_pred, average='macro')\n",
    "print(\"Macro F1 Score:\", f1_macro)\n"
   ]
  }
 ],
 "metadata": {
  "kernelspec": {
   "display_name": "Python 3",
   "language": "python",
   "name": "python3"
  },
  "language_info": {
   "codemirror_mode": {
    "name": "ipython",
    "version": 2
   },
   "file_extension": ".py",
   "mimetype": "text/x-python",
   "name": "python",
   "nbconvert_exporter": "python",
   "pygments_lexer": "ipython2",
   "version": "2.7.6"
  }
 },
 "nbformat": 4,
 "nbformat_minor": 5
}
