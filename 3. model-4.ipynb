{
 "cells": [
  {
   "cell_type": "markdown",
   "source": [
    "# Load Libraries"
   ],
   "metadata": {
    "collapsed": false
   },
   "id": "dd409c18929d1090"
  },
  {
   "cell_type": "code",
   "execution_count": 3,
   "outputs": [],
   "source": [
    "import pandas as pd\n",
    "import numpy as np\n",
    "import random\n",
    "import os\n",
    "import datetime\n",
    "\n",
    "# 시각화 패키지 불러오기\n",
    "import seaborn as sns\n",
    "import matplotlib.pyplot as plt\n",
    "import matplotlib.font_manager as fm\n",
    "\n",
    "# Suppress warnings \n",
    "import warnings\n",
    "warnings.filterwarnings('ignore')\n",
    "\n",
    "# font\n",
    "plt.rc('font', family='AppleGothic')\n",
    "\n",
    "# machine learning\n",
    "import xgboost as xgb\n",
    "import lightgbm as lgb\n",
    "import catboost as cb\n",
    "from sklearn.preprocessing import LabelEncoder\n",
    "from sklearn.ensemble import RandomForestClassifier\n",
    "from sklearn.preprocessing import RobustScaler\n",
    "from sklearn.model_selection import train_test_split, StratifiedKFold\n",
    "from sklearn.metrics import f1_score\n",
    "from sklearn.ensemble import VotingClassifier\n",
    "\n"
   ],
   "metadata": {
    "collapsed": false,
    "ExecuteTime": {
     "end_time": "2024-02-01T14:53:40.768779Z",
     "start_time": "2024-02-01T14:53:39.762589Z"
    }
   },
   "id": "871a3d9405115cfa"
  },
  {
   "cell_type": "markdown",
   "source": [
    "# Fixed Random Seed"
   ],
   "metadata": {
    "collapsed": false
   },
   "id": "767fc78011fe521a"
  },
  {
   "cell_type": "code",
   "execution_count": 4,
   "id": "initial_id",
   "metadata": {
    "collapsed": true,
    "ExecuteTime": {
     "end_time": "2024-02-01T14:53:40.768919Z",
     "start_time": "2024-02-01T14:53:40.764820Z"
    }
   },
   "outputs": [],
   "source": [
    "def seed_everything(seed):\n",
    "    random.seed(seed)\n",
    "    os.environ['PYTHONHASHSEED'] = str(seed)\n",
    "    np.random.seed(seed)\n",
    "\n",
    "seed_everything(42) # Seed 고정"
   ]
  },
  {
   "cell_type": "markdown",
   "source": [
    "# Load Dataset"
   ],
   "metadata": {
    "collapsed": false
   },
   "id": "d348be23a2a183ad"
  },
  {
   "cell_type": "code",
   "execution_count": 5,
   "outputs": [
    {
     "data": {
      "text/plain": "            ID      대출금액        대출기간       근로기간    주택소유상태       연간소득  \\\n0  TRAIN_00000  12480000   36 months    6 years      RENT   72000000   \n1  TRAIN_00001  14400000   60 months  10+ years  MORTGAGE  130800000   \n2  TRAIN_00002  12000000   36 months    5 years  MORTGAGE   96000000   \n\n   부채_대비_소득_비율  총계좌수   대출목적  최근_2년간_연체_횟수   총상환원금     총상환이자  총연체금액  연체계좌수 대출등급  \n0        18.90    15  부채 통합             0       0       0.0    0.0    0.0    C  \n1        22.33    21  주택 개선             0  373572  234060.0    0.0    0.0    B  \n2         8.60    14  부채 통합             0  928644  151944.0    0.0    0.0    A  ",
      "text/html": "<div>\n<style scoped>\n    .dataframe tbody tr th:only-of-type {\n        vertical-align: middle;\n    }\n\n    .dataframe tbody tr th {\n        vertical-align: top;\n    }\n\n    .dataframe thead th {\n        text-align: right;\n    }\n</style>\n<table border=\"1\" class=\"dataframe\">\n  <thead>\n    <tr style=\"text-align: right;\">\n      <th></th>\n      <th>ID</th>\n      <th>대출금액</th>\n      <th>대출기간</th>\n      <th>근로기간</th>\n      <th>주택소유상태</th>\n      <th>연간소득</th>\n      <th>부채_대비_소득_비율</th>\n      <th>총계좌수</th>\n      <th>대출목적</th>\n      <th>최근_2년간_연체_횟수</th>\n      <th>총상환원금</th>\n      <th>총상환이자</th>\n      <th>총연체금액</th>\n      <th>연체계좌수</th>\n      <th>대출등급</th>\n    </tr>\n  </thead>\n  <tbody>\n    <tr>\n      <th>0</th>\n      <td>TRAIN_00000</td>\n      <td>12480000</td>\n      <td>36 months</td>\n      <td>6 years</td>\n      <td>RENT</td>\n      <td>72000000</td>\n      <td>18.90</td>\n      <td>15</td>\n      <td>부채 통합</td>\n      <td>0</td>\n      <td>0</td>\n      <td>0.0</td>\n      <td>0.0</td>\n      <td>0.0</td>\n      <td>C</td>\n    </tr>\n    <tr>\n      <th>1</th>\n      <td>TRAIN_00001</td>\n      <td>14400000</td>\n      <td>60 months</td>\n      <td>10+ years</td>\n      <td>MORTGAGE</td>\n      <td>130800000</td>\n      <td>22.33</td>\n      <td>21</td>\n      <td>주택 개선</td>\n      <td>0</td>\n      <td>373572</td>\n      <td>234060.0</td>\n      <td>0.0</td>\n      <td>0.0</td>\n      <td>B</td>\n    </tr>\n    <tr>\n      <th>2</th>\n      <td>TRAIN_00002</td>\n      <td>12000000</td>\n      <td>36 months</td>\n      <td>5 years</td>\n      <td>MORTGAGE</td>\n      <td>96000000</td>\n      <td>8.60</td>\n      <td>14</td>\n      <td>부채 통합</td>\n      <td>0</td>\n      <td>928644</td>\n      <td>151944.0</td>\n      <td>0.0</td>\n      <td>0.0</td>\n      <td>A</td>\n    </tr>\n  </tbody>\n</table>\n</div>"
     },
     "metadata": {},
     "output_type": "display_data"
    },
    {
     "data": {
      "text/plain": "           ID      대출금액        대출기간     근로기간    주택소유상태       연간소득  \\\n0  TEST_00000  16800000   36 months  8 years  MORTGAGE  132000000   \n1  TEST_00001   8400000   36 months  5 years      RENT   89971200   \n2  TEST_00002  17280000   36 months  6 years      RENT  150000000   \n\n   부채_대비_소득_비율  총계좌수   대출목적  최근_2년간_연체_횟수    총상환원금     총상환이자  총연체금액  연체계좌수  \n0        19.64    12  주택 개선             0   394692  146604.0    0.0    0.0  \n1        15.84    25  부채 통합             0        0       0.0    0.0    0.0  \n2         8.41    20  신용 카드             0  1786980  281820.0    0.0    0.0  ",
      "text/html": "<div>\n<style scoped>\n    .dataframe tbody tr th:only-of-type {\n        vertical-align: middle;\n    }\n\n    .dataframe tbody tr th {\n        vertical-align: top;\n    }\n\n    .dataframe thead th {\n        text-align: right;\n    }\n</style>\n<table border=\"1\" class=\"dataframe\">\n  <thead>\n    <tr style=\"text-align: right;\">\n      <th></th>\n      <th>ID</th>\n      <th>대출금액</th>\n      <th>대출기간</th>\n      <th>근로기간</th>\n      <th>주택소유상태</th>\n      <th>연간소득</th>\n      <th>부채_대비_소득_비율</th>\n      <th>총계좌수</th>\n      <th>대출목적</th>\n      <th>최근_2년간_연체_횟수</th>\n      <th>총상환원금</th>\n      <th>총상환이자</th>\n      <th>총연체금액</th>\n      <th>연체계좌수</th>\n    </tr>\n  </thead>\n  <tbody>\n    <tr>\n      <th>0</th>\n      <td>TEST_00000</td>\n      <td>16800000</td>\n      <td>36 months</td>\n      <td>8 years</td>\n      <td>MORTGAGE</td>\n      <td>132000000</td>\n      <td>19.64</td>\n      <td>12</td>\n      <td>주택 개선</td>\n      <td>0</td>\n      <td>394692</td>\n      <td>146604.0</td>\n      <td>0.0</td>\n      <td>0.0</td>\n    </tr>\n    <tr>\n      <th>1</th>\n      <td>TEST_00001</td>\n      <td>8400000</td>\n      <td>36 months</td>\n      <td>5 years</td>\n      <td>RENT</td>\n      <td>89971200</td>\n      <td>15.84</td>\n      <td>25</td>\n      <td>부채 통합</td>\n      <td>0</td>\n      <td>0</td>\n      <td>0.0</td>\n      <td>0.0</td>\n      <td>0.0</td>\n    </tr>\n    <tr>\n      <th>2</th>\n      <td>TEST_00002</td>\n      <td>17280000</td>\n      <td>36 months</td>\n      <td>6 years</td>\n      <td>RENT</td>\n      <td>150000000</td>\n      <td>8.41</td>\n      <td>20</td>\n      <td>신용 카드</td>\n      <td>0</td>\n      <td>1786980</td>\n      <td>281820.0</td>\n      <td>0.0</td>\n      <td>0.0</td>\n    </tr>\n  </tbody>\n</table>\n</div>"
     },
     "metadata": {},
     "output_type": "display_data"
    }
   ],
   "source": [
    "train_df = pd.read_csv('data/train.csv')\n",
    "test_df = pd.read_csv('data/test.csv')\n",
    "\n",
    "display(train_df.head(3))\n",
    "display(test_df.head(3))"
   ],
   "metadata": {
    "collapsed": false,
    "ExecuteTime": {
     "end_time": "2024-02-01T14:53:41.272181Z",
     "start_time": "2024-02-01T14:53:41.086022Z"
    }
   },
   "id": "dd3cfc7b08c6d12a"
  },
  {
   "cell_type": "markdown",
   "source": [
    "# 데이터 전처리 1 : 학습 및 추론 데이터 설정¶\n",
    "\n",
    "모델에게 입력할 학습 데이터와 추론 데이터를 만들어 봅시다\n",
    "\n"
   ],
   "metadata": {
    "collapsed": false
   },
   "id": "b6a50918f377de9a"
  },
  {
   "cell_type": "code",
   "execution_count": 6,
   "outputs": [],
   "source": [
    "train_x = train_df.drop(columns=['ID', '대출등급'])\n",
    "train_y = train_df['대출등급']\n",
    "\n",
    "test_x = test_df.drop(columns=['ID'])"
   ],
   "metadata": {
    "collapsed": false,
    "ExecuteTime": {
     "end_time": "2024-02-01T14:53:41.573116Z",
     "start_time": "2024-02-01T14:53:41.570929Z"
    }
   },
   "id": "7f382d2b3720a5a9"
  },
  {
   "cell_type": "markdown",
   "source": [
    "# Visualization"
   ],
   "metadata": {
    "collapsed": false
   },
   "id": "1a5603ad85241372"
  },
  {
   "cell_type": "code",
   "execution_count": 7,
   "outputs": [
    {
     "data": {
      "text/plain": "Index(['ID', '대출금액', '대출기간', '근로기간', '주택소유상태', '연간소득', '부채_대비_소득_비율', '총계좌수',\n       '대출목적', '최근_2년간_연체_횟수', '총상환원금', '총상환이자', '총연체금액', '연체계좌수', '대출등급'],\n      dtype='object')"
     },
     "execution_count": 7,
     "metadata": {},
     "output_type": "execute_result"
    }
   ],
   "source": [
    "train_df.columns"
   ],
   "metadata": {
    "collapsed": false,
    "ExecuteTime": {
     "end_time": "2024-02-01T14:53:42.095131Z",
     "start_time": "2024-02-01T14:53:42.089170Z"
    }
   },
   "id": "b1484c648e220e18"
  },
  {
   "cell_type": "code",
   "execution_count": 8,
   "outputs": [
    {
     "data": {
      "text/plain": "<Figure size 640x480 with 1 Axes>",
      "image/png": "[encoded data removed]"
     },
     "metadata": {},
     "output_type": "display_data"
    }
   ],
   "source": [
    "sns.distplot(train_df['대출금액'].loc[train_df['대출등급']=='A'], label='A')\n",
    "sns.distplot(train_df['대출금액'].loc[train_df['대출등급']=='B'], label='B')\n",
    "sns.distplot(train_df['대출금액'].loc[train_df['대출등급']=='C'], label='C')\n",
    "sns.distplot(train_df['대출금액'].loc[train_df['대출등급']=='D'], label='D')\n",
    "sns.distplot(train_df['대출금액'].loc[train_df['대출등급']=='E'], label='E')\n",
    "sns.distplot(train_df['대출금액'].loc[train_df['대출등급']=='F'], label='F')\n",
    "sns.distplot(train_df['대출금액'].loc[train_df['대출등급']=='G'], label='G')\n",
    "plt.legend()\n",
    "plt.show()"
   ],
   "metadata": {
    "collapsed": false,
    "ExecuteTime": {
     "end_time": "2024-02-01T14:53:43.053526Z",
     "start_time": "2024-02-01T14:53:42.336555Z"
    }
   },
   "id": "fb001d3546536612"
  },
  {
   "cell_type": "code",
   "execution_count": 9,
   "outputs": [
    {
     "data": {
      "text/plain": "<Figure size 640x480 with 1 Axes>",
      "image/png": "[encoded data removed]"
     },
     "metadata": {},
     "output_type": "display_data"
    }
   ],
   "source": [
    "sns.distplot(np.log1p(train_df['연간소득'].loc[train_df['대출등급']=='A']), label='A')\n",
    "sns.distplot(np.log1p(train_df['연간소득'].loc[train_df['대출등급']=='B']), label='B')\n",
    "sns.distplot(np.log1p(train_df['연간소득'].loc[train_df['대출등급']=='C']), label='C')\n",
    "sns.distplot(np.log1p(train_df['연간소득'].loc[train_df['대출등급']=='D']), label='D')\n",
    "sns.distplot(np.log1p(train_df['연간소득'].loc[train_df['대출등급']=='E']), label='E')\n",
    "sns.distplot(np.log1p(train_df['연간소득'].loc[train_df['대출등급']=='F']), label='F')\n",
    "sns.distplot(np.log1p(train_df['연간소득'].loc[train_df['대출등급']=='G']), label='G')\n",
    "plt.legend()\n",
    "plt.show()"
   ],
   "metadata": {
    "collapsed": false,
    "ExecuteTime": {
     "end_time": "2024-02-01T14:53:43.915941Z",
     "start_time": "2024-02-01T14:53:43.065050Z"
    }
   },
   "id": "e42dc529cd72dc1c"
  },
  {
   "cell_type": "code",
   "execution_count": 10,
   "outputs": [
    {
     "data": {
      "text/plain": "<Figure size 1200x1200 with 9 Axes>",
      "image/png": "[encoded data removed]"
     },
     "metadata": {},
     "output_type": "display_data"
    }
   ],
   "source": [
    "# 전체 데이터 훑어보기\n",
    "target = train_x.hist(figsize=(12,12))\n",
    "plt.show()"
   ],
   "metadata": {
    "collapsed": false,
    "ExecuteTime": {
     "end_time": "2024-02-01T14:53:44.444855Z",
     "start_time": "2024-02-01T14:53:43.886134Z"
    }
   },
   "id": "b7dc209fba3ec6cb"
  },
  {
   "cell_type": "markdown",
   "source": [
    "# 데이터 전처리 2-1 : 범주형 변수 수치화 (근로기간, 대출기간)¶\n",
    "\n",
    "#### LabelEncoder를 통해 범주형 변수 수치화 진행"
   ],
   "metadata": {
    "collapsed": false
   },
   "id": "5a2b5be2d19713be"
  },
  {
   "cell_type": "code",
   "execution_count": 11,
   "outputs": [],
   "source": [
    "# '근로기간' 컬럼 데이터 매핑\n",
    "mapping = {\n",
    "    '6 years': 6,\n",
    "    '10+ years': 10,\n",
    "    '5 years': 5,\n",
    "    '8 years': 8,\n",
    "    'Unknown': 0,\n",
    "    '9 years': 9,\n",
    "    '2 years': 2,\n",
    "    '1 year': 1,\n",
    "    '3 years': 3,\n",
    "    '7 years': 7\n",
    "}\n",
    "\n",
    "# '근로기간' 컬럼을 숫자로 변환\n",
    "train_x['근로기간'] = train_x['근로기간'].map(mapping)\n",
    "test_x['근로기간'] = test_x['근로기간'].map(mapping)"
   ],
   "metadata": {
    "collapsed": false,
    "ExecuteTime": {
     "end_time": "2024-02-01T14:53:44.457594Z",
     "start_time": "2024-02-01T14:53:44.451383Z"
    }
   },
   "id": "e86ee678ccf01718"
  },
  {
   "cell_type": "code",
   "execution_count": 12,
   "outputs": [],
   "source": [
    "# 대출기간\n",
    "train_x['대출기간'] = train_x['대출기간'].str.extract('(\\d+)').astype(int)\n",
    "test_x['대출기간'] = test_x['대출기간'].str.extract('(\\d+)').astype(int)"
   ],
   "metadata": {
    "collapsed": false,
    "ExecuteTime": {
     "end_time": "2024-02-01T14:53:44.669694Z",
     "start_time": "2024-02-01T14:53:44.564434Z"
    }
   },
   "id": "165faa0669e14c0e"
  },
  {
   "cell_type": "markdown",
   "source": [
    "# 데이터 전처리 2-2 : 범주형 변수 수치화¶\n",
    "\n",
    "#### LabelEncoder를 통해 범주형 변수 수치화 진행"
   ],
   "metadata": {
    "collapsed": false
   },
   "id": "c7d61d3a4f2e6f9e"
  },
  {
   "cell_type": "code",
   "execution_count": 13,
   "outputs": [
    {
     "data": {
      "text/plain": "       대출금액  대출기간  근로기간  주택소유상태       연간소득  부채_대비_소득_비율  총계좌수  대출목적  \\\n0  12480000    36   6.0       3   72000000        18.90    15     1   \n1  14400000    60  10.0       1  130800000        22.33    21    10   \n2  12000000    36   5.0       1   96000000         8.60    14     1   \n\n   최근_2년간_연체_횟수   총상환원금     총상환이자  총연체금액  연체계좌수  \n0             0       0       0.0    0.0    0.0  \n1             0  373572  234060.0    0.0    0.0  \n2             0  928644  151944.0    0.0    0.0  ",
      "text/html": "<div>\n<style scoped>\n    .dataframe tbody tr th:only-of-type {\n        vertical-align: middle;\n    }\n\n    .dataframe tbody tr th {\n        vertical-align: top;\n    }\n\n    .dataframe thead th {\n        text-align: right;\n    }\n</style>\n<table border=\"1\" class=\"dataframe\">\n  <thead>\n    <tr style=\"text-align: right;\">\n      <th></th>\n      <th>대출금액</th>\n      <th>대출기간</th>\n      <th>근로기간</th>\n      <th>주택소유상태</th>\n      <th>연간소득</th>\n      <th>부채_대비_소득_비율</th>\n      <th>총계좌수</th>\n      <th>대출목적</th>\n      <th>최근_2년간_연체_횟수</th>\n      <th>총상환원금</th>\n      <th>총상환이자</th>\n      <th>총연체금액</th>\n      <th>연체계좌수</th>\n    </tr>\n  </thead>\n  <tbody>\n    <tr>\n      <th>0</th>\n      <td>12480000</td>\n      <td>36</td>\n      <td>6.0</td>\n      <td>3</td>\n      <td>72000000</td>\n      <td>18.90</td>\n      <td>15</td>\n      <td>1</td>\n      <td>0</td>\n      <td>0</td>\n      <td>0.0</td>\n      <td>0.0</td>\n      <td>0.0</td>\n    </tr>\n    <tr>\n      <th>1</th>\n      <td>14400000</td>\n      <td>60</td>\n      <td>10.0</td>\n      <td>1</td>\n      <td>130800000</td>\n      <td>22.33</td>\n      <td>21</td>\n      <td>10</td>\n      <td>0</td>\n      <td>373572</td>\n      <td>234060.0</td>\n      <td>0.0</td>\n      <td>0.0</td>\n    </tr>\n    <tr>\n      <th>2</th>\n      <td>12000000</td>\n      <td>36</td>\n      <td>5.0</td>\n      <td>1</td>\n      <td>96000000</td>\n      <td>8.60</td>\n      <td>14</td>\n      <td>1</td>\n      <td>0</td>\n      <td>928644</td>\n      <td>151944.0</td>\n      <td>0.0</td>\n      <td>0.0</td>\n    </tr>\n  </tbody>\n</table>\n</div>"
     },
     "metadata": {},
     "output_type": "display_data"
    },
    {
     "data": {
      "text/plain": "       대출금액  대출기간  근로기간  주택소유상태       연간소득  부채_대비_소득_비율  총계좌수  대출목적  \\\n0  16800000    36   8.0       1  132000000        19.64    12    10   \n1   8400000    36   5.0       3   89971200        15.84    25     1   \n2  17280000    36   6.0       3  150000000         8.41    20     3   \n\n   최근_2년간_연체_횟수    총상환원금     총상환이자  총연체금액  연체계좌수  \n0             0   394692  146604.0    0.0    0.0  \n1             0        0       0.0    0.0    0.0  \n2             0  1786980  281820.0    0.0    0.0  ",
      "text/html": "<div>\n<style scoped>\n    .dataframe tbody tr th:only-of-type {\n        vertical-align: middle;\n    }\n\n    .dataframe tbody tr th {\n        vertical-align: top;\n    }\n\n    .dataframe thead th {\n        text-align: right;\n    }\n</style>\n<table border=\"1\" class=\"dataframe\">\n  <thead>\n    <tr style=\"text-align: right;\">\n      <th></th>\n      <th>대출금액</th>\n      <th>대출기간</th>\n      <th>근로기간</th>\n      <th>주택소유상태</th>\n      <th>연간소득</th>\n      <th>부채_대비_소득_비율</th>\n      <th>총계좌수</th>\n      <th>대출목적</th>\n      <th>최근_2년간_연체_횟수</th>\n      <th>총상환원금</th>\n      <th>총상환이자</th>\n      <th>총연체금액</th>\n      <th>연체계좌수</th>\n    </tr>\n  </thead>\n  <tbody>\n    <tr>\n      <th>0</th>\n      <td>16800000</td>\n      <td>36</td>\n      <td>8.0</td>\n      <td>1</td>\n      <td>132000000</td>\n      <td>19.64</td>\n      <td>12</td>\n      <td>10</td>\n      <td>0</td>\n      <td>394692</td>\n      <td>146604.0</td>\n      <td>0.0</td>\n      <td>0.0</td>\n    </tr>\n    <tr>\n      <th>1</th>\n      <td>8400000</td>\n      <td>36</td>\n      <td>5.0</td>\n      <td>3</td>\n      <td>89971200</td>\n      <td>15.84</td>\n      <td>25</td>\n      <td>1</td>\n      <td>0</td>\n      <td>0</td>\n      <td>0.0</td>\n      <td>0.0</td>\n      <td>0.0</td>\n    </tr>\n    <tr>\n      <th>2</th>\n      <td>17280000</td>\n      <td>36</td>\n      <td>6.0</td>\n      <td>3</td>\n      <td>150000000</td>\n      <td>8.41</td>\n      <td>20</td>\n      <td>3</td>\n      <td>0</td>\n      <td>1786980</td>\n      <td>281820.0</td>\n      <td>0.0</td>\n      <td>0.0</td>\n    </tr>\n  </tbody>\n</table>\n</div>"
     },
     "metadata": {},
     "output_type": "display_data"
    }
   ],
   "source": [
    "categorical_features = ['주택소유상태', '대출목적']\n",
    "\n",
    "for i in categorical_features:\n",
    "    le = LabelEncoder()\n",
    "    le=le.fit(train_x[i]) \n",
    "    train_x[i]=le.transform(train_x[i])\n",
    "    \n",
    "    for case in np.unique(test_x[i]):\n",
    "        if case not in le.classes_: \n",
    "            le.classes_ = np.append(le.classes_, case) \n",
    "    test_x[i]=le.transform(test_x[i])\n",
    "\n",
    "display(train_x.head(3))\n",
    "display(test_x.head(3))"
   ],
   "metadata": {
    "collapsed": false,
    "ExecuteTime": {
     "end_time": "2024-02-01T14:53:44.734750Z",
     "start_time": "2024-02-01T14:53:44.680310Z"
    }
   },
   "id": "78aa68c48b475e1b"
  },
  {
   "cell_type": "markdown",
   "source": [
    "# 데이터 전처리 3 : 수치형 변수 전처리\n",
    "\n",
    "#### "
   ],
   "metadata": {
    "collapsed": false
   },
   "id": "968cca978a921f5f"
  },
  {
   "cell_type": "code",
   "execution_count": 13,
   "outputs": [],
   "source": [],
   "metadata": {
    "collapsed": false,
    "ExecuteTime": {
     "end_time": "2024-02-01T14:53:44.845086Z",
     "start_time": "2024-02-01T14:53:44.833300Z"
    }
   },
   "id": "85e0f2012558a5e3"
  },
  {
   "cell_type": "markdown",
   "source": [
    "# 데이터 전처리 4 : 새로운 피쳐 생성\n",
    "\n",
    "1. 연간소득 대비 대출금액 비율\n",
    "2. 대출금액 대비 총상환원금+총상환이자\n",
    "3. 총상환이자/총상환원금"
   ],
   "metadata": {
    "collapsed": false
   },
   "id": "2e57ee4a7df78a0c"
  },
  {
   "cell_type": "code",
   "execution_count": 14,
   "outputs": [],
   "source": [
    "# '연간소득'이 0인 경우를 NaN으로 대체\n",
    "train_x['연간소득'] = train_x['연간소득'].replace(0, np.nan)\n",
    "test_x['연간소득'] = test_x['연간소득'].replace(0, np.nan)"
   ],
   "metadata": {
    "collapsed": false,
    "ExecuteTime": {
     "end_time": "2024-02-01T14:53:45.322758Z",
     "start_time": "2024-02-01T14:53:45.318277Z"
    }
   },
   "id": "50baa3c35d54161e"
  },
  {
   "cell_type": "code",
   "execution_count": 15,
   "outputs": [],
   "source": [
    "# 연간소득 대비 대출금액 비율\n",
    "train_x['대출금액_연간소득_비율'] = train_x['대출금액'] / train_x['연간소득']\n",
    "test_x['대출금액_연간소득_비율'] = test_x['대출금액'] / test_x['연간소득']"
   ],
   "metadata": {
    "collapsed": false,
    "ExecuteTime": {
     "end_time": "2024-02-01T14:53:45.699411Z",
     "start_time": "2024-02-01T14:53:45.690885Z"
    }
   },
   "id": "dd91620a7d1baeac"
  },
  {
   "cell_type": "code",
   "execution_count": 16,
   "outputs": [],
   "source": [
    "# 연간소득 대비 총상환원금+총상환이자\n",
    "train_x['총상환현금_연간소득_비율'] = (train_x['총상환원금']+train_x['총상환이자']) / train_x['대출금액']\n",
    "test_x['총상환현금_연간소득_비율'] = (test_x['총상환원금']+test_x['총상환이자']) / test_x['대출금액']"
   ],
   "metadata": {
    "collapsed": false,
    "ExecuteTime": {
     "end_time": "2024-02-01T14:53:46.022871Z",
     "start_time": "2024-02-01T14:53:46.018005Z"
    }
   },
   "id": "45576ac8da295411"
  },
  {
   "cell_type": "code",
   "execution_count": 17,
   "outputs": [],
   "source": [
    "# 총상환이자/총상환원금\n",
    "train_x['이자비율'] = train_x['총상환이자'] / train_x['총상환원금']\n",
    "test_x['이자비율'] = test_x['총상환이자'] / test_x['총상환원금']\n",
    "\n",
    "# '이자비율'이 inf인 경우를 NaN으로 대체\n",
    "train_x['이자비율'].replace([np.inf, -np.inf], np.nan, inplace=True)\n",
    "test_x['이자비율'].replace([np.inf, -np.inf], np.nan, inplace=True)\n",
    "\n",
    "# NaN 값을 0으로 대체\n",
    "train_x['이자비율'].fillna(0, inplace=True)\n",
    "test_x['이자비율'].fillna(0, inplace=True)"
   ],
   "metadata": {
    "collapsed": false,
    "ExecuteTime": {
     "end_time": "2024-02-01T14:53:46.359494Z",
     "start_time": "2024-02-01T14:53:46.348721Z"
    }
   },
   "id": "933d571a1dd868df"
  },
  {
   "cell_type": "code",
   "execution_count": 18,
   "outputs": [],
   "source": [
    "# 연체계좌비율\n",
    "train_x['연체계좌비율'] = train_x['연체계좌수'] / train_x['총계좌수']\n",
    "test_x['연체계좌비율'] = test_x['연체계좌수'] / test_x['총계좌수']"
   ],
   "metadata": {
    "collapsed": false,
    "ExecuteTime": {
     "end_time": "2024-02-01T14:53:46.632015Z",
     "start_time": "2024-02-01T14:53:46.624265Z"
    }
   },
   "id": "fee8eea17fc615d9"
  },
  {
   "cell_type": "markdown",
   "source": [
    "# 데이터 전처리 5 : 필요없는 피쳐 정리"
   ],
   "metadata": {
    "collapsed": false
   },
   "id": "7ec4da4eeaf5ad41"
  },
  {
   "cell_type": "code",
   "execution_count": 19,
   "outputs": [],
   "source": [
    "train_x = train_x.drop(columns=['총상환원금', '총상환이자', '총계좌수'])\n",
    "test_x = test_x.drop(columns=['총상환원금', '총상환이자', '총계좌수'])"
   ],
   "metadata": {
    "collapsed": false,
    "ExecuteTime": {
     "end_time": "2024-02-01T14:53:47.787011Z",
     "start_time": "2024-02-01T14:53:47.783593Z"
    }
   },
   "id": "3602369fde04e420"
  },
  {
   "cell_type": "code",
   "execution_count": 20,
   "outputs": [
    {
     "data": {
      "text/plain": "       대출금액  대출기간  근로기간  주택소유상태         연간소득  부채_대비_소득_비율  대출목적  최근_2년간_연체_횟수  \\\n0  12480000    36   6.0       3   72000000.0        18.90     1             0   \n1  14400000    60  10.0       1  130800000.0        22.33    10             0   \n2  12000000    36   5.0       1   96000000.0         8.60     1             0   \n\n   총연체금액  연체계좌수  대출금액_연간소득_비율  총상환현금_연간소득_비율      이자비율  연체계좌비율  \n0    0.0    0.0      0.173333       0.000000  0.000000     0.0  \n1    0.0    0.0      0.110092       0.042197  0.626546     0.0  \n2    0.0    0.0      0.125000       0.090049  0.163619     0.0  ",
      "text/html": "<div>\n<style scoped>\n    .dataframe tbody tr th:only-of-type {\n        vertical-align: middle;\n    }\n\n    .dataframe tbody tr th {\n        vertical-align: top;\n    }\n\n    .dataframe thead th {\n        text-align: right;\n    }\n</style>\n<table border=\"1\" class=\"dataframe\">\n  <thead>\n    <tr style=\"text-align: right;\">\n      <th></th>\n      <th>대출금액</th>\n      <th>대출기간</th>\n      <th>근로기간</th>\n      <th>주택소유상태</th>\n      <th>연간소득</th>\n      <th>부채_대비_소득_비율</th>\n      <th>대출목적</th>\n      <th>최근_2년간_연체_횟수</th>\n      <th>총연체금액</th>\n      <th>연체계좌수</th>\n      <th>대출금액_연간소득_비율</th>\n      <th>총상환현금_연간소득_비율</th>\n      <th>이자비율</th>\n      <th>연체계좌비율</th>\n    </tr>\n  </thead>\n  <tbody>\n    <tr>\n      <th>0</th>\n      <td>12480000</td>\n      <td>36</td>\n      <td>6.0</td>\n      <td>3</td>\n      <td>72000000.0</td>\n      <td>18.90</td>\n      <td>1</td>\n      <td>0</td>\n      <td>0.0</td>\n      <td>0.0</td>\n      <td>0.173333</td>\n      <td>0.000000</td>\n      <td>0.000000</td>\n      <td>0.0</td>\n    </tr>\n    <tr>\n      <th>1</th>\n      <td>14400000</td>\n      <td>60</td>\n      <td>10.0</td>\n      <td>1</td>\n      <td>130800000.0</td>\n      <td>22.33</td>\n      <td>10</td>\n      <td>0</td>\n      <td>0.0</td>\n      <td>0.0</td>\n      <td>0.110092</td>\n      <td>0.042197</td>\n      <td>0.626546</td>\n      <td>0.0</td>\n    </tr>\n    <tr>\n      <th>2</th>\n      <td>12000000</td>\n      <td>36</td>\n      <td>5.0</td>\n      <td>1</td>\n      <td>96000000.0</td>\n      <td>8.60</td>\n      <td>1</td>\n      <td>0</td>\n      <td>0.0</td>\n      <td>0.0</td>\n      <td>0.125000</td>\n      <td>0.090049</td>\n      <td>0.163619</td>\n      <td>0.0</td>\n    </tr>\n  </tbody>\n</table>\n</div>"
     },
     "metadata": {},
     "output_type": "display_data"
    },
    {
     "data": {
      "text/plain": "       대출금액  대출기간  근로기간  주택소유상태         연간소득  부채_대비_소득_비율  대출목적  최근_2년간_연체_횟수  \\\n0  16800000    36   8.0       1  132000000.0        19.64    10             0   \n1   8400000    36   5.0       3   89971200.0        15.84     1             0   \n2  17280000    36   6.0       3  150000000.0         8.41     3             0   \n\n   총연체금액  연체계좌수  대출금액_연간소득_비율  총상환현금_연간소득_비율      이자비율  연체계좌비율  \n0    0.0    0.0      0.127273       0.032220  0.371439     0.0  \n1    0.0    0.0      0.093363       0.000000  0.000000     0.0  \n2    0.0    0.0      0.115200       0.119722  0.157707     0.0  ",
      "text/html": "<div>\n<style scoped>\n    .dataframe tbody tr th:only-of-type {\n        vertical-align: middle;\n    }\n\n    .dataframe tbody tr th {\n        vertical-align: top;\n    }\n\n    .dataframe thead th {\n        text-align: right;\n    }\n</style>\n<table border=\"1\" class=\"dataframe\">\n  <thead>\n    <tr style=\"text-align: right;\">\n      <th></th>\n      <th>대출금액</th>\n      <th>대출기간</th>\n      <th>근로기간</th>\n      <th>주택소유상태</th>\n      <th>연간소득</th>\n      <th>부채_대비_소득_비율</th>\n      <th>대출목적</th>\n      <th>최근_2년간_연체_횟수</th>\n      <th>총연체금액</th>\n      <th>연체계좌수</th>\n      <th>대출금액_연간소득_비율</th>\n      <th>총상환현금_연간소득_비율</th>\n      <th>이자비율</th>\n      <th>연체계좌비율</th>\n    </tr>\n  </thead>\n  <tbody>\n    <tr>\n      <th>0</th>\n      <td>16800000</td>\n      <td>36</td>\n      <td>8.0</td>\n      <td>1</td>\n      <td>132000000.0</td>\n      <td>19.64</td>\n      <td>10</td>\n      <td>0</td>\n      <td>0.0</td>\n      <td>0.0</td>\n      <td>0.127273</td>\n      <td>0.032220</td>\n      <td>0.371439</td>\n      <td>0.0</td>\n    </tr>\n    <tr>\n      <th>1</th>\n      <td>8400000</td>\n      <td>36</td>\n      <td>5.0</td>\n      <td>3</td>\n      <td>89971200.0</td>\n      <td>15.84</td>\n      <td>1</td>\n      <td>0</td>\n      <td>0.0</td>\n      <td>0.0</td>\n      <td>0.093363</td>\n      <td>0.000000</td>\n      <td>0.000000</td>\n      <td>0.0</td>\n    </tr>\n    <tr>\n      <th>2</th>\n      <td>17280000</td>\n      <td>36</td>\n      <td>6.0</td>\n      <td>3</td>\n      <td>150000000.0</td>\n      <td>8.41</td>\n      <td>3</td>\n      <td>0</td>\n      <td>0.0</td>\n      <td>0.0</td>\n      <td>0.115200</td>\n      <td>0.119722</td>\n      <td>0.157707</td>\n      <td>0.0</td>\n    </tr>\n  </tbody>\n</table>\n</div>"
     },
     "metadata": {},
     "output_type": "display_data"
    }
   ],
   "source": [
    "# 데이터 확인\n",
    "display(train_x.head(3))\n",
    "display(test_x.head(3))"
   ],
   "metadata": {
    "collapsed": false,
    "ExecuteTime": {
     "end_time": "2024-02-01T14:53:48.190370Z",
     "start_time": "2024-02-01T14:53:48.183781Z"
    }
   },
   "id": "bad928918bd1d059"
  },
  {
   "cell_type": "markdown",
   "source": [
    "# 데이터 전처리 6 : 스케일링\n",
    "\n",
    "이상치가 많은 데이터에는 로버스트 스케일링이 유리할 수 있고, 데이터의 분포가 정규분포를 따른다고 가정하는 모델(예: 선형 회귀, 로지스틱 회귀)에는 표준화가 적합할 수 있습니다. 반면, 거리 기반의 알고리즘(예: k-NN, SVM)을 사용할 때는 정규화를 고려할 수 있습니다.\n",
    "\n",
    "1. 표준화 (Standardization) : 데이터의 평균을 0, 표준편차를 1로 만든다. StandardScaler.\n",
    "2. 정규화 (Normalization) : 데이터의 값을 0과 1 또는 -1과 1 사이의 범위로 조정한다. MinMaxScaler.\n",
    "3. 로버스트 스케일링 (Robust Scaling) : 이상치의 영향을 최소화하면서 데이터의 중앙값을 0으로, IQR을 1로 조정한다. RobustScaler"
   ],
   "metadata": {
    "collapsed": false
   },
   "id": "64466b293e89f9e9"
  },
  {
   "cell_type": "code",
   "execution_count": 21,
   "outputs": [],
   "source": [
    "# RobustScaler 적용\n",
    "scaler = RobustScaler()\n",
    "X_train_scaled = scaler.fit_transform(train_x)\n",
    "X_test_scaled = scaler.transform(test_x)"
   ],
   "metadata": {
    "collapsed": false,
    "ExecuteTime": {
     "end_time": "2024-02-01T14:53:48.908266Z",
     "start_time": "2024-02-01T14:53:48.858099Z"
    }
   },
   "id": "7f294dc3bc71f888"
  },
  {
   "cell_type": "code",
   "execution_count": 22,
   "outputs": [
    {
     "data": {
      "text/plain": "       대출금액  대출기간  근로기간  주택소유상태         연간소득  부채_대비_소득_비율  대출목적  최근_2년간_연체_횟수  \\\n0  12480000    36   6.0       3   72000000.0        18.90     1             0   \n1  14400000    60  10.0       1  130800000.0        22.33    10             0   \n2  12000000    36   5.0       1   96000000.0         8.60     1             0   \n\n   총연체금액  연체계좌수  대출금액_연간소득_비율  총상환현금_연간소득_비율      이자비율  연체계좌비율  \n0    0.0    0.0      0.173333       0.000000  0.000000     0.0  \n1    0.0    0.0      0.110092       0.042197  0.626546     0.0  \n2    0.0    0.0      0.125000       0.090049  0.163619     0.0  ",
      "text/html": "<div>\n<style scoped>\n    .dataframe tbody tr th:only-of-type {\n        vertical-align: middle;\n    }\n\n    .dataframe tbody tr th {\n        vertical-align: top;\n    }\n\n    .dataframe thead th {\n        text-align: right;\n    }\n</style>\n<table border=\"1\" class=\"dataframe\">\n  <thead>\n    <tr style=\"text-align: right;\">\n      <th></th>\n      <th>대출금액</th>\n      <th>대출기간</th>\n      <th>근로기간</th>\n      <th>주택소유상태</th>\n      <th>연간소득</th>\n      <th>부채_대비_소득_비율</th>\n      <th>대출목적</th>\n      <th>최근_2년간_연체_횟수</th>\n      <th>총연체금액</th>\n      <th>연체계좌수</th>\n      <th>대출금액_연간소득_비율</th>\n      <th>총상환현금_연간소득_비율</th>\n      <th>이자비율</th>\n      <th>연체계좌비율</th>\n    </tr>\n  </thead>\n  <tbody>\n    <tr>\n      <th>0</th>\n      <td>12480000</td>\n      <td>36</td>\n      <td>6.0</td>\n      <td>3</td>\n      <td>72000000.0</td>\n      <td>18.90</td>\n      <td>1</td>\n      <td>0</td>\n      <td>0.0</td>\n      <td>0.0</td>\n      <td>0.173333</td>\n      <td>0.000000</td>\n      <td>0.000000</td>\n      <td>0.0</td>\n    </tr>\n    <tr>\n      <th>1</th>\n      <td>14400000</td>\n      <td>60</td>\n      <td>10.0</td>\n      <td>1</td>\n      <td>130800000.0</td>\n      <td>22.33</td>\n      <td>10</td>\n      <td>0</td>\n      <td>0.0</td>\n      <td>0.0</td>\n      <td>0.110092</td>\n      <td>0.042197</td>\n      <td>0.626546</td>\n      <td>0.0</td>\n    </tr>\n    <tr>\n      <th>2</th>\n      <td>12000000</td>\n      <td>36</td>\n      <td>5.0</td>\n      <td>1</td>\n      <td>96000000.0</td>\n      <td>8.60</td>\n      <td>1</td>\n      <td>0</td>\n      <td>0.0</td>\n      <td>0.0</td>\n      <td>0.125000</td>\n      <td>0.090049</td>\n      <td>0.163619</td>\n      <td>0.0</td>\n    </tr>\n  </tbody>\n</table>\n</div>"
     },
     "metadata": {},
     "output_type": "display_data"
    },
    {
     "data": {
      "text/plain": "       대출금액  대출기간  근로기간  주택소유상태         연간소득  부채_대비_소득_비율  대출목적  최근_2년간_연체_횟수  \\\n0  16800000    36   8.0       1  132000000.0        19.64    10             0   \n1   8400000    36   5.0       3   89971200.0        15.84     1             0   \n2  17280000    36   6.0       3  150000000.0         8.41     3             0   \n\n   총연체금액  연체계좌수  대출금액_연간소득_비율  총상환현금_연간소득_비율      이자비율  연체계좌비율  \n0    0.0    0.0      0.127273       0.032220  0.371439     0.0  \n1    0.0    0.0      0.093363       0.000000  0.000000     0.0  \n2    0.0    0.0      0.115200       0.119722  0.157707     0.0  ",
      "text/html": "<div>\n<style scoped>\n    .dataframe tbody tr th:only-of-type {\n        vertical-align: middle;\n    }\n\n    .dataframe tbody tr th {\n        vertical-align: top;\n    }\n\n    .dataframe thead th {\n        text-align: right;\n    }\n</style>\n<table border=\"1\" class=\"dataframe\">\n  <thead>\n    <tr style=\"text-align: right;\">\n      <th></th>\n      <th>대출금액</th>\n      <th>대출기간</th>\n      <th>근로기간</th>\n      <th>주택소유상태</th>\n      <th>연간소득</th>\n      <th>부채_대비_소득_비율</th>\n      <th>대출목적</th>\n      <th>최근_2년간_연체_횟수</th>\n      <th>총연체금액</th>\n      <th>연체계좌수</th>\n      <th>대출금액_연간소득_비율</th>\n      <th>총상환현금_연간소득_비율</th>\n      <th>이자비율</th>\n      <th>연체계좌비율</th>\n    </tr>\n  </thead>\n  <tbody>\n    <tr>\n      <th>0</th>\n      <td>16800000</td>\n      <td>36</td>\n      <td>8.0</td>\n      <td>1</td>\n      <td>132000000.0</td>\n      <td>19.64</td>\n      <td>10</td>\n      <td>0</td>\n      <td>0.0</td>\n      <td>0.0</td>\n      <td>0.127273</td>\n      <td>0.032220</td>\n      <td>0.371439</td>\n      <td>0.0</td>\n    </tr>\n    <tr>\n      <th>1</th>\n      <td>8400000</td>\n      <td>36</td>\n      <td>5.0</td>\n      <td>3</td>\n      <td>89971200.0</td>\n      <td>15.84</td>\n      <td>1</td>\n      <td>0</td>\n      <td>0.0</td>\n      <td>0.0</td>\n      <td>0.093363</td>\n      <td>0.000000</td>\n      <td>0.000000</td>\n      <td>0.0</td>\n    </tr>\n    <tr>\n      <th>2</th>\n      <td>17280000</td>\n      <td>36</td>\n      <td>6.0</td>\n      <td>3</td>\n      <td>150000000.0</td>\n      <td>8.41</td>\n      <td>3</td>\n      <td>0</td>\n      <td>0.0</td>\n      <td>0.0</td>\n      <td>0.115200</td>\n      <td>0.119722</td>\n      <td>0.157707</td>\n      <td>0.0</td>\n    </tr>\n  </tbody>\n</table>\n</div>"
     },
     "metadata": {},
     "output_type": "display_data"
    }
   ],
   "source": [
    "# 최종 스케일링까지 적용된 데이터 확인\n",
    "display(train_x.head(3))\n",
    "display(test_x.head(3))"
   ],
   "metadata": {
    "collapsed": false,
    "ExecuteTime": {
     "end_time": "2024-02-01T14:53:49.317258Z",
     "start_time": "2024-02-01T14:53:49.310720Z"
    }
   },
   "id": "a499debdc56ea436"
  },
  {
   "cell_type": "markdown",
   "source": [
    "# train_y 인코딩"
   ],
   "metadata": {
    "collapsed": false
   },
   "id": "a9470e23108ad6d9"
  },
  {
   "cell_type": "code",
   "execution_count": 23,
   "outputs": [],
   "source": [
    "# train_y 문자열 레이블 숫자로 인코딩\n",
    "le = LabelEncoder()\n",
    "le=le.fit(train_y)\n",
    "train_y=le.transform(train_y)"
   ],
   "metadata": {
    "collapsed": false,
    "ExecuteTime": {
     "end_time": "2024-02-01T14:53:49.976583Z",
     "start_time": "2024-02-01T14:53:49.964810Z"
    }
   },
   "id": "9fbff608024a297d"
  },
  {
   "cell_type": "markdown",
   "source": [
    "# 모델 선정 및 학습¶\n",
    "\n",
    "대출등급 분류를 위한 AI 모델을 정하고 학습시켜 봅시다"
   ],
   "metadata": {
    "collapsed": false
   },
   "id": "909a7d020a8483b2"
  },
  {
   "cell_type": "code",
   "execution_count": 24,
   "outputs": [],
   "source": [
    "# K-Fold가 없을 때\n",
    "\n",
    "# model = xgb.XGBClassifier(objective='multi:softmax', num_class=7)\n",
    "# model = xgb.XGBClassifier(\n",
    "#     learning_rate=0.1,          # 학습률 (보통 0.01 ~ 0.3 범위에서 조정)\n",
    "#     n_estimators=100,           # 트리의 개수 (더 많은 트리 사용 가능)\n",
    "#     max_depth=3,                # 트리의 최대 깊이 (과적합 방지를 위해 조절)\n",
    "#     min_child_weight=1,         # 각 리프 노드의 최소 가중치 합 (과적합 방지를 위해 조절)\n",
    "#     gamma=0,                    # 분할을 수행할 때 필요한 최소 손실 감소 (과적합 방지를 위해 조절)\n",
    "#     subsample=0.8,              # 각 트리에서 사용할 학습 데이터의 비율 (0.8이나 0.9 사용)\n",
    "#     colsample_bytree=0.8,       # 각 트리에서 사용할 피처의 비율 (0.8이나 0.9 사용)\n",
    "#     objective='multi:softmax',\n",
    "#     num_class=7\n",
    "# )\n",
    "\n",
    "# model.fit(X_train_scaled, train_y)"
   ],
   "metadata": {
    "collapsed": false,
    "ExecuteTime": {
     "end_time": "2024-02-01T14:53:51.088878Z",
     "start_time": "2024-02-01T14:53:51.056137Z"
    }
   },
   "id": "49a4826c6c0fb1b"
  },
  {
   "cell_type": "code",
   "execution_count": 24,
   "outputs": [],
   "source": [],
   "metadata": {
    "collapsed": false,
    "ExecuteTime": {
     "end_time": "2024-02-01T14:53:51.560616Z",
     "start_time": "2024-02-01T14:53:51.553074Z"
    }
   },
   "id": "35e2147bf6f593e1"
  },
  {
   "cell_type": "markdown",
   "source": [
    "# K-Fold 검증"
   ],
   "metadata": {
    "collapsed": false
   },
   "id": "783105602d4115a8"
  },
  {
   "cell_type": "code",
   "execution_count": 29,
   "outputs": [],
   "source": [
    "# 모델 정의\n",
    "xgb_model = xgb.XGBClassifier()\n",
    "catboost_model = cb.CatBoostClassifier(iterations=500)\n",
    "lgbm_model = lgb.LGBMClassifier()"
   ],
   "metadata": {
    "collapsed": false,
    "ExecuteTime": {
     "end_time": "2024-02-01T14:55:30.863272Z",
     "start_time": "2024-02-01T14:55:30.842543Z"
    }
   },
   "id": "eaf1aa5dae6dd0f3"
  },
  {
   "cell_type": "code",
   "execution_count": 30,
   "outputs": [],
   "source": [
    "# VotingClassifier를 사용하여 앙상블 모델 정의\n",
    "ensemble_model = VotingClassifier(estimators=[('xgb', xgb_model), ('catboost', catboost_model), ('lgbm', lgbm_model)], voting='soft')\n",
    "# StratifiedKFold를 사용하여 k-fold 교차 검증을 수행"
   ],
   "metadata": {
    "collapsed": false,
    "ExecuteTime": {
     "end_time": "2024-02-01T14:55:31.189890Z",
     "start_time": "2024-02-01T14:55:31.186684Z"
    }
   },
   "id": "6556f346db6f5f2b"
  },
  {
   "cell_type": "code",
   "execution_count": 31,
   "outputs": [],
   "source": [
    "# 데이터 분할: 학습용 데이터와 검증용 데이터\n",
    "X_train, X_valid, y_train, y_valid = train_test_split(X_train_scaled, train_y, test_size=0.2)"
   ],
   "metadata": {
    "collapsed": false,
    "ExecuteTime": {
     "end_time": "2024-02-01T14:55:31.544089Z",
     "start_time": "2024-02-01T14:55:31.533521Z"
    }
   },
   "id": "7af8694c4854467c"
  },
  {
   "cell_type": "code",
   "execution_count": null,
   "outputs": [
    {
     "name": "stdout",
     "output_type": "stream",
     "text": [
      "Learning rate set to 0.177384\n",
      "0:\tlearn: 1.4301171\ttotal: 81.9ms\tremaining: 40.9s\n",
      "1:\tlearn: 1.1543679\ttotal: 102ms\tremaining: 25.3s\n",
      "2:\tlearn: 1.0021389\ttotal: 121ms\tremaining: 20s\n",
      "3:\tlearn: 0.9018468\ttotal: 138ms\tremaining: 17.1s\n",
      "4:\tlearn: 0.8230747\ttotal: 155ms\tremaining: 15.3s\n",
      "5:\tlearn: 0.7590308\ttotal: 174ms\tremaining: 14.3s\n",
      "6:\tlearn: 0.7102214\ttotal: 192ms\tremaining: 13.5s\n",
      "7:\tlearn: 0.6722531\ttotal: 210ms\tremaining: 12.9s\n",
      "8:\tlearn: 0.6431018\ttotal: 226ms\tremaining: 12.3s\n",
      "9:\tlearn: 0.6121497\ttotal: 247ms\tremaining: 12.1s\n",
      "10:\tlearn: 0.5831448\ttotal: 265ms\tremaining: 11.8s\n",
      "11:\tlearn: 0.5655011\ttotal: 280ms\tremaining: 11.4s\n",
      "12:\tlearn: 0.5426212\ttotal: 299ms\tremaining: 11.2s\n",
      "13:\tlearn: 0.5289058\ttotal: 313ms\tremaining: 10.9s\n",
      "14:\tlearn: 0.5161622\ttotal: 330ms\tremaining: 10.7s\n",
      "15:\tlearn: 0.5027164\ttotal: 348ms\tremaining: 10.5s\n",
      "16:\tlearn: 0.4941771\ttotal: 362ms\tremaining: 10.3s\n",
      "17:\tlearn: 0.4851591\ttotal: 376ms\tremaining: 10.1s\n",
      "18:\tlearn: 0.4801729\ttotal: 391ms\tremaining: 9.91s\n",
      "19:\tlearn: 0.4721489\ttotal: 406ms\tremaining: 9.74s\n",
      "20:\tlearn: 0.4642932\ttotal: 426ms\tremaining: 9.72s\n",
      "21:\tlearn: 0.4576932\ttotal: 445ms\tremaining: 9.67s\n",
      "22:\tlearn: 0.4541326\ttotal: 462ms\tremaining: 9.58s\n",
      "23:\tlearn: 0.4433466\ttotal: 481ms\tremaining: 9.55s\n",
      "24:\tlearn: 0.4382023\ttotal: 498ms\tremaining: 9.47s\n",
      "25:\tlearn: 0.4345674\ttotal: 513ms\tremaining: 9.36s\n",
      "26:\tlearn: 0.4293830\ttotal: 529ms\tremaining: 9.27s\n",
      "27:\tlearn: 0.4257276\ttotal: 546ms\tremaining: 9.2s\n",
      "28:\tlearn: 0.4219412\ttotal: 562ms\tremaining: 9.12s\n",
      "29:\tlearn: 0.4162453\ttotal: 580ms\tremaining: 9.08s\n",
      "30:\tlearn: 0.4128502\ttotal: 595ms\tremaining: 9s\n",
      "31:\tlearn: 0.4104724\ttotal: 611ms\tremaining: 8.93s\n",
      "32:\tlearn: 0.4070257\ttotal: 626ms\tremaining: 8.86s\n",
      "33:\tlearn: 0.4041107\ttotal: 644ms\tremaining: 8.82s\n",
      "34:\tlearn: 0.4018053\ttotal: 661ms\tremaining: 8.78s\n",
      "35:\tlearn: 0.3994363\ttotal: 680ms\tremaining: 8.76s\n",
      "36:\tlearn: 0.3971513\ttotal: 699ms\tremaining: 8.75s\n",
      "37:\tlearn: 0.3946094\ttotal: 715ms\tremaining: 8.69s\n",
      "38:\tlearn: 0.3928854\ttotal: 732ms\tremaining: 8.65s\n",
      "39:\tlearn: 0.3908283\ttotal: 749ms\tremaining: 8.61s\n",
      "40:\tlearn: 0.3887357\ttotal: 765ms\tremaining: 8.57s\n",
      "41:\tlearn: 0.3854017\ttotal: 783ms\tremaining: 8.53s\n",
      "42:\tlearn: 0.3845733\ttotal: 800ms\tremaining: 8.5s\n",
      "43:\tlearn: 0.3836082\ttotal: 816ms\tremaining: 8.46s\n",
      "44:\tlearn: 0.3796417\ttotal: 835ms\tremaining: 8.44s\n",
      "45:\tlearn: 0.3774257\ttotal: 851ms\tremaining: 8.4s\n",
      "46:\tlearn: 0.3758529\ttotal: 868ms\tremaining: 8.37s\n",
      "47:\tlearn: 0.3735584\ttotal: 894ms\tremaining: 8.42s\n",
      "48:\tlearn: 0.3719904\ttotal: 916ms\tremaining: 8.43s\n",
      "49:\tlearn: 0.3705061\ttotal: 930ms\tremaining: 8.37s\n",
      "50:\tlearn: 0.3695776\ttotal: 947ms\tremaining: 8.34s\n",
      "51:\tlearn: 0.3681510\ttotal: 962ms\tremaining: 8.29s\n",
      "52:\tlearn: 0.3669085\ttotal: 980ms\tremaining: 8.27s\n",
      "53:\tlearn: 0.3657005\ttotal: 998ms\tremaining: 8.24s\n",
      "54:\tlearn: 0.3648805\ttotal: 1.01s\tremaining: 8.21s\n",
      "55:\tlearn: 0.3631315\ttotal: 1.03s\tremaining: 8.17s\n",
      "56:\tlearn: 0.3615312\ttotal: 1.04s\tremaining: 8.13s\n",
      "57:\tlearn: 0.3608691\ttotal: 1.06s\tremaining: 8.11s\n",
      "58:\tlearn: 0.3603773\ttotal: 1.08s\tremaining: 8.07s\n",
      "59:\tlearn: 0.3586955\ttotal: 1.1s\tremaining: 8.07s\n",
      "60:\tlearn: 0.3581078\ttotal: 1.12s\tremaining: 8.04s\n",
      "61:\tlearn: 0.3569494\ttotal: 1.13s\tremaining: 8s\n",
      "62:\tlearn: 0.3555545\ttotal: 1.15s\tremaining: 7.96s\n",
      "63:\tlearn: 0.3543665\ttotal: 1.17s\tremaining: 7.94s\n",
      "64:\tlearn: 0.3517027\ttotal: 1.18s\tremaining: 7.92s\n",
      "65:\tlearn: 0.3497208\ttotal: 1.2s\tremaining: 7.91s\n",
      "66:\tlearn: 0.3477266\ttotal: 1.22s\tremaining: 7.88s\n",
      "67:\tlearn: 0.3474164\ttotal: 1.23s\tremaining: 7.83s\n",
      "68:\tlearn: 0.3469651\ttotal: 1.25s\tremaining: 7.8s\n",
      "69:\tlearn: 0.3463580\ttotal: 1.26s\tremaining: 7.77s\n",
      "70:\tlearn: 0.3445468\ttotal: 1.28s\tremaining: 7.75s\n",
      "71:\tlearn: 0.3440636\ttotal: 1.3s\tremaining: 7.71s\n",
      "72:\tlearn: 0.3431709\ttotal: 1.31s\tremaining: 7.7s\n",
      "73:\tlearn: 0.3423278\ttotal: 1.33s\tremaining: 7.67s\n",
      "74:\tlearn: 0.3417672\ttotal: 1.35s\tremaining: 7.63s\n",
      "75:\tlearn: 0.3415001\ttotal: 1.36s\tremaining: 7.59s\n",
      "76:\tlearn: 0.3406511\ttotal: 1.38s\tremaining: 7.57s\n",
      "77:\tlearn: 0.3400957\ttotal: 1.4s\tremaining: 7.55s\n",
      "78:\tlearn: 0.3396301\ttotal: 1.42s\tremaining: 7.54s\n",
      "79:\tlearn: 0.3389368\ttotal: 1.43s\tremaining: 7.51s\n",
      "80:\tlearn: 0.3384497\ttotal: 1.45s\tremaining: 7.48s\n",
      "81:\tlearn: 0.3376691\ttotal: 1.46s\tremaining: 7.45s\n",
      "82:\tlearn: 0.3373755\ttotal: 1.47s\tremaining: 7.41s\n",
      "83:\tlearn: 0.3364963\ttotal: 1.49s\tremaining: 7.39s\n",
      "84:\tlearn: 0.3358726\ttotal: 1.51s\tremaining: 7.37s\n",
      "85:\tlearn: 0.3351273\ttotal: 1.53s\tremaining: 7.35s\n",
      "86:\tlearn: 0.3346120\ttotal: 1.54s\tremaining: 7.32s\n",
      "87:\tlearn: 0.3337774\ttotal: 1.56s\tremaining: 7.29s\n",
      "88:\tlearn: 0.3327963\ttotal: 1.57s\tremaining: 7.27s\n",
      "89:\tlearn: 0.3306516\ttotal: 1.59s\tremaining: 7.25s\n",
      "90:\tlearn: 0.3283066\ttotal: 1.61s\tremaining: 7.24s\n",
      "91:\tlearn: 0.3254585\ttotal: 1.63s\tremaining: 7.22s\n",
      "92:\tlearn: 0.3245069\ttotal: 1.65s\tremaining: 7.2s\n",
      "93:\tlearn: 0.3240678\ttotal: 1.66s\tremaining: 7.18s\n",
      "94:\tlearn: 0.3218828\ttotal: 1.68s\tremaining: 7.16s\n",
      "95:\tlearn: 0.3212723\ttotal: 1.69s\tremaining: 7.13s\n",
      "96:\tlearn: 0.3201348\ttotal: 1.71s\tremaining: 7.11s\n",
      "97:\tlearn: 0.3193914\ttotal: 1.73s\tremaining: 7.09s\n",
      "98:\tlearn: 0.3187351\ttotal: 1.75s\tremaining: 7.07s\n",
      "99:\tlearn: 0.3176529\ttotal: 1.76s\tremaining: 7.04s\n",
      "100:\tlearn: 0.3171201\ttotal: 1.78s\tremaining: 7.02s\n",
      "101:\tlearn: 0.3161906\ttotal: 1.79s\tremaining: 7s\n",
      "102:\tlearn: 0.3157824\ttotal: 1.81s\tremaining: 6.97s\n",
      "103:\tlearn: 0.3147500\ttotal: 1.83s\tremaining: 6.97s\n",
      "104:\tlearn: 0.3144435\ttotal: 1.85s\tremaining: 6.95s\n",
      "105:\tlearn: 0.3131845\ttotal: 1.86s\tremaining: 6.93s\n",
      "106:\tlearn: 0.3130484\ttotal: 1.88s\tremaining: 6.9s\n",
      "107:\tlearn: 0.3129877\ttotal: 1.89s\tremaining: 6.87s\n",
      "108:\tlearn: 0.3118706\ttotal: 1.91s\tremaining: 6.86s\n",
      "109:\tlearn: 0.3116734\ttotal: 1.93s\tremaining: 6.84s\n",
      "110:\tlearn: 0.3109701\ttotal: 1.95s\tremaining: 6.83s\n",
      "111:\tlearn: 0.3106620\ttotal: 1.96s\tremaining: 6.8s\n",
      "112:\tlearn: 0.3103977\ttotal: 1.98s\tremaining: 6.78s\n",
      "113:\tlearn: 0.3099859\ttotal: 1.99s\tremaining: 6.75s\n",
      "114:\tlearn: 0.3098452\ttotal: 2.01s\tremaining: 6.72s\n",
      "115:\tlearn: 0.3093345\ttotal: 2.02s\tremaining: 6.7s\n",
      "116:\tlearn: 0.3090070\ttotal: 2.04s\tremaining: 6.68s\n",
      "117:\tlearn: 0.3084932\ttotal: 2.06s\tremaining: 6.66s\n",
      "118:\tlearn: 0.3083024\ttotal: 2.07s\tremaining: 6.64s\n",
      "119:\tlearn: 0.3068910\ttotal: 2.09s\tremaining: 6.63s\n",
      "120:\tlearn: 0.3066523\ttotal: 2.11s\tremaining: 6.61s\n",
      "121:\tlearn: 0.3063079\ttotal: 2.12s\tremaining: 6.58s\n",
      "122:\tlearn: 0.3061030\ttotal: 2.15s\tremaining: 6.58s\n",
      "123:\tlearn: 0.3057465\ttotal: 2.16s\tremaining: 6.55s\n",
      "124:\tlearn: 0.3052870\ttotal: 2.17s\tremaining: 6.53s\n",
      "125:\tlearn: 0.3050396\ttotal: 2.19s\tremaining: 6.5s\n",
      "126:\tlearn: 0.3041924\ttotal: 2.21s\tremaining: 6.48s\n",
      "127:\tlearn: 0.3040036\ttotal: 2.22s\tremaining: 6.45s\n",
      "128:\tlearn: 0.3037937\ttotal: 2.23s\tremaining: 6.42s\n",
      "129:\tlearn: 0.3032568\ttotal: 2.25s\tremaining: 6.4s\n",
      "130:\tlearn: 0.3021356\ttotal: 2.27s\tremaining: 6.38s\n",
      "131:\tlearn: 0.3019464\ttotal: 2.28s\tremaining: 6.36s\n",
      "132:\tlearn: 0.3014938\ttotal: 2.3s\tremaining: 6.34s\n",
      "133:\tlearn: 0.3013085\ttotal: 2.31s\tremaining: 6.32s\n",
      "134:\tlearn: 0.3009456\ttotal: 2.33s\tremaining: 6.3s\n",
      "135:\tlearn: 0.3006906\ttotal: 2.35s\tremaining: 6.29s\n",
      "136:\tlearn: 0.3004513\ttotal: 2.37s\tremaining: 6.27s\n",
      "137:\tlearn: 0.3003547\ttotal: 2.38s\tremaining: 6.25s\n",
      "138:\tlearn: 0.2996166\ttotal: 2.4s\tremaining: 6.22s\n",
      "139:\tlearn: 0.2994001\ttotal: 2.41s\tremaining: 6.2s\n",
      "140:\tlearn: 0.2992101\ttotal: 2.43s\tremaining: 6.19s\n",
      "141:\tlearn: 0.2988890\ttotal: 2.45s\tremaining: 6.17s\n",
      "142:\tlearn: 0.2986556\ttotal: 2.46s\tremaining: 6.15s\n",
      "143:\tlearn: 0.2984729\ttotal: 2.48s\tremaining: 6.13s\n",
      "144:\tlearn: 0.2983155\ttotal: 2.49s\tremaining: 6.11s\n",
      "145:\tlearn: 0.2980822\ttotal: 2.51s\tremaining: 6.09s\n",
      "146:\tlearn: 0.2973658\ttotal: 2.53s\tremaining: 6.07s\n",
      "147:\tlearn: 0.2971315\ttotal: 2.55s\tremaining: 6.06s\n",
      "148:\tlearn: 0.2967276\ttotal: 2.57s\tremaining: 6.05s\n",
      "149:\tlearn: 0.2960828\ttotal: 2.58s\tremaining: 6.03s\n",
      "150:\tlearn: 0.2952942\ttotal: 2.61s\tremaining: 6.03s\n",
      "151:\tlearn: 0.2949609\ttotal: 2.62s\tremaining: 6.01s\n",
      "152:\tlearn: 0.2942793\ttotal: 2.65s\tremaining: 6.01s\n",
      "153:\tlearn: 0.2941739\ttotal: 2.66s\tremaining: 5.98s\n",
      "154:\tlearn: 0.2940634\ttotal: 2.68s\tremaining: 5.96s\n",
      "155:\tlearn: 0.2939226\ttotal: 2.69s\tremaining: 5.93s\n",
      "156:\tlearn: 0.2924964\ttotal: 2.71s\tremaining: 5.92s\n",
      "157:\tlearn: 0.2921339\ttotal: 2.72s\tremaining: 5.89s\n",
      "158:\tlearn: 0.2919618\ttotal: 2.74s\tremaining: 5.88s\n",
      "159:\tlearn: 0.2918454\ttotal: 2.75s\tremaining: 5.85s\n",
      "160:\tlearn: 0.2917464\ttotal: 2.77s\tremaining: 5.84s\n",
      "161:\tlearn: 0.2911801\ttotal: 2.79s\tremaining: 5.81s\n",
      "162:\tlearn: 0.2908975\ttotal: 2.8s\tremaining: 5.79s\n",
      "163:\tlearn: 0.2908278\ttotal: 2.82s\tremaining: 5.77s\n",
      "164:\tlearn: 0.2906867\ttotal: 2.83s\tremaining: 5.75s\n",
      "165:\tlearn: 0.2904595\ttotal: 2.85s\tremaining: 5.74s\n",
      "166:\tlearn: 0.2899551\ttotal: 2.87s\tremaining: 5.72s\n",
      "167:\tlearn: 0.2897059\ttotal: 2.88s\tremaining: 5.7s\n",
      "168:\tlearn: 0.2887955\ttotal: 2.9s\tremaining: 5.68s\n",
      "169:\tlearn: 0.2886138\ttotal: 2.92s\tremaining: 5.66s\n",
      "170:\tlearn: 0.2884108\ttotal: 2.93s\tremaining: 5.64s\n",
      "171:\tlearn: 0.2882257\ttotal: 2.95s\tremaining: 5.63s\n",
      "172:\tlearn: 0.2880977\ttotal: 2.97s\tremaining: 5.61s\n",
      "173:\tlearn: 0.2878834\ttotal: 2.98s\tremaining: 5.59s\n",
      "174:\tlearn: 0.2869593\ttotal: 3s\tremaining: 5.58s\n",
      "175:\tlearn: 0.2864582\ttotal: 3.02s\tremaining: 5.56s\n",
      "176:\tlearn: 0.2863756\ttotal: 3.04s\tremaining: 5.54s\n",
      "177:\tlearn: 0.2858681\ttotal: 3.05s\tremaining: 5.52s\n",
      "178:\tlearn: 0.2856703\ttotal: 3.07s\tremaining: 5.5s\n",
      "179:\tlearn: 0.2855744\ttotal: 3.08s\tremaining: 5.48s\n",
      "180:\tlearn: 0.2847928\ttotal: 3.1s\tremaining: 5.46s\n",
      "181:\tlearn: 0.2846162\ttotal: 3.12s\tremaining: 5.45s\n",
      "182:\tlearn: 0.2844755\ttotal: 3.13s\tremaining: 5.42s\n",
      "183:\tlearn: 0.2843282\ttotal: 3.15s\tremaining: 5.41s\n",
      "184:\tlearn: 0.2841083\ttotal: 3.16s\tremaining: 5.39s\n",
      "185:\tlearn: 0.2838910\ttotal: 3.18s\tremaining: 5.37s\n",
      "186:\tlearn: 0.2837069\ttotal: 3.2s\tremaining: 5.36s\n",
      "187:\tlearn: 0.2826435\ttotal: 3.22s\tremaining: 5.34s\n",
      "188:\tlearn: 0.2818318\ttotal: 3.24s\tremaining: 5.33s\n",
      "189:\tlearn: 0.2816764\ttotal: 3.25s\tremaining: 5.3s\n",
      "190:\tlearn: 0.2814868\ttotal: 3.27s\tremaining: 5.28s\n",
      "191:\tlearn: 0.2814154\ttotal: 3.28s\tremaining: 5.26s\n",
      "192:\tlearn: 0.2813319\ttotal: 3.29s\tremaining: 5.24s\n",
      "193:\tlearn: 0.2810893\ttotal: 3.31s\tremaining: 5.22s\n",
      "194:\tlearn: 0.2809631\ttotal: 3.33s\tremaining: 5.2s\n",
      "195:\tlearn: 0.2808169\ttotal: 3.34s\tremaining: 5.18s\n",
      "196:\tlearn: 0.2801955\ttotal: 3.36s\tremaining: 5.17s\n",
      "197:\tlearn: 0.2799774\ttotal: 3.38s\tremaining: 5.15s\n",
      "198:\tlearn: 0.2795792\ttotal: 3.39s\tremaining: 5.13s\n",
      "199:\tlearn: 0.2789367\ttotal: 3.41s\tremaining: 5.12s\n",
      "200:\tlearn: 0.2787122\ttotal: 3.43s\tremaining: 5.1s\n",
      "201:\tlearn: 0.2785479\ttotal: 3.44s\tremaining: 5.08s\n",
      "202:\tlearn: 0.2784092\ttotal: 3.46s\tremaining: 5.06s\n",
      "203:\tlearn: 0.2780240\ttotal: 3.47s\tremaining: 5.04s\n",
      "204:\tlearn: 0.2772672\ttotal: 3.49s\tremaining: 5.02s\n",
      "205:\tlearn: 0.2763712\ttotal: 3.51s\tremaining: 5.01s\n",
      "206:\tlearn: 0.2762633\ttotal: 3.52s\tremaining: 4.99s\n",
      "207:\tlearn: 0.2761025\ttotal: 3.54s\tremaining: 4.97s\n",
      "208:\tlearn: 0.2759121\ttotal: 3.55s\tremaining: 4.95s\n",
      "209:\tlearn: 0.2755417\ttotal: 3.57s\tremaining: 4.92s\n",
      "210:\tlearn: 0.2753481\ttotal: 3.58s\tremaining: 4.91s\n",
      "211:\tlearn: 0.2751561\ttotal: 3.6s\tremaining: 4.89s\n",
      "212:\tlearn: 0.2743266\ttotal: 3.62s\tremaining: 4.88s\n",
      "213:\tlearn: 0.2738102\ttotal: 3.64s\tremaining: 4.86s\n",
      "214:\tlearn: 0.2736007\ttotal: 3.65s\tremaining: 4.84s\n",
      "215:\tlearn: 0.2734245\ttotal: 3.67s\tremaining: 4.83s\n",
      "216:\tlearn: 0.2732850\ttotal: 3.69s\tremaining: 4.81s\n",
      "217:\tlearn: 0.2731511\ttotal: 3.7s\tremaining: 4.79s\n",
      "218:\tlearn: 0.2726681\ttotal: 3.72s\tremaining: 4.77s\n",
      "219:\tlearn: 0.2725529\ttotal: 3.73s\tremaining: 4.75s\n",
      "220:\tlearn: 0.2724120\ttotal: 3.75s\tremaining: 4.73s\n",
      "221:\tlearn: 0.2722642\ttotal: 3.76s\tremaining: 4.71s\n",
      "222:\tlearn: 0.2718431\ttotal: 3.78s\tremaining: 4.7s\n",
      "223:\tlearn: 0.2710574\ttotal: 3.8s\tremaining: 4.68s\n",
      "224:\tlearn: 0.2703399\ttotal: 3.82s\tremaining: 4.67s\n",
      "225:\tlearn: 0.2698644\ttotal: 3.84s\tremaining: 4.65s\n",
      "226:\tlearn: 0.2697535\ttotal: 3.85s\tremaining: 4.64s\n",
      "227:\tlearn: 0.2687053\ttotal: 3.87s\tremaining: 4.62s\n",
      "228:\tlearn: 0.2686174\ttotal: 3.89s\tremaining: 4.6s\n",
      "229:\tlearn: 0.2680263\ttotal: 3.9s\tremaining: 4.58s\n",
      "230:\tlearn: 0.2673033\ttotal: 3.92s\tremaining: 4.57s\n",
      "231:\tlearn: 0.2672016\ttotal: 3.94s\tremaining: 4.55s\n",
      "232:\tlearn: 0.2670203\ttotal: 3.95s\tremaining: 4.53s\n",
      "233:\tlearn: 0.2669699\ttotal: 3.96s\tremaining: 4.51s\n",
      "234:\tlearn: 0.2660398\ttotal: 3.98s\tremaining: 4.49s\n",
      "235:\tlearn: 0.2658893\ttotal: 4s\tremaining: 4.47s\n",
      "236:\tlearn: 0.2658129\ttotal: 4.02s\tremaining: 4.46s\n",
      "237:\tlearn: 0.2656341\ttotal: 4.04s\tremaining: 4.44s\n",
      "238:\tlearn: 0.2654656\ttotal: 4.05s\tremaining: 4.42s\n",
      "239:\tlearn: 0.2653721\ttotal: 4.07s\tremaining: 4.4s\n",
      "240:\tlearn: 0.2648567\ttotal: 4.08s\tremaining: 4.39s\n",
      "241:\tlearn: 0.2647741\ttotal: 4.1s\tremaining: 4.37s\n",
      "242:\tlearn: 0.2645493\ttotal: 4.12s\tremaining: 4.35s\n",
      "243:\tlearn: 0.2644823\ttotal: 4.13s\tremaining: 4.33s\n",
      "244:\tlearn: 0.2644459\ttotal: 4.14s\tremaining: 4.31s\n",
      "245:\tlearn: 0.2639938\ttotal: 4.16s\tremaining: 4.29s\n",
      "246:\tlearn: 0.2632073\ttotal: 4.18s\tremaining: 4.28s\n",
      "247:\tlearn: 0.2631415\ttotal: 4.19s\tremaining: 4.26s\n",
      "248:\tlearn: 0.2626551\ttotal: 4.21s\tremaining: 4.24s\n",
      "249:\tlearn: 0.2623817\ttotal: 4.22s\tremaining: 4.22s\n",
      "250:\tlearn: 0.2623137\ttotal: 4.24s\tremaining: 4.21s\n",
      "251:\tlearn: 0.2619256\ttotal: 4.26s\tremaining: 4.19s\n",
      "252:\tlearn: 0.2617034\ttotal: 4.27s\tremaining: 4.17s\n",
      "253:\tlearn: 0.2615520\ttotal: 4.29s\tremaining: 4.15s\n",
      "254:\tlearn: 0.2614247\ttotal: 4.31s\tremaining: 4.14s\n",
      "255:\tlearn: 0.2611388\ttotal: 4.32s\tremaining: 4.12s\n",
      "256:\tlearn: 0.2610276\ttotal: 4.34s\tremaining: 4.1s\n",
      "257:\tlearn: 0.2607981\ttotal: 4.36s\tremaining: 4.09s\n",
      "258:\tlearn: 0.2606721\ttotal: 4.37s\tremaining: 4.07s\n",
      "259:\tlearn: 0.2605605\ttotal: 4.39s\tremaining: 4.05s\n",
      "260:\tlearn: 0.2604287\ttotal: 4.4s\tremaining: 4.03s\n",
      "261:\tlearn: 0.2603009\ttotal: 4.42s\tremaining: 4.01s\n",
      "262:\tlearn: 0.2600560\ttotal: 4.44s\tremaining: 4s\n",
      "263:\tlearn: 0.2596375\ttotal: 4.46s\tremaining: 3.99s\n",
      "264:\tlearn: 0.2594460\ttotal: 4.47s\tremaining: 3.97s\n",
      "265:\tlearn: 0.2592802\ttotal: 4.49s\tremaining: 3.95s\n",
      "266:\tlearn: 0.2591453\ttotal: 4.51s\tremaining: 3.94s\n",
      "267:\tlearn: 0.2590747\ttotal: 4.53s\tremaining: 3.92s\n",
      "268:\tlearn: 0.2589633\ttotal: 4.54s\tremaining: 3.9s\n",
      "269:\tlearn: 0.2588090\ttotal: 4.56s\tremaining: 3.88s\n",
      "270:\tlearn: 0.2586397\ttotal: 4.57s\tremaining: 3.87s\n",
      "271:\tlearn: 0.2585544\ttotal: 4.59s\tremaining: 3.85s\n",
      "272:\tlearn: 0.2584368\ttotal: 4.61s\tremaining: 3.83s\n",
      "273:\tlearn: 0.2584122\ttotal: 4.62s\tremaining: 3.81s\n",
      "274:\tlearn: 0.2583465\ttotal: 4.63s\tremaining: 3.79s\n",
      "275:\tlearn: 0.2582226\ttotal: 4.65s\tremaining: 3.77s\n",
      "276:\tlearn: 0.2576895\ttotal: 4.67s\tremaining: 3.76s\n",
      "277:\tlearn: 0.2572594\ttotal: 4.68s\tremaining: 3.74s\n",
      "278:\tlearn: 0.2570460\ttotal: 4.7s\tremaining: 3.72s\n",
      "279:\tlearn: 0.2569312\ttotal: 4.71s\tremaining: 3.71s\n",
      "280:\tlearn: 0.2567810\ttotal: 4.73s\tremaining: 3.69s\n",
      "281:\tlearn: 0.2566560\ttotal: 4.74s\tremaining: 3.67s\n",
      "282:\tlearn: 0.2561399\ttotal: 4.76s\tremaining: 3.65s\n",
      "283:\tlearn: 0.2560369\ttotal: 4.78s\tremaining: 3.63s\n",
      "284:\tlearn: 0.2559850\ttotal: 4.79s\tremaining: 3.61s\n",
      "285:\tlearn: 0.2559050\ttotal: 4.81s\tremaining: 3.6s\n",
      "286:\tlearn: 0.2558411\ttotal: 4.82s\tremaining: 3.58s\n",
      "287:\tlearn: 0.2557043\ttotal: 4.84s\tremaining: 3.56s\n",
      "288:\tlearn: 0.2556433\ttotal: 4.86s\tremaining: 3.54s\n",
      "289:\tlearn: 0.2554735\ttotal: 4.88s\tremaining: 3.53s\n",
      "290:\tlearn: 0.2552395\ttotal: 4.89s\tremaining: 3.51s\n",
      "291:\tlearn: 0.2551812\ttotal: 4.9s\tremaining: 3.49s\n",
      "292:\tlearn: 0.2550511\ttotal: 4.92s\tremaining: 3.48s\n",
      "293:\tlearn: 0.2548364\ttotal: 4.94s\tremaining: 3.46s\n",
      "294:\tlearn: 0.2546891\ttotal: 4.95s\tremaining: 3.44s\n",
      "295:\tlearn: 0.2544933\ttotal: 4.97s\tremaining: 3.42s\n",
      "296:\tlearn: 0.2542506\ttotal: 4.99s\tremaining: 3.41s\n",
      "297:\tlearn: 0.2540190\ttotal: 5s\tremaining: 3.39s\n",
      "298:\tlearn: 0.2534112\ttotal: 5.02s\tremaining: 3.37s\n",
      "299:\tlearn: 0.2533182\ttotal: 5.03s\tremaining: 3.35s\n",
      "300:\tlearn: 0.2532114\ttotal: 5.05s\tremaining: 3.34s\n",
      "301:\tlearn: 0.2528683\ttotal: 5.07s\tremaining: 3.32s\n",
      "302:\tlearn: 0.2526138\ttotal: 5.09s\tremaining: 3.31s\n",
      "303:\tlearn: 0.2525779\ttotal: 5.1s\tremaining: 3.29s\n",
      "304:\tlearn: 0.2525208\ttotal: 5.11s\tremaining: 3.27s\n",
      "305:\tlearn: 0.2522960\ttotal: 5.13s\tremaining: 3.25s\n",
      "306:\tlearn: 0.2521817\ttotal: 5.15s\tremaining: 3.23s\n",
      "307:\tlearn: 0.2520426\ttotal: 5.16s\tremaining: 3.22s\n",
      "308:\tlearn: 0.2519721\ttotal: 5.17s\tremaining: 3.2s\n",
      "309:\tlearn: 0.2518713\ttotal: 5.19s\tremaining: 3.18s\n",
      "310:\tlearn: 0.2517731\ttotal: 5.2s\tremaining: 3.16s\n",
      "311:\tlearn: 0.2516526\ttotal: 5.22s\tremaining: 3.14s\n",
      "312:\tlearn: 0.2515714\ttotal: 5.23s\tremaining: 3.13s\n",
      "313:\tlearn: 0.2514334\ttotal: 5.25s\tremaining: 3.11s\n",
      "314:\tlearn: 0.2507584\ttotal: 5.27s\tremaining: 3.1s\n",
      "315:\tlearn: 0.2506524\ttotal: 5.29s\tremaining: 3.08s\n",
      "316:\tlearn: 0.2498392\ttotal: 5.31s\tremaining: 3.06s\n",
      "317:\tlearn: 0.2497062\ttotal: 5.33s\tremaining: 3.05s\n",
      "318:\tlearn: 0.2496090\ttotal: 5.34s\tremaining: 3.03s\n",
      "319:\tlearn: 0.2494834\ttotal: 5.36s\tremaining: 3.01s\n",
      "320:\tlearn: 0.2492098\ttotal: 5.37s\tremaining: 3s\n",
      "321:\tlearn: 0.2491003\ttotal: 5.39s\tremaining: 2.98s\n",
      "322:\tlearn: 0.2489739\ttotal: 5.4s\tremaining: 2.96s\n",
      "323:\tlearn: 0.2487941\ttotal: 5.42s\tremaining: 2.94s\n",
      "324:\tlearn: 0.2487069\ttotal: 5.43s\tremaining: 2.92s\n",
      "325:\tlearn: 0.2484830\ttotal: 5.45s\tremaining: 2.91s\n",
      "326:\tlearn: 0.2483813\ttotal: 5.46s\tremaining: 2.89s\n",
      "327:\tlearn: 0.2482807\ttotal: 5.48s\tremaining: 2.87s\n",
      "328:\tlearn: 0.2481387\ttotal: 5.5s\tremaining: 2.86s\n",
      "329:\tlearn: 0.2480303\ttotal: 5.52s\tremaining: 2.84s\n",
      "330:\tlearn: 0.2479453\ttotal: 5.53s\tremaining: 2.83s\n",
      "331:\tlearn: 0.2473465\ttotal: 5.55s\tremaining: 2.81s\n",
      "332:\tlearn: 0.2468113\ttotal: 5.57s\tremaining: 2.79s\n",
      "333:\tlearn: 0.2467180\ttotal: 5.58s\tremaining: 2.77s\n",
      "334:\tlearn: 0.2461925\ttotal: 5.6s\tremaining: 2.76s\n",
      "335:\tlearn: 0.2458957\ttotal: 5.62s\tremaining: 2.74s\n",
      "336:\tlearn: 0.2457662\ttotal: 5.63s\tremaining: 2.72s\n",
      "337:\tlearn: 0.2457005\ttotal: 5.65s\tremaining: 2.71s\n",
      "338:\tlearn: 0.2454299\ttotal: 5.66s\tremaining: 2.69s\n",
      "339:\tlearn: 0.2453625\ttotal: 5.68s\tremaining: 2.67s\n",
      "340:\tlearn: 0.2452454\ttotal: 5.7s\tremaining: 2.66s\n",
      "341:\tlearn: 0.2451436\ttotal: 5.71s\tremaining: 2.64s\n",
      "342:\tlearn: 0.2445470\ttotal: 5.73s\tremaining: 2.62s\n",
      "343:\tlearn: 0.2440758\ttotal: 5.75s\tremaining: 2.6s\n",
      "344:\tlearn: 0.2436826\ttotal: 5.76s\tremaining: 2.59s\n",
      "345:\tlearn: 0.2436047\ttotal: 5.78s\tremaining: 2.57s\n",
      "346:\tlearn: 0.2435656\ttotal: 5.79s\tremaining: 2.55s\n",
      "347:\tlearn: 0.2435018\ttotal: 5.81s\tremaining: 2.54s\n",
      "348:\tlearn: 0.2434115\ttotal: 5.82s\tremaining: 2.52s\n",
      "349:\tlearn: 0.2428444\ttotal: 5.84s\tremaining: 2.5s\n",
      "350:\tlearn: 0.2427247\ttotal: 5.86s\tremaining: 2.48s\n",
      "351:\tlearn: 0.2426367\ttotal: 5.87s\tremaining: 2.47s\n",
      "352:\tlearn: 0.2425571\ttotal: 5.89s\tremaining: 2.45s\n",
      "353:\tlearn: 0.2424437\ttotal: 5.9s\tremaining: 2.43s\n",
      "354:\tlearn: 0.2423835\ttotal: 5.92s\tremaining: 2.42s\n",
      "355:\tlearn: 0.2423144\ttotal: 5.94s\tremaining: 2.4s\n",
      "356:\tlearn: 0.2420576\ttotal: 5.95s\tremaining: 2.38s\n",
      "357:\tlearn: 0.2419151\ttotal: 5.97s\tremaining: 2.37s\n",
      "358:\tlearn: 0.2418228\ttotal: 5.98s\tremaining: 2.35s\n",
      "359:\tlearn: 0.2417833\ttotal: 6s\tremaining: 2.33s\n",
      "360:\tlearn: 0.2413744\ttotal: 6.01s\tremaining: 2.31s\n",
      "361:\tlearn: 0.2412617\ttotal: 6.03s\tremaining: 2.3s\n",
      "362:\tlearn: 0.2410877\ttotal: 6.04s\tremaining: 2.28s\n",
      "363:\tlearn: 0.2410331\ttotal: 6.06s\tremaining: 2.26s\n",
      "364:\tlearn: 0.2409390\ttotal: 6.07s\tremaining: 2.25s\n",
      "365:\tlearn: 0.2403134\ttotal: 6.09s\tremaining: 2.23s\n",
      "366:\tlearn: 0.2401781\ttotal: 6.11s\tremaining: 2.21s\n",
      "367:\tlearn: 0.2400283\ttotal: 6.12s\tremaining: 2.2s\n",
      "368:\tlearn: 0.2399685\ttotal: 6.14s\tremaining: 2.18s\n",
      "369:\tlearn: 0.2399023\ttotal: 6.16s\tremaining: 2.16s\n",
      "370:\tlearn: 0.2397906\ttotal: 6.17s\tremaining: 2.15s\n",
      "371:\tlearn: 0.2396669\ttotal: 6.19s\tremaining: 2.13s\n",
      "372:\tlearn: 0.2395952\ttotal: 6.2s\tremaining: 2.11s\n",
      "373:\tlearn: 0.2395055\ttotal: 6.21s\tremaining: 2.09s\n",
      "374:\tlearn: 0.2393916\ttotal: 6.23s\tremaining: 2.08s\n",
      "375:\tlearn: 0.2392590\ttotal: 6.25s\tremaining: 2.06s\n",
      "376:\tlearn: 0.2386288\ttotal: 6.26s\tremaining: 2.04s\n",
      "377:\tlearn: 0.2385366\ttotal: 6.28s\tremaining: 2.03s\n",
      "378:\tlearn: 0.2384736\ttotal: 6.29s\tremaining: 2.01s\n",
      "379:\tlearn: 0.2383050\ttotal: 6.31s\tremaining: 1.99s\n",
      "380:\tlearn: 0.2382081\ttotal: 6.33s\tremaining: 1.98s\n",
      "381:\tlearn: 0.2378349\ttotal: 6.35s\tremaining: 1.96s\n",
      "382:\tlearn: 0.2376492\ttotal: 6.37s\tremaining: 1.95s\n",
      "383:\tlearn: 0.2369969\ttotal: 6.39s\tremaining: 1.93s\n",
      "384:\tlearn: 0.2368790\ttotal: 6.41s\tremaining: 1.91s\n",
      "385:\tlearn: 0.2367104\ttotal: 6.43s\tremaining: 1.9s\n",
      "386:\tlearn: 0.2363677\ttotal: 6.45s\tremaining: 1.88s\n",
      "387:\tlearn: 0.2357433\ttotal: 6.47s\tremaining: 1.87s\n",
      "388:\tlearn: 0.2356505\ttotal: 6.48s\tremaining: 1.85s\n",
      "389:\tlearn: 0.2353736\ttotal: 6.5s\tremaining: 1.83s\n",
      "390:\tlearn: 0.2352476\ttotal: 6.51s\tremaining: 1.81s\n",
      "391:\tlearn: 0.2350331\ttotal: 6.53s\tremaining: 1.8s\n",
      "392:\tlearn: 0.2349745\ttotal: 6.55s\tremaining: 1.78s\n",
      "393:\tlearn: 0.2348406\ttotal: 6.57s\tremaining: 1.77s\n",
      "394:\tlearn: 0.2337911\ttotal: 6.59s\tremaining: 1.75s\n",
      "395:\tlearn: 0.2336900\ttotal: 6.6s\tremaining: 1.73s\n",
      "396:\tlearn: 0.2335738\ttotal: 6.62s\tremaining: 1.72s\n",
      "397:\tlearn: 0.2334771\ttotal: 6.63s\tremaining: 1.7s\n",
      "398:\tlearn: 0.2333006\ttotal: 6.65s\tremaining: 1.68s\n",
      "399:\tlearn: 0.2332651\ttotal: 6.67s\tremaining: 1.67s\n",
      "400:\tlearn: 0.2332045\ttotal: 6.68s\tremaining: 1.65s\n",
      "401:\tlearn: 0.2330572\ttotal: 6.7s\tremaining: 1.63s\n",
      "402:\tlearn: 0.2328853\ttotal: 6.71s\tremaining: 1.61s\n",
      "403:\tlearn: 0.2327819\ttotal: 6.73s\tremaining: 1.6s\n",
      "404:\tlearn: 0.2325879\ttotal: 6.74s\tremaining: 1.58s\n",
      "405:\tlearn: 0.2324504\ttotal: 6.76s\tremaining: 1.56s\n",
      "406:\tlearn: 0.2323779\ttotal: 6.77s\tremaining: 1.55s\n",
      "407:\tlearn: 0.2323529\ttotal: 6.79s\tremaining: 1.53s\n",
      "408:\tlearn: 0.2320417\ttotal: 6.8s\tremaining: 1.51s\n",
      "409:\tlearn: 0.2320057\ttotal: 6.82s\tremaining: 1.5s\n",
      "410:\tlearn: 0.2317840\ttotal: 6.84s\tremaining: 1.48s\n",
      "411:\tlearn: 0.2313682\ttotal: 6.86s\tremaining: 1.47s\n",
      "412:\tlearn: 0.2313182\ttotal: 6.88s\tremaining: 1.45s\n",
      "413:\tlearn: 0.2311921\ttotal: 6.89s\tremaining: 1.43s\n",
      "414:\tlearn: 0.2310345\ttotal: 6.91s\tremaining: 1.41s\n",
      "415:\tlearn: 0.2309569\ttotal: 6.92s\tremaining: 1.4s\n",
      "416:\tlearn: 0.2308985\ttotal: 6.93s\tremaining: 1.38s\n",
      "417:\tlearn: 0.2307750\ttotal: 6.95s\tremaining: 1.36s\n",
      "418:\tlearn: 0.2305454\ttotal: 6.97s\tremaining: 1.35s\n",
      "419:\tlearn: 0.2303980\ttotal: 6.99s\tremaining: 1.33s\n",
      "420:\tlearn: 0.2303016\ttotal: 7s\tremaining: 1.31s\n",
      "421:\tlearn: 0.2301729\ttotal: 7.02s\tremaining: 1.3s\n",
      "422:\tlearn: 0.2301061\ttotal: 7.04s\tremaining: 1.28s\n",
      "423:\tlearn: 0.2300105\ttotal: 7.05s\tremaining: 1.26s\n",
      "424:\tlearn: 0.2299671\ttotal: 7.07s\tremaining: 1.25s\n",
      "425:\tlearn: 0.2298859\ttotal: 7.08s\tremaining: 1.23s\n",
      "426:\tlearn: 0.2296959\ttotal: 7.1s\tremaining: 1.21s\n",
      "427:\tlearn: 0.2295946\ttotal: 7.11s\tremaining: 1.2s\n",
      "428:\tlearn: 0.2294752\ttotal: 7.13s\tremaining: 1.18s\n",
      "429:\tlearn: 0.2293922\ttotal: 7.15s\tremaining: 1.16s\n",
      "430:\tlearn: 0.2292493\ttotal: 7.16s\tremaining: 1.15s\n",
      "431:\tlearn: 0.2291556\ttotal: 7.18s\tremaining: 1.13s\n",
      "432:\tlearn: 0.2289928\ttotal: 7.2s\tremaining: 1.11s\n",
      "433:\tlearn: 0.2289193\ttotal: 7.22s\tremaining: 1.1s\n",
      "434:\tlearn: 0.2288569\ttotal: 7.23s\tremaining: 1.08s\n",
      "435:\tlearn: 0.2287440\ttotal: 7.25s\tremaining: 1.06s\n",
      "436:\tlearn: 0.2287176\ttotal: 7.26s\tremaining: 1.05s\n",
      "437:\tlearn: 0.2286174\ttotal: 7.28s\tremaining: 1.03s\n",
      "438:\tlearn: 0.2285236\ttotal: 7.29s\tremaining: 1.01s\n",
      "439:\tlearn: 0.2283444\ttotal: 7.31s\tremaining: 997ms\n",
      "440:\tlearn: 0.2282974\ttotal: 7.33s\tremaining: 980ms\n",
      "441:\tlearn: 0.2282060\ttotal: 7.34s\tremaining: 964ms\n",
      "442:\tlearn: 0.2281625\ttotal: 7.36s\tremaining: 947ms\n",
      "443:\tlearn: 0.2279996\ttotal: 7.38s\tremaining: 931ms\n",
      "444:\tlearn: 0.2279483\ttotal: 7.39s\tremaining: 914ms\n",
      "445:\tlearn: 0.2279194\ttotal: 7.41s\tremaining: 898ms\n",
      "446:\tlearn: 0.2278618\ttotal: 7.43s\tremaining: 881ms\n",
      "447:\tlearn: 0.2275242\ttotal: 7.44s\tremaining: 864ms\n",
      "448:\tlearn: 0.2274569\ttotal: 7.46s\tremaining: 847ms\n",
      "449:\tlearn: 0.2273882\ttotal: 7.47s\tremaining: 830ms\n",
      "450:\tlearn: 0.2273295\ttotal: 7.49s\tremaining: 814ms\n",
      "451:\tlearn: 0.2272593\ttotal: 7.51s\tremaining: 797ms\n",
      "452:\tlearn: 0.2271116\ttotal: 7.52s\tremaining: 780ms\n",
      "453:\tlearn: 0.2270734\ttotal: 7.54s\tremaining: 764ms\n",
      "454:\tlearn: 0.2270443\ttotal: 7.55s\tremaining: 747ms\n",
      "455:\tlearn: 0.2269487\ttotal: 7.57s\tremaining: 730ms\n",
      "456:\tlearn: 0.2268830\ttotal: 7.58s\tremaining: 713ms\n",
      "457:\tlearn: 0.2268461\ttotal: 7.6s\tremaining: 697ms\n",
      "458:\tlearn: 0.2265302\ttotal: 7.62s\tremaining: 681ms\n",
      "459:\tlearn: 0.2260909\ttotal: 7.64s\tremaining: 664ms\n",
      "460:\tlearn: 0.2259747\ttotal: 7.65s\tremaining: 648ms\n",
      "461:\tlearn: 0.2258516\ttotal: 7.67s\tremaining: 631ms\n",
      "462:\tlearn: 0.2257742\ttotal: 7.68s\tremaining: 614ms\n",
      "463:\tlearn: 0.2253214\ttotal: 7.7s\tremaining: 598ms\n",
      "464:\tlearn: 0.2252522\ttotal: 7.72s\tremaining: 581ms\n",
      "465:\tlearn: 0.2251571\ttotal: 7.73s\tremaining: 564ms\n",
      "466:\tlearn: 0.2247751\ttotal: 7.75s\tremaining: 548ms\n",
      "467:\tlearn: 0.2246158\ttotal: 7.76s\tremaining: 531ms\n",
      "468:\tlearn: 0.2245882\ttotal: 7.78s\tremaining: 514ms\n",
      "469:\tlearn: 0.2244960\ttotal: 7.8s\tremaining: 498ms\n",
      "470:\tlearn: 0.2243399\ttotal: 7.82s\tremaining: 481ms\n",
      "471:\tlearn: 0.2242641\ttotal: 7.83s\tremaining: 465ms\n",
      "472:\tlearn: 0.2241653\ttotal: 7.85s\tremaining: 448ms\n",
      "473:\tlearn: 0.2238627\ttotal: 7.87s\tremaining: 432ms\n",
      "474:\tlearn: 0.2237995\ttotal: 7.89s\tremaining: 415ms\n",
      "475:\tlearn: 0.2235385\ttotal: 7.91s\tremaining: 399ms\n",
      "476:\tlearn: 0.2234705\ttotal: 7.93s\tremaining: 382ms\n",
      "477:\tlearn: 0.2234350\ttotal: 7.94s\tremaining: 366ms\n",
      "478:\tlearn: 0.2233109\ttotal: 7.96s\tremaining: 349ms\n",
      "479:\tlearn: 0.2224168\ttotal: 7.98s\tremaining: 332ms\n",
      "480:\tlearn: 0.2223356\ttotal: 7.99s\tremaining: 316ms\n",
      "481:\tlearn: 0.2222875\ttotal: 8.01s\tremaining: 299ms\n",
      "482:\tlearn: 0.2221664\ttotal: 8.03s\tremaining: 282ms\n",
      "483:\tlearn: 0.2220039\ttotal: 8.04s\tremaining: 266ms\n",
      "484:\tlearn: 0.2219343\ttotal: 8.06s\tremaining: 249ms\n",
      "485:\tlearn: 0.2218457\ttotal: 8.07s\tremaining: 233ms\n",
      "486:\tlearn: 0.2217274\ttotal: 8.09s\tremaining: 216ms\n",
      "487:\tlearn: 0.2216220\ttotal: 8.11s\tremaining: 199ms\n",
      "488:\tlearn: 0.2212531\ttotal: 8.12s\tremaining: 183ms\n",
      "489:\tlearn: 0.2211900\ttotal: 8.14s\tremaining: 166ms\n",
      "490:\tlearn: 0.2211382\ttotal: 8.15s\tremaining: 149ms\n",
      "491:\tlearn: 0.2209546\ttotal: 8.17s\tremaining: 133ms\n",
      "492:\tlearn: 0.2208536\ttotal: 8.19s\tremaining: 116ms\n",
      "493:\tlearn: 0.2206874\ttotal: 8.2s\tremaining: 99.6ms\n"
     ]
    }
   ],
   "source": [
    "# StratifiedKFold를 사용하여 k-fold 교차 검증을 수행\n",
    "k_fold = StratifiedKFold(n_splits=5, shuffle=True, random_state=42)\n",
    "f1_scores = []\n",
    "\n",
    "\n",
    "for train_idx, val_idx in k_fold.split(X_train_scaled, train_y):\n",
    "    X_train_fold, X_val_fold = X_train_scaled[train_idx], X_train_scaled[val_idx]\n",
    "    y_train_fold, y_val_fold = train_y[train_idx], train_y[val_idx]\n",
    "    \n",
    "    ensemble_model.fit(X_train_fold, y_train_fold)\n",
    "    y_pred_fold = ensemble_model.predict(X_val_fold)\n",
    "\n",
    "    # model.fit(X_train_fold, y_train_fold)\n",
    "    # y_pred_fold = model.predict(X_val_fold)\n",
    "    \n",
    "    f1 = f1_score(y_val_fold, y_pred_fold, average='macro')  # f-score 계산\n",
    "    f1_scores.append(f1)\n",
    "\n",
    "# 교차 검증 결과 출력\n",
    "print(\"각 Fold의 F1 Score:\", f1_scores)\n",
    "print(\"평균 F1 Score:\", np.mean(f1_scores))"
   ],
   "metadata": {
    "collapsed": false,
    "is_executing": true,
    "ExecuteTime": {
     "start_time": "2024-02-01T14:55:31.893141Z"
    }
   },
   "id": "dd67f8c2acb360e2"
  },
  {
   "cell_type": "markdown",
   "source": [
    "# 예측 수행"
   ],
   "metadata": {
    "collapsed": false,
    "ExecuteTime": {
     "end_time": "2024-02-01T14:08:44.607409Z",
     "start_time": "2024-02-01T14:08:44.596345Z"
    }
   },
   "id": "3608d06775314bf0"
  },
  {
   "cell_type": "code",
   "execution_count": 27,
   "outputs": [],
   "source": [
    "pred = model.predict(X_test_scaled)"
   ],
   "metadata": {
    "collapsed": false,
    "ExecuteTime": {
     "end_time": "2024-02-01T14:13:03.395698Z",
     "start_time": "2024-02-01T14:13:03.231205Z"
    }
   },
   "id": "eb75750b20a8b761"
  },
  {
   "cell_type": "code",
   "execution_count": 28,
   "outputs": [],
   "source": [
    "# 레이블 디코딩\n",
    "decoded_labels = le.inverse_transform(pred)"
   ],
   "metadata": {
    "collapsed": false,
    "ExecuteTime": {
     "end_time": "2024-02-01T14:13:03.839717Z",
     "start_time": "2024-02-01T14:13:03.827545Z"
    }
   },
   "id": "8ef01bf3d394ce21"
  },
  {
   "cell_type": "markdown",
   "source": [
    "# 제출양식에 예측결과 입력¶\n",
    "\n",
    "모델이 예측한 대출등급을 제출양식에 입력해 봅시다"
   ],
   "metadata": {
    "collapsed": false
   },
   "id": "ac84f243dc2a6c7e"
  },
  {
   "cell_type": "code",
   "execution_count": 29,
   "outputs": [
    {
     "data": {
      "text/plain": "               ID 대출등급\n0      TEST_00000    B\n1      TEST_00001    B\n2      TEST_00002    A\n3      TEST_00003    C\n4      TEST_00004    C\n...           ...  ...\n64192  TEST_64192    D\n64193  TEST_64193    D\n64194  TEST_64194    D\n64195  TEST_64195    C\n64196  TEST_64196    A\n\n[64197 rows x 2 columns]",
      "text/html": "<div>\n<style scoped>\n    .dataframe tbody tr th:only-of-type {\n        vertical-align: middle;\n    }\n\n    .dataframe tbody tr th {\n        vertical-align: top;\n    }\n\n    .dataframe thead th {\n        text-align: right;\n    }\n</style>\n<table border=\"1\" class=\"dataframe\">\n  <thead>\n    <tr style=\"text-align: right;\">\n      <th></th>\n      <th>ID</th>\n      <th>대출등급</th>\n    </tr>\n  </thead>\n  <tbody>\n    <tr>\n      <th>0</th>\n      <td>TEST_00000</td>\n      <td>B</td>\n    </tr>\n    <tr>\n      <th>1</th>\n      <td>TEST_00001</td>\n      <td>B</td>\n    </tr>\n    <tr>\n      <th>2</th>\n      <td>TEST_00002</td>\n      <td>A</td>\n    </tr>\n    <tr>\n      <th>3</th>\n      <td>TEST_00003</td>\n      <td>C</td>\n    </tr>\n    <tr>\n      <th>4</th>\n      <td>TEST_00004</td>\n      <td>C</td>\n    </tr>\n    <tr>\n      <th>...</th>\n      <td>...</td>\n      <td>...</td>\n    </tr>\n    <tr>\n      <th>64192</th>\n      <td>TEST_64192</td>\n      <td>D</td>\n    </tr>\n    <tr>\n      <th>64193</th>\n      <td>TEST_64193</td>\n      <td>D</td>\n    </tr>\n    <tr>\n      <th>64194</th>\n      <td>TEST_64194</td>\n      <td>D</td>\n    </tr>\n    <tr>\n      <th>64195</th>\n      <td>TEST_64195</td>\n      <td>C</td>\n    </tr>\n    <tr>\n      <th>64196</th>\n      <td>TEST_64196</td>\n      <td>A</td>\n    </tr>\n  </tbody>\n</table>\n<p>64197 rows × 2 columns</p>\n</div>"
     },
     "execution_count": 29,
     "metadata": {},
     "output_type": "execute_result"
    }
   ],
   "source": [
    "sample_submission = pd.read_csv('data/sample_submission.csv')\n",
    "sample_submission['대출등급'] = decoded_labels\n",
    "sample_submission"
   ],
   "metadata": {
    "collapsed": false,
    "ExecuteTime": {
     "end_time": "2024-02-01T14:13:04.822101Z",
     "start_time": "2024-02-01T14:13:04.791469Z"
    }
   },
   "id": "7bfcb95d39aaa7bf"
  },
  {
   "cell_type": "markdown",
   "source": [
    "# 예측결과 저장\n",
    "\n",
    "값이 기입된 제출물을 저장해 봅시다"
   ],
   "metadata": {
    "collapsed": false
   },
   "id": "9fbc948fe978a37e"
  },
  {
   "cell_type": "code",
   "execution_count": 30,
   "outputs": [
    {
     "name": "stdout",
     "output_type": "stream",
     "text": [
      "xgb_20240201_2313.csv\n"
     ]
    }
   ],
   "source": [
    "# 현재 날짜와 시간 정보 가져오기\n",
    "current_datetime = datetime.datetime.now()\n",
    "\n",
    "# 파일 이름 형식 지정 (연월일_시간)\n",
    "file_name = f'xgb_{current_datetime.strftime(\"%Y%m%d_%H%M\")}.csv'\n",
    "\n",
    "# 파일 이름 출력\n",
    "print(file_name)"
   ],
   "metadata": {
    "collapsed": false,
    "ExecuteTime": {
     "end_time": "2024-02-01T14:13:05.781783Z",
     "start_time": "2024-02-01T14:13:05.777153Z"
    }
   },
   "id": "c9976b6440ab2396"
  },
  {
   "cell_type": "code",
   "execution_count": 31,
   "outputs": [],
   "source": [
    "sample_submission.to_csv('result/'+file_name,index=False)"
   ],
   "metadata": {
    "collapsed": false,
    "ExecuteTime": {
     "end_time": "2024-02-01T14:13:06.335932Z",
     "start_time": "2024-02-01T14:13:06.292839Z"
    }
   },
   "id": "68740d5b129fe33f"
  },
  {
   "cell_type": "code",
   "execution_count": 116,
   "outputs": [],
   "source": [],
   "metadata": {
    "collapsed": false,
    "ExecuteTime": {
     "end_time": "2024-01-23T14:04:54.761683Z",
     "start_time": "2024-01-23T14:04:54.722435Z"
    }
   },
   "id": "b75460951112ae5b"
  }
 ],
 "metadata": {
  "kernelspec": {
   "display_name": "Python 3",
   "language": "python",
   "name": "python3"
  },
  "language_info": {
   "codemirror_mode": {
    "name": "ipython",
    "version": 2
   },
   "file_extension": ".py",
   "mimetype": "text/x-python",
   "name": "python",
   "nbconvert_exporter": "python",
   "pygments_lexer": "ipython2",
   "version": "2.7.6"
  }
 },
 "nbformat": 4,
 "nbformat_minor": 5
}
