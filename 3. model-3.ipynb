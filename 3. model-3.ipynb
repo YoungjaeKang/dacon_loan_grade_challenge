{
 "cells": [
  {
   "cell_type": "markdown",
   "source": [
    "# Load Libraries"
   ],
   "metadata": {
    "collapsed": false
   },
   "id": "dd409c18929d1090"
  },
  {
   "cell_type": "code",
   "execution_count": 76,
   "outputs": [],
   "source": [
    "import pandas as pd\n",
    "import numpy as np\n",
    "import random\n",
    "import os\n",
    "import datetime\n",
    "\n",
    "# 시각화 패키지 불러오기\n",
    "import seaborn as sns\n",
    "import matplotlib.pyplot as plt\n",
    "import matplotlib.font_manager as fm\n",
    "\n",
    "# Suppress warnings \n",
    "import warnings\n",
    "warnings.filterwarnings('ignore')\n",
    "\n",
    "# font\n",
    "plt.rc('font', family='AppleGothic')\n",
    "\n",
    "# machine learning\n",
    "import xgboost as xgb\n",
    "from sklearn.preprocessing import LabelEncoder\n",
    "from sklearn.ensemble import RandomForestClassifier\n",
    "from sklearn.preprocessing import RobustScaler\n"
   ],
   "metadata": {
    "collapsed": false,
    "ExecuteTime": {
     "end_time": "2024-01-22T14:23:39.182272Z",
     "start_time": "2024-01-22T14:23:39.170810Z"
    }
   },
   "id": "871a3d9405115cfa"
  },
  {
   "cell_type": "markdown",
   "source": [
    "# Fixed Random Seed"
   ],
   "metadata": {
    "collapsed": false
   },
   "id": "767fc78011fe521a"
  },
  {
   "cell_type": "code",
   "execution_count": 77,
   "id": "initial_id",
   "metadata": {
    "collapsed": true,
    "ExecuteTime": {
     "end_time": "2024-01-22T14:23:40.100973Z",
     "start_time": "2024-01-22T14:23:40.077701Z"
    }
   },
   "outputs": [],
   "source": [
    "def seed_everything(seed):\n",
    "    random.seed(seed)\n",
    "    os.environ['PYTHONHASHSEED'] = str(seed)\n",
    "    np.random.seed(seed)\n",
    "\n",
    "seed_everything(42) # Seed 고정"
   ]
  },
  {
   "cell_type": "markdown",
   "source": [
    "# Load Dataset"
   ],
   "metadata": {
    "collapsed": false
   },
   "id": "d348be23a2a183ad"
  },
  {
   "cell_type": "code",
   "execution_count": 78,
   "outputs": [
    {
     "data": {
      "text/plain": "            ID      대출금액        대출기간       근로기간    주택소유상태       연간소득  \\\n0  TRAIN_00000  12480000   36 months    6 years      RENT   72000000   \n1  TRAIN_00001  14400000   60 months  10+ years  MORTGAGE  130800000   \n2  TRAIN_00002  12000000   36 months    5 years  MORTGAGE   96000000   \n\n   부채_대비_소득_비율  총계좌수   대출목적  최근_2년간_연체_횟수   총상환원금     총상환이자  총연체금액  연체계좌수 대출등급  \n0        18.90    15  부채 통합             0       0       0.0    0.0    0.0    C  \n1        22.33    21  주택 개선             0  373572  234060.0    0.0    0.0    B  \n2         8.60    14  부채 통합             0  928644  151944.0    0.0    0.0    A  ",
      "text/html": "<div>\n<style scoped>\n    .dataframe tbody tr th:only-of-type {\n        vertical-align: middle;\n    }\n\n    .dataframe tbody tr th {\n        vertical-align: top;\n    }\n\n    .dataframe thead th {\n        text-align: right;\n    }\n</style>\n<table border=\"1\" class=\"dataframe\">\n  <thead>\n    <tr style=\"text-align: right;\">\n      <th></th>\n      <th>ID</th>\n      <th>대출금액</th>\n      <th>대출기간</th>\n      <th>근로기간</th>\n      <th>주택소유상태</th>\n      <th>연간소득</th>\n      <th>부채_대비_소득_비율</th>\n      <th>총계좌수</th>\n      <th>대출목적</th>\n      <th>최근_2년간_연체_횟수</th>\n      <th>총상환원금</th>\n      <th>총상환이자</th>\n      <th>총연체금액</th>\n      <th>연체계좌수</th>\n      <th>대출등급</th>\n    </tr>\n  </thead>\n  <tbody>\n    <tr>\n      <th>0</th>\n      <td>TRAIN_00000</td>\n      <td>12480000</td>\n      <td>36 months</td>\n      <td>6 years</td>\n      <td>RENT</td>\n      <td>72000000</td>\n      <td>18.90</td>\n      <td>15</td>\n      <td>부채 통합</td>\n      <td>0</td>\n      <td>0</td>\n      <td>0.0</td>\n      <td>0.0</td>\n      <td>0.0</td>\n      <td>C</td>\n    </tr>\n    <tr>\n      <th>1</th>\n      <td>TRAIN_00001</td>\n      <td>14400000</td>\n      <td>60 months</td>\n      <td>10+ years</td>\n      <td>MORTGAGE</td>\n      <td>130800000</td>\n      <td>22.33</td>\n      <td>21</td>\n      <td>주택 개선</td>\n      <td>0</td>\n      <td>373572</td>\n      <td>234060.0</td>\n      <td>0.0</td>\n      <td>0.0</td>\n      <td>B</td>\n    </tr>\n    <tr>\n      <th>2</th>\n      <td>TRAIN_00002</td>\n      <td>12000000</td>\n      <td>36 months</td>\n      <td>5 years</td>\n      <td>MORTGAGE</td>\n      <td>96000000</td>\n      <td>8.60</td>\n      <td>14</td>\n      <td>부채 통합</td>\n      <td>0</td>\n      <td>928644</td>\n      <td>151944.0</td>\n      <td>0.0</td>\n      <td>0.0</td>\n      <td>A</td>\n    </tr>\n  </tbody>\n</table>\n</div>"
     },
     "metadata": {},
     "output_type": "display_data"
    },
    {
     "data": {
      "text/plain": "           ID      대출금액        대출기간     근로기간    주택소유상태       연간소득  \\\n0  TEST_00000  16800000   36 months  8 years  MORTGAGE  132000000   \n1  TEST_00001   8400000   36 months  5 years      RENT   89971200   \n2  TEST_00002  17280000   36 months  6 years      RENT  150000000   \n\n   부채_대비_소득_비율  총계좌수   대출목적  최근_2년간_연체_횟수    총상환원금     총상환이자  총연체금액  연체계좌수  \n0        19.64    12  주택 개선             0   394692  146604.0    0.0    0.0  \n1        15.84    25  부채 통합             0        0       0.0    0.0    0.0  \n2         8.41    20  신용 카드             0  1786980  281820.0    0.0    0.0  ",
      "text/html": "<div>\n<style scoped>\n    .dataframe tbody tr th:only-of-type {\n        vertical-align: middle;\n    }\n\n    .dataframe tbody tr th {\n        vertical-align: top;\n    }\n\n    .dataframe thead th {\n        text-align: right;\n    }\n</style>\n<table border=\"1\" class=\"dataframe\">\n  <thead>\n    <tr style=\"text-align: right;\">\n      <th></th>\n      <th>ID</th>\n      <th>대출금액</th>\n      <th>대출기간</th>\n      <th>근로기간</th>\n      <th>주택소유상태</th>\n      <th>연간소득</th>\n      <th>부채_대비_소득_비율</th>\n      <th>총계좌수</th>\n      <th>대출목적</th>\n      <th>최근_2년간_연체_횟수</th>\n      <th>총상환원금</th>\n      <th>총상환이자</th>\n      <th>총연체금액</th>\n      <th>연체계좌수</th>\n    </tr>\n  </thead>\n  <tbody>\n    <tr>\n      <th>0</th>\n      <td>TEST_00000</td>\n      <td>16800000</td>\n      <td>36 months</td>\n      <td>8 years</td>\n      <td>MORTGAGE</td>\n      <td>132000000</td>\n      <td>19.64</td>\n      <td>12</td>\n      <td>주택 개선</td>\n      <td>0</td>\n      <td>394692</td>\n      <td>146604.0</td>\n      <td>0.0</td>\n      <td>0.0</td>\n    </tr>\n    <tr>\n      <th>1</th>\n      <td>TEST_00001</td>\n      <td>8400000</td>\n      <td>36 months</td>\n      <td>5 years</td>\n      <td>RENT</td>\n      <td>89971200</td>\n      <td>15.84</td>\n      <td>25</td>\n      <td>부채 통합</td>\n      <td>0</td>\n      <td>0</td>\n      <td>0.0</td>\n      <td>0.0</td>\n      <td>0.0</td>\n    </tr>\n    <tr>\n      <th>2</th>\n      <td>TEST_00002</td>\n      <td>17280000</td>\n      <td>36 months</td>\n      <td>6 years</td>\n      <td>RENT</td>\n      <td>150000000</td>\n      <td>8.41</td>\n      <td>20</td>\n      <td>신용 카드</td>\n      <td>0</td>\n      <td>1786980</td>\n      <td>281820.0</td>\n      <td>0.0</td>\n      <td>0.0</td>\n    </tr>\n  </tbody>\n</table>\n</div>"
     },
     "metadata": {},
     "output_type": "display_data"
    }
   ],
   "source": [
    "train_df = pd.read_csv('data/train.csv')\n",
    "test_df = pd.read_csv('data/test.csv')\n",
    "\n",
    "display(train_df.head(3))\n",
    "display(test_df.head(3))"
   ],
   "metadata": {
    "collapsed": false,
    "ExecuteTime": {
     "end_time": "2024-01-22T14:23:40.891546Z",
     "start_time": "2024-01-22T14:23:40.686612Z"
    }
   },
   "id": "dd3cfc7b08c6d12a"
  },
  {
   "cell_type": "markdown",
   "source": [
    "# 데이터 전처리 1 : 학습 및 추론 데이터 설정¶\n",
    "\n",
    "모델에게 입력할 학습 데이터와 추론 데이터를 만들어 봅시다\n",
    "\n"
   ],
   "metadata": {
    "collapsed": false
   },
   "id": "b6a50918f377de9a"
  },
  {
   "cell_type": "code",
   "execution_count": 79,
   "outputs": [],
   "source": [
    "train_x = train_df.drop(columns=['ID', '대출등급'])\n",
    "train_y = train_df['대출등급']\n",
    "\n",
    "test_x = test_df.drop(columns=['ID'])"
   ],
   "metadata": {
    "collapsed": false,
    "ExecuteTime": {
     "end_time": "2024-01-22T14:23:41.099512Z",
     "start_time": "2024-01-22T14:23:41.094688Z"
    }
   },
   "id": "7f382d2b3720a5a9"
  },
  {
   "cell_type": "markdown",
   "source": [
    "# Visualization"
   ],
   "metadata": {
    "collapsed": false
   },
   "id": "1a5603ad85241372"
  },
  {
   "cell_type": "code",
   "execution_count": 80,
   "outputs": [
    {
     "data": {
      "text/plain": "<Figure size 1200x1200 with 9 Axes>",
      "image/png": "[encoded data removed]"
     },
     "metadata": {},
     "output_type": "display_data"
    }
   ],
   "source": [
    "target = train_x.hist(figsize=(12,12))\n",
    "plt.show()"
   ],
   "metadata": {
    "collapsed": false,
    "ExecuteTime": {
     "end_time": "2024-01-22T14:23:42.133534Z",
     "start_time": "2024-01-22T14:23:41.490853Z"
    }
   },
   "id": "b7dc209fba3ec6cb"
  },
  {
   "cell_type": "markdown",
   "source": [
    "# 데이터 전처리 2-1 : 범주형 변수 수치화 (근로기간, 대출기간)¶\n",
    "\n",
    "#### LabelEncoder를 통해 범주형 변수 수치화 진행"
   ],
   "metadata": {
    "collapsed": false
   },
   "id": "5a2b5be2d19713be"
  },
  {
   "cell_type": "code",
   "execution_count": 81,
   "outputs": [],
   "source": [
    "# '근로기간' 컬럼 데이터 매핑\n",
    "mapping = {\n",
    "    '6 years': 6,\n",
    "    '10+ years': 10,\n",
    "    '5 years': 5,\n",
    "    '8 years': 8,\n",
    "    'Unknown': 0,\n",
    "    '9 years': 9,\n",
    "    '2 years': 2,\n",
    "    '1 year': 1,\n",
    "    '3 years': 3,\n",
    "    '7 years': 7\n",
    "}\n",
    "\n",
    "# '근로기간' 컬럼을 숫자로 변환\n",
    "train_x['근로기간'] = train_x['근로기간'].map(mapping)\n",
    "test_x['근로기간'] = test_x['근로기간'].map(mapping)"
   ],
   "metadata": {
    "collapsed": false,
    "ExecuteTime": {
     "end_time": "2024-01-22T14:23:42.146899Z",
     "start_time": "2024-01-22T14:23:42.139024Z"
    }
   },
   "id": "e86ee678ccf01718"
  },
  {
   "cell_type": "code",
   "execution_count": 82,
   "outputs": [],
   "source": [
    "# 대출기간\n",
    "train_x['대출기간'] = train_x['대출기간'].str.extract('(\\d+)').astype(int)\n",
    "test_x['대출기간'] = test_x['대출기간'].str.extract('(\\d+)').astype(int)"
   ],
   "metadata": {
    "collapsed": false,
    "ExecuteTime": {
     "end_time": "2024-01-22T14:23:42.410644Z",
     "start_time": "2024-01-22T14:23:42.283258Z"
    }
   },
   "id": "165faa0669e14c0e"
  },
  {
   "cell_type": "markdown",
   "source": [
    "# 데이터 전처리 2-2 : 범주형 변수 수치화¶\n",
    "\n",
    "#### LabelEncoder를 통해 범주형 변수 수치화 진행"
   ],
   "metadata": {
    "collapsed": false
   },
   "id": "c7d61d3a4f2e6f9e"
  },
  {
   "cell_type": "code",
   "execution_count": 83,
   "outputs": [
    {
     "data": {
      "text/plain": "       대출금액  대출기간  근로기간  주택소유상태       연간소득  부채_대비_소득_비율  총계좌수  대출목적  \\\n0  12480000    36   6.0       3   72000000        18.90    15     1   \n1  14400000    60  10.0       1  130800000        22.33    21    10   \n2  12000000    36   5.0       1   96000000         8.60    14     1   \n\n   최근_2년간_연체_횟수   총상환원금     총상환이자  총연체금액  연체계좌수  \n0             0       0       0.0    0.0    0.0  \n1             0  373572  234060.0    0.0    0.0  \n2             0  928644  151944.0    0.0    0.0  ",
      "text/html": "<div>\n<style scoped>\n    .dataframe tbody tr th:only-of-type {\n        vertical-align: middle;\n    }\n\n    .dataframe tbody tr th {\n        vertical-align: top;\n    }\n\n    .dataframe thead th {\n        text-align: right;\n    }\n</style>\n<table border=\"1\" class=\"dataframe\">\n  <thead>\n    <tr style=\"text-align: right;\">\n      <th></th>\n      <th>대출금액</th>\n      <th>대출기간</th>\n      <th>근로기간</th>\n      <th>주택소유상태</th>\n      <th>연간소득</th>\n      <th>부채_대비_소득_비율</th>\n      <th>총계좌수</th>\n      <th>대출목적</th>\n      <th>최근_2년간_연체_횟수</th>\n      <th>총상환원금</th>\n      <th>총상환이자</th>\n      <th>총연체금액</th>\n      <th>연체계좌수</th>\n    </tr>\n  </thead>\n  <tbody>\n    <tr>\n      <th>0</th>\n      <td>12480000</td>\n      <td>36</td>\n      <td>6.0</td>\n      <td>3</td>\n      <td>72000000</td>\n      <td>18.90</td>\n      <td>15</td>\n      <td>1</td>\n      <td>0</td>\n      <td>0</td>\n      <td>0.0</td>\n      <td>0.0</td>\n      <td>0.0</td>\n    </tr>\n    <tr>\n      <th>1</th>\n      <td>14400000</td>\n      <td>60</td>\n      <td>10.0</td>\n      <td>1</td>\n      <td>130800000</td>\n      <td>22.33</td>\n      <td>21</td>\n      <td>10</td>\n      <td>0</td>\n      <td>373572</td>\n      <td>234060.0</td>\n      <td>0.0</td>\n      <td>0.0</td>\n    </tr>\n    <tr>\n      <th>2</th>\n      <td>12000000</td>\n      <td>36</td>\n      <td>5.0</td>\n      <td>1</td>\n      <td>96000000</td>\n      <td>8.60</td>\n      <td>14</td>\n      <td>1</td>\n      <td>0</td>\n      <td>928644</td>\n      <td>151944.0</td>\n      <td>0.0</td>\n      <td>0.0</td>\n    </tr>\n  </tbody>\n</table>\n</div>"
     },
     "metadata": {},
     "output_type": "display_data"
    },
    {
     "data": {
      "text/plain": "       대출금액  대출기간  근로기간  주택소유상태       연간소득  부채_대비_소득_비율  총계좌수  대출목적  \\\n0  16800000    36   8.0       1  132000000        19.64    12    10   \n1   8400000    36   5.0       3   89971200        15.84    25     1   \n2  17280000    36   6.0       3  150000000         8.41    20     3   \n\n   최근_2년간_연체_횟수    총상환원금     총상환이자  총연체금액  연체계좌수  \n0             0   394692  146604.0    0.0    0.0  \n1             0        0       0.0    0.0    0.0  \n2             0  1786980  281820.0    0.0    0.0  ",
      "text/html": "<div>\n<style scoped>\n    .dataframe tbody tr th:only-of-type {\n        vertical-align: middle;\n    }\n\n    .dataframe tbody tr th {\n        vertical-align: top;\n    }\n\n    .dataframe thead th {\n        text-align: right;\n    }\n</style>\n<table border=\"1\" class=\"dataframe\">\n  <thead>\n    <tr style=\"text-align: right;\">\n      <th></th>\n      <th>대출금액</th>\n      <th>대출기간</th>\n      <th>근로기간</th>\n      <th>주택소유상태</th>\n      <th>연간소득</th>\n      <th>부채_대비_소득_비율</th>\n      <th>총계좌수</th>\n      <th>대출목적</th>\n      <th>최근_2년간_연체_횟수</th>\n      <th>총상환원금</th>\n      <th>총상환이자</th>\n      <th>총연체금액</th>\n      <th>연체계좌수</th>\n    </tr>\n  </thead>\n  <tbody>\n    <tr>\n      <th>0</th>\n      <td>16800000</td>\n      <td>36</td>\n      <td>8.0</td>\n      <td>1</td>\n      <td>132000000</td>\n      <td>19.64</td>\n      <td>12</td>\n      <td>10</td>\n      <td>0</td>\n      <td>394692</td>\n      <td>146604.0</td>\n      <td>0.0</td>\n      <td>0.0</td>\n    </tr>\n    <tr>\n      <th>1</th>\n      <td>8400000</td>\n      <td>36</td>\n      <td>5.0</td>\n      <td>3</td>\n      <td>89971200</td>\n      <td>15.84</td>\n      <td>25</td>\n      <td>1</td>\n      <td>0</td>\n      <td>0</td>\n      <td>0.0</td>\n      <td>0.0</td>\n      <td>0.0</td>\n    </tr>\n    <tr>\n      <th>2</th>\n      <td>17280000</td>\n      <td>36</td>\n      <td>6.0</td>\n      <td>3</td>\n      <td>150000000</td>\n      <td>8.41</td>\n      <td>20</td>\n      <td>3</td>\n      <td>0</td>\n      <td>1786980</td>\n      <td>281820.0</td>\n      <td>0.0</td>\n      <td>0.0</td>\n    </tr>\n  </tbody>\n</table>\n</div>"
     },
     "metadata": {},
     "output_type": "display_data"
    }
   ],
   "source": [
    "categorical_features = ['주택소유상태', '대출목적']\n",
    "\n",
    "for i in categorical_features:\n",
    "    le = LabelEncoder()\n",
    "    le=le.fit(train_x[i]) \n",
    "    train_x[i]=le.transform(train_x[i])\n",
    "    \n",
    "    for case in np.unique(test_x[i]):\n",
    "        if case not in le.classes_: \n",
    "            le.classes_ = np.append(le.classes_, case) \n",
    "    test_x[i]=le.transform(test_x[i])\n",
    "\n",
    "display(train_x.head(3))\n",
    "display(test_x.head(3))"
   ],
   "metadata": {
    "collapsed": false,
    "ExecuteTime": {
     "end_time": "2024-01-22T14:23:42.690979Z",
     "start_time": "2024-01-22T14:23:42.649235Z"
    }
   },
   "id": "78aa68c48b475e1b"
  },
  {
   "cell_type": "markdown",
   "source": [
    "# 데이터 전처리 3 : 수치형 변수 전처리\n",
    "\n",
    "#### "
   ],
   "metadata": {
    "collapsed": false
   },
   "id": "968cca978a921f5f"
  },
  {
   "cell_type": "code",
   "execution_count": 83,
   "outputs": [],
   "source": [],
   "metadata": {
    "collapsed": false,
    "ExecuteTime": {
     "end_time": "2024-01-22T14:23:43.058436Z",
     "start_time": "2024-01-22T14:23:43.051188Z"
    }
   },
   "id": "85e0f2012558a5e3"
  },
  {
   "cell_type": "markdown",
   "source": [
    "# 새로운 피쳐 생성\n",
    "\n",
    "1. 연간소득 대비 대출금액 비율\n",
    "2. 대출금액 대비 총상환원금+총상환이자\n",
    "3. 총상환이자/총상환원금"
   ],
   "metadata": {
    "collapsed": false
   },
   "id": "2e57ee4a7df78a0c"
  },
  {
   "cell_type": "code",
   "execution_count": 84,
   "outputs": [],
   "source": [
    "# '연간소득'이 0인 경우를 NaN으로 대체\n",
    "train_x['연간소득'] = train_x['연간소득'].replace(0, np.nan)\n",
    "test_x['연간소득'] = test_x['연간소득'].replace(0, np.nan)"
   ],
   "metadata": {
    "collapsed": false,
    "ExecuteTime": {
     "end_time": "2024-01-22T14:23:43.464882Z",
     "start_time": "2024-01-22T14:23:43.460697Z"
    }
   },
   "id": "50baa3c35d54161e"
  },
  {
   "cell_type": "code",
   "execution_count": 85,
   "outputs": [],
   "source": [
    "# 연간소득 대비 대출금액 비율\n",
    "train_x['대출금액_연간소득_비율'] = train_x['대출금액'] / train_x['연간소득']\n",
    "test_x['대출금액_연간소득_비율'] = test_x['대출금액'] / test_x['연간소득']"
   ],
   "metadata": {
    "collapsed": false,
    "ExecuteTime": {
     "end_time": "2024-01-22T14:23:43.686619Z",
     "start_time": "2024-01-22T14:23:43.678605Z"
    }
   },
   "id": "dd91620a7d1baeac"
  },
  {
   "cell_type": "code",
   "execution_count": 86,
   "outputs": [],
   "source": [
    "# 연간소득 대비 총상환원금+총상환이자\n",
    "train_x['총상환현금_연간소득_비율'] = (train_x['총상환원금']+train_x['총상환이자']) / train_x['대출금액']\n",
    "test_x['총상환현금_연간소득_비율'] = (test_x['총상환원금']+test_x['총상환이자']) / test_x['대출금액']"
   ],
   "metadata": {
    "collapsed": false,
    "ExecuteTime": {
     "end_time": "2024-01-22T14:23:43.889169Z",
     "start_time": "2024-01-22T14:23:43.885059Z"
    }
   },
   "id": "45576ac8da295411"
  },
  {
   "cell_type": "code",
   "execution_count": 87,
   "outputs": [],
   "source": [
    "# 총상환이자/총상환원금\n",
    "train_x['이자비율'] = train_x['총상환이자'] / train_x['총상환원금']\n",
    "test_x['이자비율'] = test_x['총상환이자'] / test_x['총상환원금']\n",
    "\n",
    "# '이자비율'이 inf인 경우를 NaN으로 대체\n",
    "train_x['이자비율'].replace([np.inf, -np.inf], np.nan, inplace=True)\n",
    "test_x['이자비율'].replace([np.inf, -np.inf], np.nan, inplace=True)\n",
    "\n",
    "# NaN 값을 0으로 대체\n",
    "train_x['이자비율'].fillna(0, inplace=True)\n",
    "test_x['이자비율'].fillna(0, inplace=True)"
   ],
   "metadata": {
    "collapsed": false,
    "ExecuteTime": {
     "end_time": "2024-01-22T14:23:44.143844Z",
     "start_time": "2024-01-22T14:23:44.133246Z"
    }
   },
   "id": "933d571a1dd868df"
  },
  {
   "cell_type": "code",
   "execution_count": 88,
   "outputs": [],
   "source": [
    "# 연체계좌비율\n",
    "train_x['연체계좌비율'] = train_x['연체계좌수'] / train_x['총계좌수']\n",
    "test_x['연체계좌비율'] = test_x['연체계좌수'] / test_x['총계좌수']"
   ],
   "metadata": {
    "collapsed": false,
    "ExecuteTime": {
     "end_time": "2024-01-22T14:23:44.288323Z",
     "start_time": "2024-01-22T14:23:44.283792Z"
    }
   },
   "id": "fee8eea17fc615d9"
  },
  {
   "cell_type": "markdown",
   "source": [
    "# 필요없는 피쳐 정리"
   ],
   "metadata": {
    "collapsed": false
   },
   "id": "7ec4da4eeaf5ad41"
  },
  {
   "cell_type": "code",
   "execution_count": 90,
   "outputs": [],
   "source": [
    "train_x = train_x.drop(columns=['총상환원금', '총상환이자', '총계좌수'])\n",
    "test_x = test_x.drop(columns=['총상환원금', '총상환이자', '총계좌수'])"
   ],
   "metadata": {
    "collapsed": false,
    "ExecuteTime": {
     "end_time": "2024-01-22T14:23:44.970015Z",
     "start_time": "2024-01-22T14:23:44.954547Z"
    }
   },
   "id": "3602369fde04e420"
  },
  {
   "cell_type": "markdown",
   "source": [
    "# 데이터 확인"
   ],
   "metadata": {
    "collapsed": false
   },
   "id": "3a3d706858292ee1"
  },
  {
   "cell_type": "code",
   "execution_count": 89,
   "outputs": [
    {
     "data": {
      "text/plain": "       대출금액  대출기간  근로기간  주택소유상태         연간소득  부채_대비_소득_비율  총계좌수  대출목적  \\\n0  12480000    36   6.0       3   72000000.0        18.90    15     1   \n1  14400000    60  10.0       1  130800000.0        22.33    21    10   \n2  12000000    36   5.0       1   96000000.0         8.60    14     1   \n\n   최근_2년간_연체_횟수   총상환원금     총상환이자  총연체금액  연체계좌수  대출금액_연간소득_비율  총상환현금_연간소득_비율  \\\n0             0       0       0.0    0.0    0.0      0.173333       0.000000   \n1             0  373572  234060.0    0.0    0.0      0.110092       0.042197   \n2             0  928644  151944.0    0.0    0.0      0.125000       0.090049   \n\n       이자비율  연체계좌비율  \n0  0.000000     0.0  \n1  0.626546     0.0  \n2  0.163619     0.0  ",
      "text/html": "<div>\n<style scoped>\n    .dataframe tbody tr th:only-of-type {\n        vertical-align: middle;\n    }\n\n    .dataframe tbody tr th {\n        vertical-align: top;\n    }\n\n    .dataframe thead th {\n        text-align: right;\n    }\n</style>\n<table border=\"1\" class=\"dataframe\">\n  <thead>\n    <tr style=\"text-align: right;\">\n      <th></th>\n      <th>대출금액</th>\n      <th>대출기간</th>\n      <th>근로기간</th>\n      <th>주택소유상태</th>\n      <th>연간소득</th>\n      <th>부채_대비_소득_비율</th>\n      <th>총계좌수</th>\n      <th>대출목적</th>\n      <th>최근_2년간_연체_횟수</th>\n      <th>총상환원금</th>\n      <th>총상환이자</th>\n      <th>총연체금액</th>\n      <th>연체계좌수</th>\n      <th>대출금액_연간소득_비율</th>\n      <th>총상환현금_연간소득_비율</th>\n      <th>이자비율</th>\n      <th>연체계좌비율</th>\n    </tr>\n  </thead>\n  <tbody>\n    <tr>\n      <th>0</th>\n      <td>12480000</td>\n      <td>36</td>\n      <td>6.0</td>\n      <td>3</td>\n      <td>72000000.0</td>\n      <td>18.90</td>\n      <td>15</td>\n      <td>1</td>\n      <td>0</td>\n      <td>0</td>\n      <td>0.0</td>\n      <td>0.0</td>\n      <td>0.0</td>\n      <td>0.173333</td>\n      <td>0.000000</td>\n      <td>0.000000</td>\n      <td>0.0</td>\n    </tr>\n    <tr>\n      <th>1</th>\n      <td>14400000</td>\n      <td>60</td>\n      <td>10.0</td>\n      <td>1</td>\n      <td>130800000.0</td>\n      <td>22.33</td>\n      <td>21</td>\n      <td>10</td>\n      <td>0</td>\n      <td>373572</td>\n      <td>234060.0</td>\n      <td>0.0</td>\n      <td>0.0</td>\n      <td>0.110092</td>\n      <td>0.042197</td>\n      <td>0.626546</td>\n      <td>0.0</td>\n    </tr>\n    <tr>\n      <th>2</th>\n      <td>12000000</td>\n      <td>36</td>\n      <td>5.0</td>\n      <td>1</td>\n      <td>96000000.0</td>\n      <td>8.60</td>\n      <td>14</td>\n      <td>1</td>\n      <td>0</td>\n      <td>928644</td>\n      <td>151944.0</td>\n      <td>0.0</td>\n      <td>0.0</td>\n      <td>0.125000</td>\n      <td>0.090049</td>\n      <td>0.163619</td>\n      <td>0.0</td>\n    </tr>\n  </tbody>\n</table>\n</div>"
     },
     "metadata": {},
     "output_type": "display_data"
    },
    {
     "data": {
      "text/plain": "       대출금액  대출기간  근로기간  주택소유상태         연간소득  부채_대비_소득_비율  총계좌수  대출목적  \\\n0  16800000    36   8.0       1  132000000.0        19.64    12    10   \n1   8400000    36   5.0       3   89971200.0        15.84    25     1   \n2  17280000    36   6.0       3  150000000.0         8.41    20     3   \n\n   최근_2년간_연체_횟수    총상환원금     총상환이자  총연체금액  연체계좌수  대출금액_연간소득_비율  총상환현금_연간소득_비율  \\\n0             0   394692  146604.0    0.0    0.0      0.127273       0.032220   \n1             0        0       0.0    0.0    0.0      0.093363       0.000000   \n2             0  1786980  281820.0    0.0    0.0      0.115200       0.119722   \n\n       이자비율  연체계좌비율  \n0  0.371439     0.0  \n1  0.000000     0.0  \n2  0.157707     0.0  ",
      "text/html": "<div>\n<style scoped>\n    .dataframe tbody tr th:only-of-type {\n        vertical-align: middle;\n    }\n\n    .dataframe tbody tr th {\n        vertical-align: top;\n    }\n\n    .dataframe thead th {\n        text-align: right;\n    }\n</style>\n<table border=\"1\" class=\"dataframe\">\n  <thead>\n    <tr style=\"text-align: right;\">\n      <th></th>\n      <th>대출금액</th>\n      <th>대출기간</th>\n      <th>근로기간</th>\n      <th>주택소유상태</th>\n      <th>연간소득</th>\n      <th>부채_대비_소득_비율</th>\n      <th>총계좌수</th>\n      <th>대출목적</th>\n      <th>최근_2년간_연체_횟수</th>\n      <th>총상환원금</th>\n      <th>총상환이자</th>\n      <th>총연체금액</th>\n      <th>연체계좌수</th>\n      <th>대출금액_연간소득_비율</th>\n      <th>총상환현금_연간소득_비율</th>\n      <th>이자비율</th>\n      <th>연체계좌비율</th>\n    </tr>\n  </thead>\n  <tbody>\n    <tr>\n      <th>0</th>\n      <td>16800000</td>\n      <td>36</td>\n      <td>8.0</td>\n      <td>1</td>\n      <td>132000000.0</td>\n      <td>19.64</td>\n      <td>12</td>\n      <td>10</td>\n      <td>0</td>\n      <td>394692</td>\n      <td>146604.0</td>\n      <td>0.0</td>\n      <td>0.0</td>\n      <td>0.127273</td>\n      <td>0.032220</td>\n      <td>0.371439</td>\n      <td>0.0</td>\n    </tr>\n    <tr>\n      <th>1</th>\n      <td>8400000</td>\n      <td>36</td>\n      <td>5.0</td>\n      <td>3</td>\n      <td>89971200.0</td>\n      <td>15.84</td>\n      <td>25</td>\n      <td>1</td>\n      <td>0</td>\n      <td>0</td>\n      <td>0.0</td>\n      <td>0.0</td>\n      <td>0.0</td>\n      <td>0.093363</td>\n      <td>0.000000</td>\n      <td>0.000000</td>\n      <td>0.0</td>\n    </tr>\n    <tr>\n      <th>2</th>\n      <td>17280000</td>\n      <td>36</td>\n      <td>6.0</td>\n      <td>3</td>\n      <td>150000000.0</td>\n      <td>8.41</td>\n      <td>20</td>\n      <td>3</td>\n      <td>0</td>\n      <td>1786980</td>\n      <td>281820.0</td>\n      <td>0.0</td>\n      <td>0.0</td>\n      <td>0.115200</td>\n      <td>0.119722</td>\n      <td>0.157707</td>\n      <td>0.0</td>\n    </tr>\n  </tbody>\n</table>\n</div>"
     },
     "metadata": {},
     "output_type": "display_data"
    }
   ],
   "source": [
    "display(train_x.head(3))\n",
    "display(test_x.head(3))"
   ],
   "metadata": {
    "collapsed": false,
    "ExecuteTime": {
     "start_time": "2024-01-22T14:23:44.535312Z"
    }
   },
   "id": "bad928918bd1d059"
  },
  {
   "cell_type": "markdown",
   "source": [
    "# 스케일링\n",
    "\n",
    "이상치가 많은 데이터에는 로버스트 스케일링이 유리할 수 있고, 데이터의 분포가 정규분포를 따른다고 가정하는 모델(예: 선형 회귀, 로지스틱 회귀)에는 표준화가 적합할 수 있습니다. 반면, 거리 기반의 알고리즘(예: k-NN, SVM)을 사용할 때는 정규화를 고려할 수 있습니다.\n",
    "\n",
    "1. 표준화 (Standardization) : 데이터의 평균을 0, 표준편차를 1로 만든다. StandardScaler.\n",
    "2. 정규화 (Normalization) : 데이터의 값을 0과 1 또는 -1과 1 사이의 범위로 조정한다. MinMaxScaler.\n",
    "3. 로버스트 스케일링 (Robust Scaling) : 이상치의 영향을 최소화하면서 데이터의 중앙값을 0으로, IQR을 1로 조정한다. RobustScaler"
   ],
   "metadata": {
    "collapsed": false
   },
   "id": "64466b293e89f9e9"
  },
  {
   "cell_type": "code",
   "execution_count": 91,
   "outputs": [],
   "source": [
    "# scaler = RobustScaler()"
   ],
   "metadata": {
    "collapsed": false,
    "ExecuteTime": {
     "end_time": "2024-01-22T14:23:45.645478Z",
     "start_time": "2024-01-22T14:23:45.630753Z"
    }
   },
   "id": "7f294dc3bc71f888"
  },
  {
   "cell_type": "code",
   "execution_count": 91,
   "outputs": [],
   "source": [
    "display(train_x.head(3))\n",
    "display(test_x.head(3))"
   ],
   "metadata": {
    "collapsed": false,
    "ExecuteTime": {
     "end_time": "2024-01-22T14:23:45.872697Z",
     "start_time": "2024-01-22T14:23:45.865293Z"
    }
   },
   "id": "44facd7fdb3285ff"
  },
  {
   "cell_type": "markdown",
   "source": [
    "# train_y 인코딩"
   ],
   "metadata": {
    "collapsed": false
   },
   "id": "a9470e23108ad6d9"
  },
  {
   "cell_type": "code",
   "execution_count": 92,
   "outputs": [],
   "source": [
    "# train_y 문자열 레이블 숫자로 인코딩\n",
    "le = LabelEncoder()\n",
    "le=le.fit(train_y)\n",
    "train_y=le.transform(train_y)"
   ],
   "metadata": {
    "collapsed": false,
    "ExecuteTime": {
     "end_time": "2024-01-22T14:23:46.358100Z",
     "start_time": "2024-01-22T14:23:46.351274Z"
    }
   },
   "id": "9fbff608024a297d"
  },
  {
   "cell_type": "markdown",
   "source": [
    "# 모델 선정 및 학습¶\n",
    "\n",
    "대출등급 분류를 위한 AI 모델을 정하고 학습시켜 봅시다"
   ],
   "metadata": {
    "collapsed": false
   },
   "id": "909a7d020a8483b2"
  },
  {
   "cell_type": "code",
   "execution_count": 93,
   "outputs": [
    {
     "data": {
      "text/plain": "XGBClassifier(base_score=None, booster=None, callbacks=None,\n              colsample_bylevel=None, colsample_bynode=None,\n              colsample_bytree=None, device=None, early_stopping_rounds=None,\n              enable_categorical=False, eval_metric=None, feature_types=None,\n              gamma=None, grow_policy=None, importance_type=None,\n              interaction_constraints=None, learning_rate=None, max_bin=None,\n              max_cat_threshold=None, max_cat_to_onehot=None,\n              max_delta_step=None, max_depth=None, max_leaves=None,\n              min_child_weight=None, missing=nan, monotone_constraints=None,\n              multi_strategy=None, n_estimators=None, n_jobs=None, num_class=7,\n              num_parallel_tree=None, ...)",
      "text/html": "<style>#sk-container-id-3 {color: black;}#sk-container-id-3 pre{padding: 0;}#sk-container-id-3 div.sk-toggleable {background-color: white;}#sk-container-id-3 label.sk-toggleable__label {cursor: pointer;display: block;width: 100%;margin-bottom: 0;padding: 0.3em;box-sizing: border-box;text-align: center;}#sk-container-id-3 label.sk-toggleable__label-arrow:before {content: \"▸\";float: left;margin-right: 0.25em;color: #696969;}#sk-container-id-3 label.sk-toggleable__label-arrow:hover:before {color: black;}#sk-container-id-3 div.sk-estimator:hover label.sk-toggleable__label-arrow:before {color: black;}#sk-container-id-3 div.sk-toggleable__content {max-height: 0;max-width: 0;overflow: hidden;text-align: left;background-color: #f0f8ff;}#sk-container-id-3 div.sk-toggleable__content pre {margin: 0.2em;color: black;border-radius: 0.25em;background-color: #f0f8ff;}#sk-container-id-3 input.sk-toggleable__control:checked~div.sk-toggleable__content {max-height: 200px;max-width: 100%;overflow: auto;}#sk-container-id-3 input.sk-toggleable__control:checked~label.sk-toggleable__label-arrow:before {content: \"▾\";}#sk-container-id-3 div.sk-estimator input.sk-toggleable__control:checked~label.sk-toggleable__label {background-color: #d4ebff;}#sk-container-id-3 div.sk-label input.sk-toggleable__control:checked~label.sk-toggleable__label {background-color: #d4ebff;}#sk-container-id-3 input.sk-hidden--visually {border: 0;clip: rect(1px 1px 1px 1px);clip: rect(1px, 1px, 1px, 1px);height: 1px;margin: -1px;overflow: hidden;padding: 0;position: absolute;width: 1px;}#sk-container-id-3 div.sk-estimator {font-family: monospace;background-color: #f0f8ff;border: 1px dotted black;border-radius: 0.25em;box-sizing: border-box;margin-bottom: 0.5em;}#sk-container-id-3 div.sk-estimator:hover {background-color: #d4ebff;}#sk-container-id-3 div.sk-parallel-item::after {content: \"\";width: 100%;border-bottom: 1px solid gray;flex-grow: 1;}#sk-container-id-3 div.sk-label:hover label.sk-toggleable__label {background-color: #d4ebff;}#sk-container-id-3 div.sk-serial::before {content: \"\";position: absolute;border-left: 1px solid gray;box-sizing: border-box;top: 0;bottom: 0;left: 50%;z-index: 0;}#sk-container-id-3 div.sk-serial {display: flex;flex-direction: column;align-items: center;background-color: white;padding-right: 0.2em;padding-left: 0.2em;position: relative;}#sk-container-id-3 div.sk-item {position: relative;z-index: 1;}#sk-container-id-3 div.sk-parallel {display: flex;align-items: stretch;justify-content: center;background-color: white;position: relative;}#sk-container-id-3 div.sk-item::before, #sk-container-id-3 div.sk-parallel-item::before {content: \"\";position: absolute;border-left: 1px solid gray;box-sizing: border-box;top: 0;bottom: 0;left: 50%;z-index: -1;}#sk-container-id-3 div.sk-parallel-item {display: flex;flex-direction: column;z-index: 1;position: relative;background-color: white;}#sk-container-id-3 div.sk-parallel-item:first-child::after {align-self: flex-end;width: 50%;}#sk-container-id-3 div.sk-parallel-item:last-child::after {align-self: flex-start;width: 50%;}#sk-container-id-3 div.sk-parallel-item:only-child::after {width: 0;}#sk-container-id-3 div.sk-dashed-wrapped {border: 1px dashed gray;margin: 0 0.4em 0.5em 0.4em;box-sizing: border-box;padding-bottom: 0.4em;background-color: white;}#sk-container-id-3 div.sk-label label {font-family: monospace;font-weight: bold;display: inline-block;line-height: 1.2em;}#sk-container-id-3 div.sk-label-container {text-align: center;}#sk-container-id-3 div.sk-container {/* jupyter's `normalize.less` sets `[hidden] { display: none; }` but bootstrap.min.css set `[hidden] { display: none !important; }` so we also need the `!important` here to be able to override the default hidden behavior on the sphinx rendered scikit-learn.org. See: https://github.com/scikit-learn/scikit-learn/issues/21755 */display: inline-block !important;position: relative;}#sk-container-id-3 div.sk-text-repr-fallback {display: none;}</style><div id=\"sk-container-id-3\" class=\"sk-top-container\"><div class=\"sk-text-repr-fallback\"><pre>XGBClassifier(base_score=None, booster=None, callbacks=None,\n              colsample_bylevel=None, colsample_bynode=None,\n              colsample_bytree=None, device=None, early_stopping_rounds=None,\n              enable_categorical=False, eval_metric=None, feature_types=None,\n              gamma=None, grow_policy=None, importance_type=None,\n              interaction_constraints=None, learning_rate=None, max_bin=None,\n              max_cat_threshold=None, max_cat_to_onehot=None,\n              max_delta_step=None, max_depth=None, max_leaves=None,\n              min_child_weight=None, missing=nan, monotone_constraints=None,\n              multi_strategy=None, n_estimators=None, n_jobs=None, num_class=7,\n              num_parallel_tree=None, ...)</pre><b>In a Jupyter environment, please rerun this cell to show the HTML representation or trust the notebook. <br />On GitHub, the HTML representation is unable to render, please try loading this page with nbviewer.org.</b></div><div class=\"sk-container\" hidden><div class=\"sk-item\"><div class=\"sk-estimator sk-toggleable\"><input class=\"sk-toggleable__control sk-hidden--visually\" id=\"sk-estimator-id-3\" type=\"checkbox\" checked><label for=\"sk-estimator-id-3\" class=\"sk-toggleable__label sk-toggleable__label-arrow\">XGBClassifier</label><div class=\"sk-toggleable__content\"><pre>XGBClassifier(base_score=None, booster=None, callbacks=None,\n              colsample_bylevel=None, colsample_bynode=None,\n              colsample_bytree=None, device=None, early_stopping_rounds=None,\n              enable_categorical=False, eval_metric=None, feature_types=None,\n              gamma=None, grow_policy=None, importance_type=None,\n              interaction_constraints=None, learning_rate=None, max_bin=None,\n              max_cat_threshold=None, max_cat_to_onehot=None,\n              max_delta_step=None, max_depth=None, max_leaves=None,\n              min_child_weight=None, missing=nan, monotone_constraints=None,\n              multi_strategy=None, n_estimators=None, n_jobs=None, num_class=7,\n              num_parallel_tree=None, ...)</pre></div></div></div></div></div>"
     },
     "execution_count": 93,
     "metadata": {},
     "output_type": "execute_result"
    }
   ],
   "source": [
    "# model = RandomForestClassifier()\n",
    "model = xgb.XGBClassifier(objective='multi:softmax', num_class=7)\n",
    "model.fit(train_x, train_y)"
   ],
   "metadata": {
    "collapsed": false,
    "ExecuteTime": {
     "end_time": "2024-01-22T14:23:49.170584Z",
     "start_time": "2024-01-22T14:23:46.803035Z"
    }
   },
   "id": "49a4826c6c0fb1b"
  },
  {
   "cell_type": "markdown",
   "source": [
    "# 예측 수행\n",
    "\n",
    ".predict()를 통해 모델이 예측한 대출등급을 구해봅시다"
   ],
   "metadata": {
    "collapsed": false
   },
   "id": "3608d06775314bf0"
  },
  {
   "cell_type": "code",
   "execution_count": 94,
   "outputs": [],
   "source": [
    "pred = model.predict(test_x)"
   ],
   "metadata": {
    "collapsed": false,
    "ExecuteTime": {
     "end_time": "2024-01-22T14:23:49.336143Z",
     "start_time": "2024-01-22T14:23:49.201258Z"
    }
   },
   "id": "eb75750b20a8b761"
  },
  {
   "cell_type": "code",
   "execution_count": 95,
   "outputs": [],
   "source": [
    "# 레이블 디코딩\n",
    "decoded_labels = le.inverse_transform(pred)"
   ],
   "metadata": {
    "collapsed": false,
    "ExecuteTime": {
     "end_time": "2024-01-22T14:23:49.343209Z",
     "start_time": "2024-01-22T14:23:49.337047Z"
    }
   },
   "id": "8ef01bf3d394ce21"
  },
  {
   "cell_type": "markdown",
   "source": [
    "# 제출양식에 예측결과 입력¶\n",
    "\n",
    "모델이 예측한 대출등급을 제출양식에 입력해 봅시다"
   ],
   "metadata": {
    "collapsed": false
   },
   "id": "ac84f243dc2a6c7e"
  },
  {
   "cell_type": "code",
   "execution_count": 96,
   "outputs": [
    {
     "data": {
      "text/plain": "               ID 대출등급\n0      TEST_00000    B\n1      TEST_00001    B\n2      TEST_00002    A\n3      TEST_00003    C\n4      TEST_00004    C\n...           ...  ...\n64192  TEST_64192    D\n64193  TEST_64193    D\n64194  TEST_64194    D\n64195  TEST_64195    C\n64196  TEST_64196    A\n\n[64197 rows x 2 columns]",
      "text/html": "<div>\n<style scoped>\n    .dataframe tbody tr th:only-of-type {\n        vertical-align: middle;\n    }\n\n    .dataframe tbody tr th {\n        vertical-align: top;\n    }\n\n    .dataframe thead th {\n        text-align: right;\n    }\n</style>\n<table border=\"1\" class=\"dataframe\">\n  <thead>\n    <tr style=\"text-align: right;\">\n      <th></th>\n      <th>ID</th>\n      <th>대출등급</th>\n    </tr>\n  </thead>\n  <tbody>\n    <tr>\n      <th>0</th>\n      <td>TEST_00000</td>\n      <td>B</td>\n    </tr>\n    <tr>\n      <th>1</th>\n      <td>TEST_00001</td>\n      <td>B</td>\n    </tr>\n    <tr>\n      <th>2</th>\n      <td>TEST_00002</td>\n      <td>A</td>\n    </tr>\n    <tr>\n      <th>3</th>\n      <td>TEST_00003</td>\n      <td>C</td>\n    </tr>\n    <tr>\n      <th>4</th>\n      <td>TEST_00004</td>\n      <td>C</td>\n    </tr>\n    <tr>\n      <th>...</th>\n      <td>...</td>\n      <td>...</td>\n    </tr>\n    <tr>\n      <th>64192</th>\n      <td>TEST_64192</td>\n      <td>D</td>\n    </tr>\n    <tr>\n      <th>64193</th>\n      <td>TEST_64193</td>\n      <td>D</td>\n    </tr>\n    <tr>\n      <th>64194</th>\n      <td>TEST_64194</td>\n      <td>D</td>\n    </tr>\n    <tr>\n      <th>64195</th>\n      <td>TEST_64195</td>\n      <td>C</td>\n    </tr>\n    <tr>\n      <th>64196</th>\n      <td>TEST_64196</td>\n      <td>A</td>\n    </tr>\n  </tbody>\n</table>\n<p>64197 rows × 2 columns</p>\n</div>"
     },
     "execution_count": 96,
     "metadata": {},
     "output_type": "execute_result"
    }
   ],
   "source": [
    "sample_submission = pd.read_csv('data/sample_submission.csv')\n",
    "sample_submission['대출등급'] = decoded_labels\n",
    "sample_submission"
   ],
   "metadata": {
    "collapsed": false,
    "ExecuteTime": {
     "end_time": "2024-01-22T14:23:49.370506Z",
     "start_time": "2024-01-22T14:23:49.342203Z"
    }
   },
   "id": "7bfcb95d39aaa7bf"
  },
  {
   "cell_type": "markdown",
   "source": [
    "# 예측결과 저장\n",
    "\n",
    "값이 기입된 제출물을 저장해 봅시다"
   ],
   "metadata": {
    "collapsed": false
   },
   "id": "9fbc948fe978a37e"
  },
  {
   "cell_type": "code",
   "execution_count": 97,
   "outputs": [
    {
     "name": "stdout",
     "output_type": "stream",
     "text": [
      "xgb_20240122_2323.csv\n"
     ]
    }
   ],
   "source": [
    "# 현재 날짜와 시간 정보 가져오기\n",
    "current_datetime = datetime.datetime.now()\n",
    "\n",
    "# 파일 이름 형식 지정 (연월일_시간)\n",
    "file_name = f'xgb_{current_datetime.strftime(\"%Y%m%d_%H%M\")}.csv'\n",
    "\n",
    "# 파일 이름 출력\n",
    "print(file_name)"
   ],
   "metadata": {
    "collapsed": false,
    "ExecuteTime": {
     "end_time": "2024-01-22T14:23:49.376998Z",
     "start_time": "2024-01-22T14:23:49.371960Z"
    }
   },
   "id": "c9976b6440ab2396"
  },
  {
   "cell_type": "code",
   "execution_count": 98,
   "outputs": [],
   "source": [
    "sample_submission.to_csv('result/'+file_name,index=False)"
   ],
   "metadata": {
    "collapsed": false,
    "ExecuteTime": {
     "end_time": "2024-01-22T14:23:49.456306Z",
     "start_time": "2024-01-22T14:23:49.383308Z"
    }
   },
   "id": "68740d5b129fe33f"
  },
  {
   "cell_type": "code",
   "execution_count": null,
   "outputs": [],
   "source": [],
   "metadata": {
    "collapsed": false
   },
   "id": "b75460951112ae5b"
  }
 ],
 "metadata": {
  "kernelspec": {
   "display_name": "Python 3",
   "language": "python",
   "name": "python3"
  },
  "language_info": {
   "codemirror_mode": {
    "name": "ipython",
    "version": 2
   },
   "file_extension": ".py",
   "mimetype": "text/x-python",
   "name": "python",
   "nbconvert_exporter": "python",
   "pygments_lexer": "ipython2",
   "version": "2.7.6"
  }
 },
 "nbformat": 4,
 "nbformat_minor": 5
}
