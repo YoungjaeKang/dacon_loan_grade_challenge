{
 "cells": [
  {
   "cell_type": "markdown",
   "source": [
    "# Load Libraries"
   ],
   "metadata": {
    "collapsed": false
   },
   "id": "3b7e91bdb6126ad"
  },
  {
   "cell_type": "code",
   "execution_count": 370,
   "id": "initial_id",
   "metadata": {
    "collapsed": true,
    "ExecuteTime": {
     "end_time": "2024-01-19T14:03:33.011855Z",
     "start_time": "2024-01-19T14:03:32.969383Z"
    }
   },
   "outputs": [],
   "source": [
    "# Suppress warnings \n",
    "import warnings\n",
    "warnings.filterwarnings('ignore')\n",
    "\n",
    "import os, sys, gc, warnings, random\n",
    "from typing import List\n",
    "\n",
    "import datetime\n",
    "import dateutil.relativedelta\n",
    "\n",
    "# Data manipulation\n",
    "import pandas as pd \n",
    "import numpy as np\n",
    "\n",
    "# EDA\n",
    "from ydata_profiling import ProfileReport\n",
    "\n",
    "# Visualization\n",
    "import matplotlib.pyplot as plt\n",
    "import seaborn as sns\n",
    "plt.style.use('seaborn')\n",
    "\n",
    "# Machine learning\n",
    "import xgboost as xgb\n",
    "from sklearn.model_selection import train_test_split\n",
    "from sklearn.metrics import f1_score, precision_score, recall_score, roc_auc_score\n",
    "from sklearn.pipeline import Pipeline\n",
    "from sklearn.preprocessing import MinMaxScaler, LabelEncoder\n",
    "from sklearn.impute import SimpleImputer\n",
    "from sklearn.metrics import precision_score, recall_score, f1_score, roc_auc_score, precision_recall_curve, roc_curve\n",
    "from sklearn.model_selection import train_test_split, cross_val_score, KFold, StratifiedKFold, GroupKFold\n",
    "from sklearn.ensemble import RandomForestClassifier\n",
    "from scipy import stats\n",
    "\n",
    "import lightgbm as lgb\n",
    "\n",
    "from tqdm.notebook import trange, tqdm\n",
    "\n",
    "from IPython.display import display\n",
    "\n",
    "%matplotlib inline\n",
    "\n",
    "pd.options.display.max_rows = 10000\n",
    "pd.options.display.max_columns = 1000\n",
    "pd.options.display.max_colwidth = 1000\n",
    "\n",
    "# 숫자 포맷 설정\n",
    "# pd.options.display.float_format = '{:,.0f}'.format\n",
    "\n",
    "# font\n",
    "plt.rc('font', family='AppleGothic')"
   ]
  },
  {
   "cell_type": "markdown",
   "source": [
    "# EDA"
   ],
   "metadata": {
    "collapsed": false
   },
   "id": "49c80b2f867d1881"
  },
  {
   "cell_type": "markdown",
   "source": [
    "## 데이터 전체 윤곽 확인"
   ],
   "metadata": {
    "collapsed": false
   },
   "id": "11afb113008a916c"
  },
  {
   "cell_type": "code",
   "execution_count": 418,
   "outputs": [],
   "source": [
    "# Load data\n",
    "train_data = pd.read_csv('data/train.csv')\n",
    "test_data = pd.read_csv('data/test.csv')"
   ],
   "metadata": {
    "collapsed": false,
    "ExecuteTime": {
     "end_time": "2024-01-19T14:04:46.973284Z",
     "start_time": "2024-01-19T14:04:46.755553Z"
    }
   },
   "id": "d6fbe892c263a1a6"
  },
  {
   "cell_type": "code",
   "execution_count": 372,
   "outputs": [
    {
     "data": {
      "text/plain": "           ID      대출금액        대출기간     근로기간    주택소유상태       연간소득  \\\n0  TEST_00000  16800000   36 months  8 years  MORTGAGE  132000000   \n1  TEST_00001   8400000   36 months  5 years      RENT   89971200   \n\n   부채_대비_소득_비율  총계좌수   대출목적  최근_2년간_연체_횟수   총상환원금   총상환이자  총연체금액  연체계좌수  \n0           20    12  주택 개선             0  394692 146,604      0      0  \n1           16    25  부채 통합             0       0       0      0      0  ",
      "text/html": "<div>\n<style scoped>\n    .dataframe tbody tr th:only-of-type {\n        vertical-align: middle;\n    }\n\n    .dataframe tbody tr th {\n        vertical-align: top;\n    }\n\n    .dataframe thead th {\n        text-align: right;\n    }\n</style>\n<table border=\"1\" class=\"dataframe\">\n  <thead>\n    <tr style=\"text-align: right;\">\n      <th></th>\n      <th>ID</th>\n      <th>대출금액</th>\n      <th>대출기간</th>\n      <th>근로기간</th>\n      <th>주택소유상태</th>\n      <th>연간소득</th>\n      <th>부채_대비_소득_비율</th>\n      <th>총계좌수</th>\n      <th>대출목적</th>\n      <th>최근_2년간_연체_횟수</th>\n      <th>총상환원금</th>\n      <th>총상환이자</th>\n      <th>총연체금액</th>\n      <th>연체계좌수</th>\n    </tr>\n  </thead>\n  <tbody>\n    <tr>\n      <th>0</th>\n      <td>TEST_00000</td>\n      <td>16800000</td>\n      <td>36 months</td>\n      <td>8 years</td>\n      <td>MORTGAGE</td>\n      <td>132000000</td>\n      <td>20</td>\n      <td>12</td>\n      <td>주택 개선</td>\n      <td>0</td>\n      <td>394692</td>\n      <td>146,604</td>\n      <td>0</td>\n      <td>0</td>\n    </tr>\n    <tr>\n      <th>1</th>\n      <td>TEST_00001</td>\n      <td>8400000</td>\n      <td>36 months</td>\n      <td>5 years</td>\n      <td>RENT</td>\n      <td>89971200</td>\n      <td>16</td>\n      <td>25</td>\n      <td>부채 통합</td>\n      <td>0</td>\n      <td>0</td>\n      <td>0</td>\n      <td>0</td>\n      <td>0</td>\n    </tr>\n  </tbody>\n</table>\n</div>"
     },
     "execution_count": 372,
     "metadata": {},
     "output_type": "execute_result"
    }
   ],
   "source": [
    "# test data\n",
    "test_data.head(2)"
   ],
   "metadata": {
    "collapsed": false,
    "ExecuteTime": {
     "end_time": "2024-01-19T14:03:33.664283Z",
     "start_time": "2024-01-19T14:03:33.654357Z"
    }
   },
   "id": "6512c14adb06a1a2"
  },
  {
   "cell_type": "code",
   "execution_count": 373,
   "outputs": [
    {
     "data": {
      "text/plain": "            ID      대출금액        대출기간       근로기간    주택소유상태       연간소득  \\\n0  TRAIN_00000  12480000   36 months    6 years      RENT   72000000   \n1  TRAIN_00001  14400000   60 months  10+ years  MORTGAGE  130800000   \n2  TRAIN_00002  12000000   36 months    5 years  MORTGAGE   96000000   \n3  TRAIN_00003  14400000   36 months    8 years  MORTGAGE  132000000   \n4  TRAIN_00004  18000000   60 months    Unknown      RENT   71736000   \n\n   부채_대비_소득_비율  총계좌수   대출목적  최근_2년간_연체_횟수   총상환원금   총상환이자  총연체금액  연체계좌수 대출등급  \n0           19    15  부채 통합             0       0       0      0      0    C  \n1           22    21  주택 개선             0  373572 234,060      0      0    B  \n2            9    14  부채 통합             0  928644 151,944      0      0    A  \n3           15    15  부채 통합             0  325824 153,108      0      0    C  \n4           25    19  주요 구매             0  228540 148,956      0      0    B  ",
      "text/html": "<div>\n<style scoped>\n    .dataframe tbody tr th:only-of-type {\n        vertical-align: middle;\n    }\n\n    .dataframe tbody tr th {\n        vertical-align: top;\n    }\n\n    .dataframe thead th {\n        text-align: right;\n    }\n</style>\n<table border=\"1\" class=\"dataframe\">\n  <thead>\n    <tr style=\"text-align: right;\">\n      <th></th>\n      <th>ID</th>\n      <th>대출금액</th>\n      <th>대출기간</th>\n      <th>근로기간</th>\n      <th>주택소유상태</th>\n      <th>연간소득</th>\n      <th>부채_대비_소득_비율</th>\n      <th>총계좌수</th>\n      <th>대출목적</th>\n      <th>최근_2년간_연체_횟수</th>\n      <th>총상환원금</th>\n      <th>총상환이자</th>\n      <th>총연체금액</th>\n      <th>연체계좌수</th>\n      <th>대출등급</th>\n    </tr>\n  </thead>\n  <tbody>\n    <tr>\n      <th>0</th>\n      <td>TRAIN_00000</td>\n      <td>12480000</td>\n      <td>36 months</td>\n      <td>6 years</td>\n      <td>RENT</td>\n      <td>72000000</td>\n      <td>19</td>\n      <td>15</td>\n      <td>부채 통합</td>\n      <td>0</td>\n      <td>0</td>\n      <td>0</td>\n      <td>0</td>\n      <td>0</td>\n      <td>C</td>\n    </tr>\n    <tr>\n      <th>1</th>\n      <td>TRAIN_00001</td>\n      <td>14400000</td>\n      <td>60 months</td>\n      <td>10+ years</td>\n      <td>MORTGAGE</td>\n      <td>130800000</td>\n      <td>22</td>\n      <td>21</td>\n      <td>주택 개선</td>\n      <td>0</td>\n      <td>373572</td>\n      <td>234,060</td>\n      <td>0</td>\n      <td>0</td>\n      <td>B</td>\n    </tr>\n    <tr>\n      <th>2</th>\n      <td>TRAIN_00002</td>\n      <td>12000000</td>\n      <td>36 months</td>\n      <td>5 years</td>\n      <td>MORTGAGE</td>\n      <td>96000000</td>\n      <td>9</td>\n      <td>14</td>\n      <td>부채 통합</td>\n      <td>0</td>\n      <td>928644</td>\n      <td>151,944</td>\n      <td>0</td>\n      <td>0</td>\n      <td>A</td>\n    </tr>\n    <tr>\n      <th>3</th>\n      <td>TRAIN_00003</td>\n      <td>14400000</td>\n      <td>36 months</td>\n      <td>8 years</td>\n      <td>MORTGAGE</td>\n      <td>132000000</td>\n      <td>15</td>\n      <td>15</td>\n      <td>부채 통합</td>\n      <td>0</td>\n      <td>325824</td>\n      <td>153,108</td>\n      <td>0</td>\n      <td>0</td>\n      <td>C</td>\n    </tr>\n    <tr>\n      <th>4</th>\n      <td>TRAIN_00004</td>\n      <td>18000000</td>\n      <td>60 months</td>\n      <td>Unknown</td>\n      <td>RENT</td>\n      <td>71736000</td>\n      <td>25</td>\n      <td>19</td>\n      <td>주요 구매</td>\n      <td>0</td>\n      <td>228540</td>\n      <td>148,956</td>\n      <td>0</td>\n      <td>0</td>\n      <td>B</td>\n    </tr>\n  </tbody>\n</table>\n</div>"
     },
     "execution_count": 373,
     "metadata": {},
     "output_type": "execute_result"
    }
   ],
   "source": [
    "# train data\n",
    "train_data.head()"
   ],
   "metadata": {
    "collapsed": false,
    "ExecuteTime": {
     "end_time": "2024-01-19T14:03:33.827827Z",
     "start_time": "2024-01-19T14:03:33.822928Z"
    }
   },
   "id": "f10bab4ce7e7075"
  },
  {
   "cell_type": "code",
   "execution_count": 374,
   "outputs": [
    {
     "name": "stdout",
     "output_type": "stream",
     "text": [
      "<class 'pandas.core.frame.DataFrame'>\n",
      "RangeIndex: 96294 entries, 0 to 96293\n",
      "Data columns (total 15 columns):\n",
      " #   Column        Non-Null Count  Dtype  \n",
      "---  ------        --------------  -----  \n",
      " 0   ID            96294 non-null  object \n",
      " 1   대출금액          96294 non-null  int64  \n",
      " 2   대출기간          96294 non-null  object \n",
      " 3   근로기간          96294 non-null  object \n",
      " 4   주택소유상태        96294 non-null  object \n",
      " 5   연간소득          96294 non-null  int64  \n",
      " 6   부채_대비_소득_비율   96294 non-null  float64\n",
      " 7   총계좌수          96294 non-null  int64  \n",
      " 8   대출목적          96294 non-null  object \n",
      " 9   최근_2년간_연체_횟수  96294 non-null  int64  \n",
      " 10  총상환원금         96294 non-null  int64  \n",
      " 11  총상환이자         96294 non-null  float64\n",
      " 12  총연체금액         96294 non-null  float64\n",
      " 13  연체계좌수         96294 non-null  float64\n",
      " 14  대출등급          96294 non-null  object \n",
      "dtypes: float64(4), int64(5), object(6)\n",
      "memory usage: 11.0+ MB\n"
     ]
    }
   ],
   "source": [
    "train_data.info()"
   ],
   "metadata": {
    "collapsed": false,
    "ExecuteTime": {
     "end_time": "2024-01-19T14:03:34.029912Z",
     "start_time": "2024-01-19T14:03:33.985899Z"
    }
   },
   "id": "34cbe352db144d63"
  },
  {
   "cell_type": "code",
   "execution_count": 375,
   "outputs": [
    {
     "data": {
      "text/plain": "                 ID       대출금액        대출기간       근로기간    주택소유상태  \\\ncount         96294     96,294       96294      96294     96294   \nunique        96294        NaN           2         16         4   \ntop     TRAIN_00000        NaN   36 months  10+ years  MORTGAGE   \nfreq              1        NaN       64479      31585     47934   \nmean            NaN 18,303,998         NaN        NaN       NaN   \nstd             NaN 10,329,076         NaN        NaN       NaN   \nmin             NaN  1,200,000         NaN        NaN       NaN   \n25%             NaN 10,200,000         NaN        NaN       NaN   \n50%             NaN 16,800,000         NaN        NaN       NaN   \n75%             NaN 24,000,000         NaN        NaN       NaN   \nmax             NaN 42,000,000         NaN        NaN       NaN   \n\n                 연간소득  부채_대비_소득_비율   총계좌수   대출목적  최근_2년간_연체_횟수      총상환원금  \\\ncount          96,294       96,294 96,294  96294        96,294     96,294   \nunique            NaN          NaN    NaN     12           NaN        NaN   \ntop               NaN          NaN    NaN  부채 통합           NaN        NaN   \nfreq              NaN          NaN    NaN  55150           NaN        NaN   \nmean       93,926,725           19     25    NaN             0    822,503   \nstd        99,568,708           34     12    NaN             1  1,027,745   \nmin                 0            0      4    NaN             0          0   \n25%        57,600,000           13     17    NaN             0    307,572   \n50%        78,000,000           19     24    NaN             0    597,696   \n75%       112,800,000           26     32    NaN             0  1,055,076   \nmax    10,800,000,000        9,999    169    NaN            30 41,955,936   \n\n           총상환이자  총연체금액  연체계좌수   대출등급  \ncount     96,294 96,294 96,294  96294  \nunique       NaN    NaN    NaN      7  \ntop          NaN    NaN    NaN      B  \nfreq         NaN    NaN    NaN  28817  \nmean     428,228     54      0    NaN  \nstd      440,211  1,415      0    NaN  \nmin            0      0      0    NaN  \n25%      134,616      0      0    NaN  \n50%      287,004      0      0    NaN  \n75%      570,216      0      0    NaN  \nmax    5,653,416 75,768      4    NaN  ",
      "text/html": "<div>\n<style scoped>\n    .dataframe tbody tr th:only-of-type {\n        vertical-align: middle;\n    }\n\n    .dataframe tbody tr th {\n        vertical-align: top;\n    }\n\n    .dataframe thead th {\n        text-align: right;\n    }\n</style>\n<table border=\"1\" class=\"dataframe\">\n  <thead>\n    <tr style=\"text-align: right;\">\n      <th></th>\n      <th>ID</th>\n      <th>대출금액</th>\n      <th>대출기간</th>\n      <th>근로기간</th>\n      <th>주택소유상태</th>\n      <th>연간소득</th>\n      <th>부채_대비_소득_비율</th>\n      <th>총계좌수</th>\n      <th>대출목적</th>\n      <th>최근_2년간_연체_횟수</th>\n      <th>총상환원금</th>\n      <th>총상환이자</th>\n      <th>총연체금액</th>\n      <th>연체계좌수</th>\n      <th>대출등급</th>\n    </tr>\n  </thead>\n  <tbody>\n    <tr>\n      <th>count</th>\n      <td>96294</td>\n      <td>96,294</td>\n      <td>96294</td>\n      <td>96294</td>\n      <td>96294</td>\n      <td>96,294</td>\n      <td>96,294</td>\n      <td>96,294</td>\n      <td>96294</td>\n      <td>96,294</td>\n      <td>96,294</td>\n      <td>96,294</td>\n      <td>96,294</td>\n      <td>96,294</td>\n      <td>96294</td>\n    </tr>\n    <tr>\n      <th>unique</th>\n      <td>96294</td>\n      <td>NaN</td>\n      <td>2</td>\n      <td>16</td>\n      <td>4</td>\n      <td>NaN</td>\n      <td>NaN</td>\n      <td>NaN</td>\n      <td>12</td>\n      <td>NaN</td>\n      <td>NaN</td>\n      <td>NaN</td>\n      <td>NaN</td>\n      <td>NaN</td>\n      <td>7</td>\n    </tr>\n    <tr>\n      <th>top</th>\n      <td>TRAIN_00000</td>\n      <td>NaN</td>\n      <td>36 months</td>\n      <td>10+ years</td>\n      <td>MORTGAGE</td>\n      <td>NaN</td>\n      <td>NaN</td>\n      <td>NaN</td>\n      <td>부채 통합</td>\n      <td>NaN</td>\n      <td>NaN</td>\n      <td>NaN</td>\n      <td>NaN</td>\n      <td>NaN</td>\n      <td>B</td>\n    </tr>\n    <tr>\n      <th>freq</th>\n      <td>1</td>\n      <td>NaN</td>\n      <td>64479</td>\n      <td>31585</td>\n      <td>47934</td>\n      <td>NaN</td>\n      <td>NaN</td>\n      <td>NaN</td>\n      <td>55150</td>\n      <td>NaN</td>\n      <td>NaN</td>\n      <td>NaN</td>\n      <td>NaN</td>\n      <td>NaN</td>\n      <td>28817</td>\n    </tr>\n    <tr>\n      <th>mean</th>\n      <td>NaN</td>\n      <td>18,303,998</td>\n      <td>NaN</td>\n      <td>NaN</td>\n      <td>NaN</td>\n      <td>93,926,725</td>\n      <td>19</td>\n      <td>25</td>\n      <td>NaN</td>\n      <td>0</td>\n      <td>822,503</td>\n      <td>428,228</td>\n      <td>54</td>\n      <td>0</td>\n      <td>NaN</td>\n    </tr>\n    <tr>\n      <th>std</th>\n      <td>NaN</td>\n      <td>10,329,076</td>\n      <td>NaN</td>\n      <td>NaN</td>\n      <td>NaN</td>\n      <td>99,568,708</td>\n      <td>34</td>\n      <td>12</td>\n      <td>NaN</td>\n      <td>1</td>\n      <td>1,027,745</td>\n      <td>440,211</td>\n      <td>1,415</td>\n      <td>0</td>\n      <td>NaN</td>\n    </tr>\n    <tr>\n      <th>min</th>\n      <td>NaN</td>\n      <td>1,200,000</td>\n      <td>NaN</td>\n      <td>NaN</td>\n      <td>NaN</td>\n      <td>0</td>\n      <td>0</td>\n      <td>4</td>\n      <td>NaN</td>\n      <td>0</td>\n      <td>0</td>\n      <td>0</td>\n      <td>0</td>\n      <td>0</td>\n      <td>NaN</td>\n    </tr>\n    <tr>\n      <th>25%</th>\n      <td>NaN</td>\n      <td>10,200,000</td>\n      <td>NaN</td>\n      <td>NaN</td>\n      <td>NaN</td>\n      <td>57,600,000</td>\n      <td>13</td>\n      <td>17</td>\n      <td>NaN</td>\n      <td>0</td>\n      <td>307,572</td>\n      <td>134,616</td>\n      <td>0</td>\n      <td>0</td>\n      <td>NaN</td>\n    </tr>\n    <tr>\n      <th>50%</th>\n      <td>NaN</td>\n      <td>16,800,000</td>\n      <td>NaN</td>\n      <td>NaN</td>\n      <td>NaN</td>\n      <td>78,000,000</td>\n      <td>19</td>\n      <td>24</td>\n      <td>NaN</td>\n      <td>0</td>\n      <td>597,696</td>\n      <td>287,004</td>\n      <td>0</td>\n      <td>0</td>\n      <td>NaN</td>\n    </tr>\n    <tr>\n      <th>75%</th>\n      <td>NaN</td>\n      <td>24,000,000</td>\n      <td>NaN</td>\n      <td>NaN</td>\n      <td>NaN</td>\n      <td>112,800,000</td>\n      <td>26</td>\n      <td>32</td>\n      <td>NaN</td>\n      <td>0</td>\n      <td>1,055,076</td>\n      <td>570,216</td>\n      <td>0</td>\n      <td>0</td>\n      <td>NaN</td>\n    </tr>\n    <tr>\n      <th>max</th>\n      <td>NaN</td>\n      <td>42,000,000</td>\n      <td>NaN</td>\n      <td>NaN</td>\n      <td>NaN</td>\n      <td>10,800,000,000</td>\n      <td>9,999</td>\n      <td>169</td>\n      <td>NaN</td>\n      <td>30</td>\n      <td>41,955,936</td>\n      <td>5,653,416</td>\n      <td>75,768</td>\n      <td>4</td>\n      <td>NaN</td>\n    </tr>\n  </tbody>\n</table>\n</div>"
     },
     "execution_count": 375,
     "metadata": {},
     "output_type": "execute_result"
    }
   ],
   "source": [
    "train_data.describe(include='all')"
   ],
   "metadata": {
    "collapsed": false,
    "ExecuteTime": {
     "end_time": "2024-01-19T14:03:34.253273Z",
     "start_time": "2024-01-19T14:03:34.185100Z"
    }
   },
   "id": "70078b65982eccf6"
  },
  {
   "cell_type": "code",
   "execution_count": 376,
   "outputs": [
    {
     "data": {
      "text/plain": "0"
     },
     "execution_count": 376,
     "metadata": {},
     "output_type": "execute_result"
    }
   ],
   "source": [
    "# 결측치 없음\n",
    "train_data.isnull().sum().sum()"
   ],
   "metadata": {
    "collapsed": false,
    "ExecuteTime": {
     "end_time": "2024-01-19T14:03:34.429843Z",
     "start_time": "2024-01-19T14:03:34.395621Z"
    }
   },
   "id": "ee90c91f7ee54070"
  },
  {
   "cell_type": "markdown",
   "source": [
    "## Pandas Profiling"
   ],
   "metadata": {
    "collapsed": false
   },
   "id": "142c1f1a1a3d1a68"
  },
  {
   "cell_type": "code",
   "execution_count": 377,
   "outputs": [],
   "source": [
    "profile = ProfileReport(train_data, title=\"Profiling Report\")"
   ],
   "metadata": {
    "collapsed": false,
    "ExecuteTime": {
     "end_time": "2024-01-19T14:03:34.691705Z",
     "start_time": "2024-01-19T14:03:34.689052Z"
    }
   },
   "id": "de716e56621c0787"
  },
  {
   "cell_type": "code",
   "execution_count": 378,
   "outputs": [],
   "source": [
    "# profile.to_notebook_iframe()"
   ],
   "metadata": {
    "collapsed": false,
    "ExecuteTime": {
     "end_time": "2024-01-19T14:03:34.871092Z",
     "start_time": "2024-01-19T14:03:34.859674Z"
    }
   },
   "id": "ba3c6dc5708dda6e"
  },
  {
   "cell_type": "markdown",
   "source": [
    "## 컬럼별 확인"
   ],
   "metadata": {
    "collapsed": false
   },
   "id": "6a6643e3cf70f35f"
  },
  {
   "cell_type": "code",
   "execution_count": 379,
   "outputs": [
    {
     "data": {
      "text/plain": "Index(['ID', '대출금액', '대출기간', '근로기간', '주택소유상태', '연간소득', '부채_대비_소득_비율', '총계좌수',\n       '대출목적', '최근_2년간_연체_횟수', '총상환원금', '총상환이자', '총연체금액', '연체계좌수', '대출등급'],\n      dtype='object')"
     },
     "execution_count": 379,
     "metadata": {},
     "output_type": "execute_result"
    }
   ],
   "source": [
    "train_data.columns"
   ],
   "metadata": {
    "collapsed": false,
    "ExecuteTime": {
     "end_time": "2024-01-19T14:03:35.202030Z",
     "start_time": "2024-01-19T14:03:35.188658Z"
    }
   },
   "id": "68c9a8d44efe2f34"
  },
  {
   "cell_type": "markdown",
   "source": [
    "### 대출금액"
   ],
   "metadata": {
    "collapsed": false
   },
   "id": "79540dd2346e2fd7"
  },
  {
   "cell_type": "code",
   "execution_count": 380,
   "outputs": [
    {
     "data": {
      "text/plain": "count       96,294\nmean    18,303,998\nstd     10,329,076\nmin      1,200,000\n25%     10,200,000\n50%     16,800,000\n75%     24,000,000\nmax     42,000,000\nName: 대출금액, dtype: float64"
     },
     "execution_count": 380,
     "metadata": {},
     "output_type": "execute_result"
    }
   ],
   "source": [
    "train_data['대출금액'].describe()"
   ],
   "metadata": {
    "collapsed": false,
    "ExecuteTime": {
     "end_time": "2024-01-19T14:03:35.587401Z",
     "start_time": "2024-01-19T14:03:35.573846Z"
    }
   },
   "id": "6ccc1dfe3002aeee"
  },
  {
   "cell_type": "code",
   "execution_count": 381,
   "outputs": [
    {
     "data": {
      "text/plain": "<Figure size 800x550 with 1 Axes>",
      "image/png": "[encoded data removed]"
     },
     "metadata": {},
     "output_type": "display_data"
    }
   ],
   "source": [
    "plt.hist(train_data['대출금액'], bins=20, edgecolor='k')\n",
    "plt.xlabel('대출금액')\n",
    "plt.ylabel('빈도')\n",
    "plt.title('대출금액 분포')\n",
    "plt.show()"
   ],
   "metadata": {
    "collapsed": false,
    "ExecuteTime": {
     "end_time": "2024-01-19T14:03:35.885166Z",
     "start_time": "2024-01-19T14:03:35.758250Z"
    }
   },
   "id": "361a66cf5a870f58"
  },
  {
   "cell_type": "markdown",
   "source": [
    "### 대출기간"
   ],
   "metadata": {
    "collapsed": false
   },
   "id": "2f0ff7e65558a13a"
  },
  {
   "cell_type": "code",
   "execution_count": 382,
   "outputs": [
    {
     "data": {
      "text/plain": "array([' 36 months', ' 60 months'], dtype=object)"
     },
     "execution_count": 382,
     "metadata": {},
     "output_type": "execute_result"
    }
   ],
   "source": [
    "train_data['대출기간'].unique()"
   ],
   "metadata": {
    "collapsed": false,
    "ExecuteTime": {
     "end_time": "2024-01-19T14:03:36.132450Z",
     "start_time": "2024-01-19T14:03:36.127314Z"
    }
   },
   "id": "3f272a88fd7db752"
  },
  {
   "cell_type": "code",
   "execution_count": 383,
   "outputs": [
    {
     "data": {
      "text/plain": "<Figure size 1000x400 with 1 Axes>",
      "image/png": "[encoded data removed]"
     },
     "metadata": {},
     "output_type": "display_data"
    }
   ],
   "source": [
    "plt.figure(figsize=(10, 4))\n",
    "sns.countplot(train_data, x='대출기간')\n",
    "plt.xlabel('대출기간')\n",
    "plt.ylabel('빈도')\n",
    "plt.title('대출기간별 고객 수')\n",
    "plt.show()"
   ],
   "metadata": {
    "collapsed": false,
    "ExecuteTime": {
     "end_time": "2024-01-19T14:03:36.388294Z",
     "start_time": "2024-01-19T14:03:36.312121Z"
    }
   },
   "id": "111fc4eea1e27b54"
  },
  {
   "cell_type": "markdown",
   "source": [
    "대출기간이 짧은 (36개월) 경우가 긴 (60개월) 경우보다 2배 가량 많다. 단기와 장기에 대한 차이를 반영하여 새로운 피쳐로 생성 필요"
   ],
   "metadata": {
    "collapsed": false
   },
   "id": "c11bf0659cbd7eba"
  },
  {
   "cell_type": "markdown",
   "source": [
    "### 근로기간"
   ],
   "metadata": {
    "collapsed": false
   },
   "id": "5c34adab9ad426a1"
  },
  {
   "cell_type": "code",
   "execution_count": 384,
   "outputs": [
    {
     "data": {
      "text/plain": "array(['6 years', '10+ years', '5 years', '8 years', 'Unknown', '9 years',\n       '2 years', '1 year', '3 years', '7 years', '4 years', '< 1 year',\n       '10+years', '<1 year', '3', '1 years'], dtype=object)"
     },
     "execution_count": 384,
     "metadata": {},
     "output_type": "execute_result"
    }
   ],
   "source": [
    "train_data['근로기간'].unique()"
   ],
   "metadata": {
    "collapsed": false,
    "ExecuteTime": {
     "end_time": "2024-01-19T14:03:36.848737Z",
     "start_time": "2024-01-19T14:03:36.842615Z"
    }
   },
   "id": "e1af62a6489535b3"
  },
  {
   "cell_type": "code",
   "execution_count": 385,
   "outputs": [],
   "source": [
    "# '근로기간' 컬럼 데이터 매핑\n",
    "mapping = {\n",
    "    '6 years': 6,\n",
    "    '10+ years': 10,\n",
    "    '5 years': 5,\n",
    "    '8 years': 8,\n",
    "    'Unknown': 0,\n",
    "    '9 years': 9,\n",
    "    '2 years': 2,\n",
    "    '1 year': 1,\n",
    "    '3 years': 3,\n",
    "    '7 years': 7\n",
    "}\n",
    "\n",
    "temp = train_data.copy()\n",
    "\n",
    "# '근로기간' 컬럼을 숫자로 변환\n",
    "temp['근로기간'] = temp['근로기간'].map(mapping)"
   ],
   "metadata": {
    "collapsed": false,
    "ExecuteTime": {
     "end_time": "2024-01-19T14:03:37.036794Z",
     "start_time": "2024-01-19T14:03:37.019659Z"
    }
   },
   "id": "32cc9579e1fa5213"
  },
  {
   "cell_type": "code",
   "execution_count": 386,
   "outputs": [
    {
     "data": {
      "text/plain": "<Figure size 1000x400 with 1 Axes>",
      "image/png": "[encoded data removed]"
     },
     "metadata": {},
     "output_type": "display_data"
    }
   ],
   "source": [
    "plt.figure(figsize=(10, 4))\n",
    "sns.countplot(temp, x='근로기간')\n",
    "plt.xlabel('근로기간')\n",
    "plt.ylabel('빈도')\n",
    "plt.title('근로기간별 고객 수 (년)')\n",
    "plt.show()"
   ],
   "metadata": {
    "collapsed": false,
    "ExecuteTime": {
     "end_time": "2024-01-19T14:03:37.343373Z",
     "start_time": "2024-01-19T14:03:37.227677Z"
    }
   },
   "id": "686c5fc8962e0436"
  },
  {
   "cell_type": "markdown",
   "source": [
    "근로기간을 숫자형 변수로 변환 필요"
   ],
   "metadata": {
    "collapsed": false
   },
   "id": "9ea1c86fb2d44f74"
  },
  {
   "cell_type": "markdown",
   "source": [
    "### 주택소유상태"
   ],
   "metadata": {
    "collapsed": false
   },
   "id": "e6fd8b9375279507"
  },
  {
   "cell_type": "code",
   "execution_count": 387,
   "outputs": [
    {
     "data": {
      "text/plain": "array(['RENT', 'MORTGAGE', 'OWN', 'ANY'], dtype=object)"
     },
     "execution_count": 387,
     "metadata": {},
     "output_type": "execute_result"
    }
   ],
   "source": [
    "train_data['주택소유상태'].unique()"
   ],
   "metadata": {
    "collapsed": false,
    "ExecuteTime": {
     "end_time": "2024-01-19T14:03:37.789404Z",
     "start_time": "2024-01-19T14:03:37.785340Z"
    }
   },
   "id": "6b1ee325da0baf26"
  },
  {
   "cell_type": "code",
   "execution_count": 388,
   "outputs": [
    {
     "data": {
      "text/plain": "<Figure size 1000x400 with 1 Axes>",
      "image/png": "[encoded data removed]"
     },
     "metadata": {},
     "output_type": "display_data"
    }
   ],
   "source": [
    "plt.figure(figsize=(10, 4))\n",
    "sns.countplot(temp, x='주택소유상태')\n",
    "plt.xlabel('근로기간')\n",
    "plt.ylabel('빈도')\n",
    "plt.title('근로기간별 고객 수 (년)')\n",
    "plt.show()"
   ],
   "metadata": {
    "collapsed": false,
    "ExecuteTime": {
     "end_time": "2024-01-19T14:03:38.067439Z",
     "start_time": "2024-01-19T14:03:37.973862Z"
    }
   },
   "id": "624321af6b983b54"
  },
  {
   "cell_type": "markdown",
   "source": [
    "### 연간소득"
   ],
   "metadata": {
    "collapsed": false
   },
   "id": "7b130e68384ff8"
  },
  {
   "cell_type": "code",
   "execution_count": 389,
   "outputs": [
    {
     "data": {
      "text/plain": "count           96,294\nmean        93,926,725\nstd         99,568,708\nmin                  0\n25%         57,600,000\n50%         78,000,000\n75%        112,800,000\nmax     10,800,000,000\nName: 연간소득, dtype: float64"
     },
     "execution_count": 389,
     "metadata": {},
     "output_type": "execute_result"
    }
   ],
   "source": [
    "train_data['연간소득'].describe()"
   ],
   "metadata": {
    "collapsed": false,
    "ExecuteTime": {
     "end_time": "2024-01-19T14:03:38.372381Z",
     "start_time": "2024-01-19T14:03:38.366054Z"
    }
   },
   "id": "121cc69f90f302c8"
  },
  {
   "cell_type": "code",
   "execution_count": 390,
   "outputs": [
    {
     "data": {
      "text/plain": "<Figure size 600x400 with 1 Axes>",
      "image/png": "[encoded data removed]"
     },
     "metadata": {},
     "output_type": "display_data"
    }
   ],
   "source": [
    "# 연간소득 금액 분포\n",
    "plt.figure(figsize=(6, 4))\n",
    "plt.hist(train_data['연간소득'], bins=100, edgecolor='k', alpha=0.7)\n",
    "plt.xlabel('연간 소득')\n",
    "plt.ylabel('빈도')\n",
    "plt.title('연간 소득 분포')\n",
    "plt.show()"
   ],
   "metadata": {
    "collapsed": false,
    "ExecuteTime": {
     "end_time": "2024-01-19T14:03:38.662441Z",
     "start_time": "2024-01-19T14:03:38.557228Z"
    }
   },
   "id": "68a2f974a631bcb6"
  },
  {
   "cell_type": "code",
   "execution_count": 391,
   "outputs": [
    {
     "data": {
      "text/plain": "<Figure size 600x400 with 1 Axes>",
      "image/png": "[encoded data removed]"
     },
     "metadata": {},
     "output_type": "display_data"
    }
   ],
   "source": [
    "# 대출등급별 연간소득 분포 (로그 스케일)\n",
    "plt.figure(figsize=(6, 4))\n",
    "plt.hist(np.log1p(train_data['연간소득']), bins=30, edgecolor='k', alpha=0.7)\n",
    "plt.xlabel('로그(연간 소득)')\n",
    "plt.ylabel('빈도')\n",
    "plt.title('로그 스케일로 연간 소득 분포')\n",
    "plt.show()"
   ],
   "metadata": {
    "collapsed": false,
    "ExecuteTime": {
     "end_time": "2024-01-19T14:03:38.854731Z",
     "start_time": "2024-01-19T14:03:38.772Z"
    }
   },
   "id": "80dbd62e4112e4b0"
  },
  {
   "cell_type": "code",
   "execution_count": 392,
   "outputs": [
    {
     "data": {
      "text/plain": "<Figure size 1000x400 with 1 Axes>",
      "image/png": "[encoded data removed]"
     },
     "metadata": {},
     "output_type": "display_data"
    }
   ],
   "source": [
    "# 아웃라이어 제거\n",
    "\n",
    "# '연간소득'과 '대출등급' 컬럼을 선택하여 데이터프레임 생성\n",
    "year_income = train_data[['연간소득','대출등급']].copy()\n",
    "z_scores = stats.zscore(year_income['연간소득'])\n",
    "threshold = 3  # 임계값 설정\n",
    "filtered_data = year_income[(z_scores < threshold) & (z_scores > -threshold)]\n",
    "plt.figure(figsize=(10, 4))\n",
    "sns.boxplot(x='대출등급', y='연간소득', data=filtered_data)\n",
    "plt.xlabel('대출등급')\n",
    "plt.ylabel('연간소득')\n",
    "plt.title('대출등급별 연간소득 분포')\n",
    "plt.show()"
   ],
   "metadata": {
    "collapsed": false,
    "ExecuteTime": {
     "end_time": "2024-01-19T14:03:39.080640Z",
     "start_time": "2024-01-19T14:03:38.953481Z"
    }
   },
   "id": "52a3099a5cba9a5b"
  },
  {
   "cell_type": "markdown",
   "source": [
    "### 부채_대비_소득_비율"
   ],
   "metadata": {
    "collapsed": false,
    "ExecuteTime": {
     "end_time": "2024-01-19T07:09:37.932262Z",
     "start_time": "2024-01-19T07:09:37.924214Z"
    }
   },
   "id": "43c6bded307c2821"
  },
  {
   "cell_type": "code",
   "execution_count": 393,
   "outputs": [
    {
     "data": {
      "text/plain": "count   96,294\nmean        19\nstd         34\nmin          0\n25%         13\n50%         19\n75%         26\nmax      9,999\nName: 부채_대비_소득_비율, dtype: float64"
     },
     "execution_count": 393,
     "metadata": {},
     "output_type": "execute_result"
    }
   ],
   "source": [
    "train_data['부채_대비_소득_비율'].describe()"
   ],
   "metadata": {
    "collapsed": false,
    "ExecuteTime": {
     "end_time": "2024-01-19T14:03:39.348392Z",
     "start_time": "2024-01-19T14:03:39.336310Z"
    }
   },
   "id": "8188cba97dc82982"
  },
  {
   "cell_type": "code",
   "execution_count": 394,
   "outputs": [
    {
     "data": {
      "text/plain": "<Figure size 600x400 with 1 Axes>",
      "image/png": "[encoded data removed]"
     },
     "metadata": {},
     "output_type": "display_data"
    }
   ],
   "source": [
    "# log1p 적용\n",
    "plt.figure(figsize=(6, 4))\n",
    "sns.histplot(np.log1p(train_data['부채_대비_소득_비율']), bins=100, kde=True)\n",
    "plt.xlabel('부채 대비 소득 비율', fontsize=14)\n",
    "plt.ylabel('빈도', fontsize=14)\n",
    "plt.title('부채 대비 소득 비율 분포', fontsize=16)\n",
    "plt.show()"
   ],
   "metadata": {
    "collapsed": false,
    "ExecuteTime": {
     "end_time": "2024-01-19T14:03:39.820676Z",
     "start_time": "2024-01-19T14:03:39.523432Z"
    }
   },
   "id": "163af5b934d3a20c"
  },
  {
   "cell_type": "markdown",
   "source": [
    "### 총계좌수"
   ],
   "metadata": {
    "collapsed": false,
    "ExecuteTime": {
     "end_time": "2024-01-19T07:11:11.851525Z",
     "start_time": "2024-01-19T07:11:11.741495Z"
    }
   },
   "id": "103b431154d8adb9"
  },
  {
   "cell_type": "code",
   "execution_count": 395,
   "outputs": [
    {
     "data": {
      "text/plain": "count   96,294\nmean        25\nstd         12\nmin          4\n25%         17\n50%         24\n75%         32\nmax        169\nName: 총계좌수, dtype: float64"
     },
     "execution_count": 395,
     "metadata": {},
     "output_type": "execute_result"
    }
   ],
   "source": [
    "train_data['총계좌수'].describe()"
   ],
   "metadata": {
    "collapsed": false,
    "ExecuteTime": {
     "end_time": "2024-01-19T14:03:39.961144Z",
     "start_time": "2024-01-19T14:03:39.936887Z"
    }
   },
   "id": "6268a9c3725a5efe"
  },
  {
   "cell_type": "markdown",
   "source": [
    "### 대출목적"
   ],
   "metadata": {
    "collapsed": false
   },
   "id": "6e2e30f8f7b585ea"
  },
  {
   "cell_type": "code",
   "execution_count": 396,
   "outputs": [
    {
     "data": {
      "text/plain": "array(['부채 통합', '주택 개선', '주요 구매', '휴가', '의료', '자동차', '신용 카드', '소규모 사업',\n       '기타', '이사', '주택', '재생 에너지'], dtype=object)"
     },
     "execution_count": 396,
     "metadata": {},
     "output_type": "execute_result"
    }
   ],
   "source": [
    "train_data['대출목적'].unique()"
   ],
   "metadata": {
    "collapsed": false,
    "ExecuteTime": {
     "end_time": "2024-01-19T14:03:40.297783Z",
     "start_time": "2024-01-19T14:03:40.285671Z"
    }
   },
   "id": "33ebcdb0dc78fbaa"
  },
  {
   "cell_type": "markdown",
   "source": [
    "### 최근 2년간 연체 횟수"
   ],
   "metadata": {
    "collapsed": false
   },
   "id": "5ab8b19b158dbd3"
  },
  {
   "cell_type": "code",
   "execution_count": 397,
   "outputs": [
    {
     "data": {
      "text/plain": "count   96,294\nmean         0\nstd          1\nmin          0\n25%          0\n50%          0\n75%          0\nmax         30\nName: 최근_2년간_연체_횟수, dtype: float64"
     },
     "execution_count": 397,
     "metadata": {},
     "output_type": "execute_result"
    }
   ],
   "source": [
    "train_data.최근_2년간_연체_횟수.describe()"
   ],
   "metadata": {
    "collapsed": false,
    "ExecuteTime": {
     "end_time": "2024-01-19T14:03:40.720632Z",
     "start_time": "2024-01-19T14:03:40.704445Z"
    }
   },
   "id": "2b576c5b7d614fd0"
  },
  {
   "cell_type": "markdown",
   "source": [
    "### 총상환원금"
   ],
   "metadata": {
    "collapsed": false
   },
   "id": "7f217685be8eba1e"
  },
  {
   "cell_type": "code",
   "execution_count": 398,
   "outputs": [
    {
     "data": {
      "text/plain": "count       96,294\nmean       822,503\nstd      1,027,745\nmin              0\n25%        307,572\n50%        597,696\n75%      1,055,076\nmax     41,955,936\nName: 총상환원금, dtype: float64"
     },
     "execution_count": 398,
     "metadata": {},
     "output_type": "execute_result"
    }
   ],
   "source": [
    "train_data.총상환원금.describe()"
   ],
   "metadata": {
    "collapsed": false,
    "ExecuteTime": {
     "end_time": "2024-01-19T14:03:41.118873Z",
     "start_time": "2024-01-19T14:03:41.105760Z"
    }
   },
   "id": "c9042da6184bf0cf"
  },
  {
   "cell_type": "markdown",
   "source": [
    "대출기간에 따른 상환 원금의 비율 등등 구할 수 있음"
   ],
   "metadata": {
    "collapsed": false
   },
   "id": "a002fcc5c412db4c"
  },
  {
   "cell_type": "markdown",
   "source": [
    "### 총상환이자"
   ],
   "metadata": {
    "collapsed": false
   },
   "id": "d7737f9d2a5a1bdb"
  },
  {
   "cell_type": "code",
   "execution_count": 399,
   "outputs": [
    {
     "data": {
      "text/plain": "count      96,294\nmean      428,228\nstd       440,211\nmin             0\n25%       134,616\n50%       287,004\n75%       570,216\nmax     5,653,416\nName: 총상환이자, dtype: float64"
     },
     "execution_count": 399,
     "metadata": {},
     "output_type": "execute_result"
    }
   ],
   "source": [
    "train_data.총상환이자.describe()"
   ],
   "metadata": {
    "collapsed": false,
    "ExecuteTime": {
     "end_time": "2024-01-19T14:03:41.736777Z",
     "start_time": "2024-01-19T14:03:41.722199Z"
    }
   },
   "id": "8f714aae39b0455"
  },
  {
   "cell_type": "markdown",
   "source": [
    "### 총연체금액"
   ],
   "metadata": {
    "collapsed": false
   },
   "id": "46b570aa805493c0"
  },
  {
   "cell_type": "code",
   "execution_count": 400,
   "outputs": [
    {
     "data": {
      "text/plain": "array([    0., 21792., 18000., 46536., 25284., 33996., 52308., 46500.,\n       40716., 39588., 20292., 50064., 75768., 38712., 19116., 35304.,\n       19212., 24000.,  6000., 19608., 18660., 44688., 20124.,  4800.,\n       25512., 52032., 45576., 74076., 36888., 31416., 35868., 24180.,\n       27900., 44496., 24300., 21696., 19620., 18288., 52428., 31320.,\n       52884., 30192., 75216., 32088., 19944., 52836., 25524., 57276.,\n       26148., 32316., 20196., 30780., 23628., 19200., 70044., 12000.,\n       72000., 24600., 28356., 37440., 31308., 28884., 48300., 43584.,\n       36000., 35148., 20136., 44292., 19128., 57672., 43968., 24864.,\n       26760., 37704., 21264., 60396., 31860., 72864., 21252., 72444.,\n       59184., 26436., 27300.,  2400., 40872., 41388., 26412., 28692.,\n       21444., 52452., 35376., 23592., 21324., 21240., 53712., 28716.,\n       41592., 24096., 60576., 19800., 26160., 41352., 42276., 48000.,\n       29964., 30636., 30600., 32052., 38292.])"
     },
     "execution_count": 400,
     "metadata": {},
     "output_type": "execute_result"
    }
   ],
   "source": [
    "train_data['총연체금액'].unique()"
   ],
   "metadata": {
    "collapsed": false,
    "ExecuteTime": {
     "end_time": "2024-01-19T14:03:42.186047Z",
     "start_time": "2024-01-19T14:03:42.171732Z"
    }
   },
   "id": "3cec0cdef644724d"
  },
  {
   "cell_type": "code",
   "execution_count": 401,
   "outputs": [
    {
     "data": {
      "text/plain": "count   96,294\nmean        54\nstd      1,415\nmin          0\n25%          0\n50%          0\n75%          0\nmax     75,768\nName: 총연체금액, dtype: float64"
     },
     "execution_count": 401,
     "metadata": {},
     "output_type": "execute_result"
    }
   ],
   "source": [
    "train_data.총연체금액.describe()"
   ],
   "metadata": {
    "collapsed": false,
    "ExecuteTime": {
     "end_time": "2024-01-19T14:03:42.387346Z",
     "start_time": "2024-01-19T14:03:42.371538Z"
    }
   },
   "id": "b12097cd6748d0c5"
  },
  {
   "cell_type": "markdown",
   "source": [
    "연체 금액은 있는 사람과 없는 사람으로 구분해볼 수 있음"
   ],
   "metadata": {
    "collapsed": false
   },
   "id": "8198539db95639be"
  },
  {
   "cell_type": "markdown",
   "source": [
    "### 연체계좌수"
   ],
   "metadata": {
    "collapsed": false
   },
   "id": "1f4a279e279f73fc"
  },
  {
   "cell_type": "code",
   "execution_count": 402,
   "outputs": [
    {
     "data": {
      "text/plain": "array([0., 1., 2., 4.])"
     },
     "execution_count": 402,
     "metadata": {},
     "output_type": "execute_result"
    }
   ],
   "source": [
    "train_data.연체계좌수.unique()"
   ],
   "metadata": {
    "collapsed": false,
    "ExecuteTime": {
     "end_time": "2024-01-19T14:03:43.011834Z",
     "start_time": "2024-01-19T14:03:42.995100Z"
    }
   },
   "id": "3c39e373fbe3e1fe"
  },
  {
   "cell_type": "markdown",
   "source": [
    "### 대출등급"
   ],
   "metadata": {
    "collapsed": false
   },
   "id": "18402d1f193993c1"
  },
  {
   "cell_type": "code",
   "execution_count": 403,
   "outputs": [
    {
     "data": {
      "text/plain": "array(['C', 'B', 'A', 'D', 'F', 'G', 'E'], dtype=object)"
     },
     "execution_count": 403,
     "metadata": {},
     "output_type": "execute_result"
    }
   ],
   "source": [
    "train_data['대출등급'].unique()"
   ],
   "metadata": {
    "collapsed": false,
    "ExecuteTime": {
     "end_time": "2024-01-19T14:03:43.435759Z",
     "start_time": "2024-01-19T14:03:43.421785Z"
    }
   },
   "id": "febac43f606a49c8"
  },
  {
   "cell_type": "code",
   "execution_count": 404,
   "outputs": [
    {
     "data": {
      "text/plain": "<Figure size 800x400 with 1 Axes>",
      "image/png": "[encoded data removed]"
     },
     "metadata": {},
     "output_type": "display_data"
    }
   ],
   "source": [
    "plt.figure(figsize=(8, 4))\n",
    "sns.countplot(train_data, x='대출등급', order=['A','B','C','D','E','F','G'])\n",
    "plt.xlabel('대출등급')\n",
    "plt.ylabel('빈도')\n",
    "plt.title('대출등급 분포')\n",
    "plt.show()"
   ],
   "metadata": {
    "collapsed": false,
    "ExecuteTime": {
     "end_time": "2024-01-19T14:03:43.726361Z",
     "start_time": "2024-01-19T14:03:43.649886Z"
    }
   },
   "id": "ab5afa58d383105f"
  },
  {
   "cell_type": "markdown",
   "source": [
    "############################################################################################"
   ],
   "metadata": {
    "collapsed": false
   },
   "id": "7a54b3e9f3787413"
  },
  {
   "cell_type": "markdown",
   "source": [
    "# Fix Seed"
   ],
   "metadata": {
    "collapsed": false
   },
   "id": "16967308c9c36d39"
  },
  {
   "cell_type": "code",
   "execution_count": 405,
   "outputs": [],
   "source": [
    "'''\n",
    "    결과의 재현성을 위해 seed 값을 설정하는 함수\n",
    "'''\n",
    "def seed_everything(seed=0):\n",
    "    random.seed(seed)\n",
    "    os.environ['PYTHONHASHSEED'] = str(seed)\n",
    "    np.random.seed(seed)\n",
    "    \n",
    "SEED = 42\n",
    "seed_everything(SEED)"
   ],
   "metadata": {
    "collapsed": false,
    "ExecuteTime": {
     "end_time": "2024-01-19T14:03:44.378028Z",
     "start_time": "2024-01-19T14:03:44.351540Z"
    }
   },
   "id": "7050f15627d02e0f"
  },
  {
   "cell_type": "markdown",
   "source": [
    "# 레이블 생성 함수 정의"
   ],
   "metadata": {
    "collapsed": false
   },
   "id": "cac9c9e3e84a6d6f"
  },
  {
   "cell_type": "code",
   "execution_count": 405,
   "outputs": [],
   "source": [],
   "metadata": {
    "collapsed": false,
    "ExecuteTime": {
     "end_time": "2024-01-19T14:03:44.844357Z",
     "start_time": "2024-01-19T14:03:44.829604Z"
    }
   },
   "id": "7d2c52772444a19"
  },
  {
   "cell_type": "code",
   "execution_count": 405,
   "outputs": [],
   "source": [],
   "metadata": {
    "collapsed": false,
    "ExecuteTime": {
     "end_time": "2024-01-19T14:03:45.112969Z",
     "start_time": "2024-01-19T14:03:45.100076Z"
    }
   },
   "id": "f11cad00fedbebb1"
  },
  {
   "cell_type": "markdown",
   "source": [
    "# 전처리 함수 정의"
   ],
   "metadata": {
    "collapsed": false
   },
   "id": "ee6a2e4c92ac00b6"
  },
  {
   "cell_type": "code",
   "execution_count": 406,
   "outputs": [],
   "source": [
    "def preprocessing(dataframe):\n",
    "    # ID\n",
    "    try:\n",
    "        # ID Columns Drop (만약 'ID' 컬럼이 존재하면 삭제)\n",
    "        dataframe = dataframe.drop('ID', axis=1)\n",
    "    except KeyError:\n",
    "        # 'ID' 컬럼이 존재하지 않는 경우, 아무 작업도 하지 않고 그대로 진행\n",
    "        pass\n",
    "    \n",
    "    # object column 처리\n",
    "    # 대출기간\n",
    "    dataframe['대출기간'] = dataframe['대출기간'].str.extract('(\\d+)').astype(int)\n",
    "    # 근로기간\n",
    "    values_map=dict({'6 years':6,\n",
    "     '10+ years':10,\n",
    "     '5 years':5,\n",
    "     '8 years':8,\n",
    "     '9 years':9,\n",
    "     '2 years':2,\n",
    "     '1 years':1,\n",
    "     '3 years':3,\n",
    "     '7 years':7,\n",
    "     '4 years':4,\n",
    "     '< 1 year':0,\n",
    "     'Unknown':-1})\n",
    "    dataframe['근로기간'] = dataframe['근로기간'].map(values_map)\n",
    "    # 주택소유상태, 대출목적\n",
    "    dataframe = pd.get_dummies(dataframe, columns=['주택소유상태','대출목적'], prefix=['주택소유상태','대출목적'])\n",
    "\n",
    "    # 대출등급(y) 값 매핑\n",
    "    try:\n",
    "        class_mapping = {'A': 0, 'B': 1, 'C': 2, 'D': 3, 'E': 4, 'F': 5, 'G': 6}\n",
    "        dataframe['대출등급'] = dataframe['대출등급'].map(class_mapping)\n",
    "    except KeyError:\n",
    "        # 해당 컬럼이 존재하지 않는 경우, 아무 작업도 하지 않고 그대로 진행\n",
    "        pass\n",
    "    \n",
    "    return dataframe"
   ],
   "metadata": {
    "collapsed": false,
    "ExecuteTime": {
     "end_time": "2024-01-19T14:03:45.770617Z",
     "start_time": "2024-01-19T14:03:45.745575Z"
    }
   },
   "id": "7356ac56a1f49377"
  },
  {
   "cell_type": "markdown",
   "source": [
    "# 피처 엔지니어링 함수 정의"
   ],
   "metadata": {
    "collapsed": false
   },
   "id": "2ba4c4e72a46c114"
  },
  {
   "cell_type": "code",
   "execution_count": 407,
   "outputs": [],
   "source": [
    "def feature_engineering(dataframe):\n",
    "    \n",
    "    return dataframe"
   ],
   "metadata": {
    "collapsed": false,
    "ExecuteTime": {
     "end_time": "2024-01-19T14:03:46.279183Z",
     "start_time": "2024-01-19T14:03:46.244988Z"
    }
   },
   "id": "2ba17e40908813b2"
  },
  {
   "cell_type": "markdown",
   "source": [
    "# 전처리 및 피쳐 엔지니어링 실행"
   ],
   "metadata": {
    "collapsed": false
   },
   "id": "677657a2123958ab"
  },
  {
   "cell_type": "code",
   "execution_count": 408,
   "outputs": [],
   "source": [
    "# preprocessing\n",
    "train_data = preprocessing(train_data)\n",
    "test_data = preprocessing(test_data)"
   ],
   "metadata": {
    "collapsed": false,
    "ExecuteTime": {
     "end_time": "2024-01-19T14:03:47.107866Z",
     "start_time": "2024-01-19T14:03:46.980122Z"
    }
   },
   "id": "e3cbcb06ea998c1"
  },
  {
   "cell_type": "code",
   "execution_count": 409,
   "outputs": [],
   "source": [
    "# feature engineering\n",
    "# train_data = feature_engineering(train_data)\n",
    "# test_data = feature_engineering(test_data)"
   ],
   "metadata": {
    "collapsed": false,
    "ExecuteTime": {
     "end_time": "2024-01-19T14:03:47.320530Z",
     "start_time": "2024-01-19T14:03:47.310118Z"
    }
   },
   "id": "b73224a4516cb492"
  },
  {
   "cell_type": "code",
   "execution_count": 410,
   "outputs": [
    {
     "data": {
      "text/plain": "       대출금액  대출기간  근로기간       연간소득  부채_대비_소득_비율  총계좌수  최근_2년간_연체_횟수   총상환원금  \\\n0  12480000    36     6   72000000           19    15             0       0   \n1  14400000    60    10  130800000           22    21             0  373572   \n2  12000000    36     5   96000000            9    14             0  928644   \n\n    총상환이자  총연체금액  연체계좌수  대출등급  주택소유상태_ANY  주택소유상태_MORTGAGE  주택소유상태_OWN  \\\n0       0      0      0     2           0                0           0   \n1 234,060      0      0     1           0                1           0   \n2 151,944      0      0     0           0                1           0   \n\n   주택소유상태_RENT  대출목적_기타  대출목적_부채 통합  대출목적_소규모 사업  대출목적_신용 카드  대출목적_의료  \\\n0            1        0           1            0           0        0   \n1            0        0           0            0           0        0   \n2            0        0           1            0           0        0   \n\n   대출목적_이사  대출목적_자동차  대출목적_재생 에너지  대출목적_주요 구매  대출목적_주택  대출목적_주택 개선  대출목적_휴가  \n0        0         0            0           0        0           0        0  \n1        0         0            0           0        0           1        0  \n2        0         0            0           0        0           0        0  ",
      "text/html": "<div>\n<style scoped>\n    .dataframe tbody tr th:only-of-type {\n        vertical-align: middle;\n    }\n\n    .dataframe tbody tr th {\n        vertical-align: top;\n    }\n\n    .dataframe thead th {\n        text-align: right;\n    }\n</style>\n<table border=\"1\" class=\"dataframe\">\n  <thead>\n    <tr style=\"text-align: right;\">\n      <th></th>\n      <th>대출금액</th>\n      <th>대출기간</th>\n      <th>근로기간</th>\n      <th>연간소득</th>\n      <th>부채_대비_소득_비율</th>\n      <th>총계좌수</th>\n      <th>최근_2년간_연체_횟수</th>\n      <th>총상환원금</th>\n      <th>총상환이자</th>\n      <th>총연체금액</th>\n      <th>연체계좌수</th>\n      <th>대출등급</th>\n      <th>주택소유상태_ANY</th>\n      <th>주택소유상태_MORTGAGE</th>\n      <th>주택소유상태_OWN</th>\n      <th>주택소유상태_RENT</th>\n      <th>대출목적_기타</th>\n      <th>대출목적_부채 통합</th>\n      <th>대출목적_소규모 사업</th>\n      <th>대출목적_신용 카드</th>\n      <th>대출목적_의료</th>\n      <th>대출목적_이사</th>\n      <th>대출목적_자동차</th>\n      <th>대출목적_재생 에너지</th>\n      <th>대출목적_주요 구매</th>\n      <th>대출목적_주택</th>\n      <th>대출목적_주택 개선</th>\n      <th>대출목적_휴가</th>\n    </tr>\n  </thead>\n  <tbody>\n    <tr>\n      <th>0</th>\n      <td>12480000</td>\n      <td>36</td>\n      <td>6</td>\n      <td>72000000</td>\n      <td>19</td>\n      <td>15</td>\n      <td>0</td>\n      <td>0</td>\n      <td>0</td>\n      <td>0</td>\n      <td>0</td>\n      <td>2</td>\n      <td>0</td>\n      <td>0</td>\n      <td>0</td>\n      <td>1</td>\n      <td>0</td>\n      <td>1</td>\n      <td>0</td>\n      <td>0</td>\n      <td>0</td>\n      <td>0</td>\n      <td>0</td>\n      <td>0</td>\n      <td>0</td>\n      <td>0</td>\n      <td>0</td>\n      <td>0</td>\n    </tr>\n    <tr>\n      <th>1</th>\n      <td>14400000</td>\n      <td>60</td>\n      <td>10</td>\n      <td>130800000</td>\n      <td>22</td>\n      <td>21</td>\n      <td>0</td>\n      <td>373572</td>\n      <td>234,060</td>\n      <td>0</td>\n      <td>0</td>\n      <td>1</td>\n      <td>0</td>\n      <td>1</td>\n      <td>0</td>\n      <td>0</td>\n      <td>0</td>\n      <td>0</td>\n      <td>0</td>\n      <td>0</td>\n      <td>0</td>\n      <td>0</td>\n      <td>0</td>\n      <td>0</td>\n      <td>0</td>\n      <td>0</td>\n      <td>1</td>\n      <td>0</td>\n    </tr>\n    <tr>\n      <th>2</th>\n      <td>12000000</td>\n      <td>36</td>\n      <td>5</td>\n      <td>96000000</td>\n      <td>9</td>\n      <td>14</td>\n      <td>0</td>\n      <td>928644</td>\n      <td>151,944</td>\n      <td>0</td>\n      <td>0</td>\n      <td>0</td>\n      <td>0</td>\n      <td>1</td>\n      <td>0</td>\n      <td>0</td>\n      <td>0</td>\n      <td>1</td>\n      <td>0</td>\n      <td>0</td>\n      <td>0</td>\n      <td>0</td>\n      <td>0</td>\n      <td>0</td>\n      <td>0</td>\n      <td>0</td>\n      <td>0</td>\n      <td>0</td>\n    </tr>\n  </tbody>\n</table>\n</div>"
     },
     "execution_count": 410,
     "metadata": {},
     "output_type": "execute_result"
    }
   ],
   "source": [
    "train_data.head(3)"
   ],
   "metadata": {
    "collapsed": false,
    "ExecuteTime": {
     "end_time": "2024-01-19T14:03:47.651836Z",
     "start_time": "2024-01-19T14:03:47.639601Z"
    }
   },
   "id": "c878f9cb28c71bae"
  },
  {
   "cell_type": "code",
   "execution_count": 411,
   "outputs": [
    {
     "data": {
      "text/plain": "       대출금액  대출기간  근로기간       연간소득  부채_대비_소득_비율  총계좌수  최근_2년간_연체_횟수    총상환원금  \\\n0  16800000    36     8  132000000           20    12             0   394692   \n1   8400000    36     5   89971200           16    25             0        0   \n2  17280000    36     6  150000000            8    20             0  1786980   \n\n    총상환이자  총연체금액  연체계좌수  주택소유상태_MORTGAGE  주택소유상태_OWN  주택소유상태_RENT  대출목적_결혼  \\\n0 146,604      0      0                1           0            0        0   \n1       0      0      0                0           0            1        0   \n2 281,820      0      0                0           0            1        0   \n\n   대출목적_기타  대출목적_부채 통합  대출목적_소규모 사업  대출목적_신용 카드  대출목적_의료  대출목적_이사  대출목적_자동차  \\\n0        0           0            0           0        0        0         0   \n1        0           1            0           0        0        0         0   \n2        0           0            0           1        0        0         0   \n\n   대출목적_재생 에너지  대출목적_주요 구매  대출목적_주택  대출목적_주택 개선  대출목적_휴가  \n0            0           0        0           1        0  \n1            0           0        0           0        0  \n2            0           0        0           0        0  ",
      "text/html": "<div>\n<style scoped>\n    .dataframe tbody tr th:only-of-type {\n        vertical-align: middle;\n    }\n\n    .dataframe tbody tr th {\n        vertical-align: top;\n    }\n\n    .dataframe thead th {\n        text-align: right;\n    }\n</style>\n<table border=\"1\" class=\"dataframe\">\n  <thead>\n    <tr style=\"text-align: right;\">\n      <th></th>\n      <th>대출금액</th>\n      <th>대출기간</th>\n      <th>근로기간</th>\n      <th>연간소득</th>\n      <th>부채_대비_소득_비율</th>\n      <th>총계좌수</th>\n      <th>최근_2년간_연체_횟수</th>\n      <th>총상환원금</th>\n      <th>총상환이자</th>\n      <th>총연체금액</th>\n      <th>연체계좌수</th>\n      <th>주택소유상태_MORTGAGE</th>\n      <th>주택소유상태_OWN</th>\n      <th>주택소유상태_RENT</th>\n      <th>대출목적_결혼</th>\n      <th>대출목적_기타</th>\n      <th>대출목적_부채 통합</th>\n      <th>대출목적_소규모 사업</th>\n      <th>대출목적_신용 카드</th>\n      <th>대출목적_의료</th>\n      <th>대출목적_이사</th>\n      <th>대출목적_자동차</th>\n      <th>대출목적_재생 에너지</th>\n      <th>대출목적_주요 구매</th>\n      <th>대출목적_주택</th>\n      <th>대출목적_주택 개선</th>\n      <th>대출목적_휴가</th>\n    </tr>\n  </thead>\n  <tbody>\n    <tr>\n      <th>0</th>\n      <td>16800000</td>\n      <td>36</td>\n      <td>8</td>\n      <td>132000000</td>\n      <td>20</td>\n      <td>12</td>\n      <td>0</td>\n      <td>394692</td>\n      <td>146,604</td>\n      <td>0</td>\n      <td>0</td>\n      <td>1</td>\n      <td>0</td>\n      <td>0</td>\n      <td>0</td>\n      <td>0</td>\n      <td>0</td>\n      <td>0</td>\n      <td>0</td>\n      <td>0</td>\n      <td>0</td>\n      <td>0</td>\n      <td>0</td>\n      <td>0</td>\n      <td>0</td>\n      <td>1</td>\n      <td>0</td>\n    </tr>\n    <tr>\n      <th>1</th>\n      <td>8400000</td>\n      <td>36</td>\n      <td>5</td>\n      <td>89971200</td>\n      <td>16</td>\n      <td>25</td>\n      <td>0</td>\n      <td>0</td>\n      <td>0</td>\n      <td>0</td>\n      <td>0</td>\n      <td>0</td>\n      <td>0</td>\n      <td>1</td>\n      <td>0</td>\n      <td>0</td>\n      <td>1</td>\n      <td>0</td>\n      <td>0</td>\n      <td>0</td>\n      <td>0</td>\n      <td>0</td>\n      <td>0</td>\n      <td>0</td>\n      <td>0</td>\n      <td>0</td>\n      <td>0</td>\n    </tr>\n    <tr>\n      <th>2</th>\n      <td>17280000</td>\n      <td>36</td>\n      <td>6</td>\n      <td>150000000</td>\n      <td>8</td>\n      <td>20</td>\n      <td>0</td>\n      <td>1786980</td>\n      <td>281,820</td>\n      <td>0</td>\n      <td>0</td>\n      <td>0</td>\n      <td>0</td>\n      <td>1</td>\n      <td>0</td>\n      <td>0</td>\n      <td>0</td>\n      <td>0</td>\n      <td>1</td>\n      <td>0</td>\n      <td>0</td>\n      <td>0</td>\n      <td>0</td>\n      <td>0</td>\n      <td>0</td>\n      <td>0</td>\n      <td>0</td>\n    </tr>\n  </tbody>\n</table>\n</div>"
     },
     "execution_count": 411,
     "metadata": {},
     "output_type": "execute_result"
    }
   ],
   "source": [
    "test_data.head(3)"
   ],
   "metadata": {
    "collapsed": false,
    "ExecuteTime": {
     "end_time": "2024-01-19T14:03:48.023947Z",
     "start_time": "2024-01-19T14:03:48.013382Z"
    }
   },
   "id": "a42057de80e3e6c1"
  },
  {
   "cell_type": "markdown",
   "source": [
    "# 머신 러닝"
   ],
   "metadata": {
    "collapsed": false
   },
   "id": "757fa9266331c65f"
  },
  {
   "cell_type": "code",
   "execution_count": 412,
   "outputs": [
    {
     "data": {
      "text/plain": "XGBClassifier(base_score=None, booster=None, callbacks=None,\n              colsample_bylevel=None, colsample_bynode=None,\n              colsample_bytree=None, device=None, early_stopping_rounds=None,\n              enable_categorical=False, eval_metric=None, feature_types=None,\n              gamma=None, grow_policy=None, importance_type=None,\n              interaction_constraints=None, learning_rate=None, max_bin=None,\n              max_cat_threshold=None, max_cat_to_onehot=None,\n              max_delta_step=None, max_depth=None, max_leaves=None,\n              min_child_weight=None, missing=nan, monotone_constraints=None,\n              multi_strategy=None, n_estimators=None, n_jobs=None, num_class=5,\n              num_parallel_tree=None, ...)",
      "text/html": "<style>#sk-container-id-2 {color: black;}#sk-container-id-2 pre{padding: 0;}#sk-container-id-2 div.sk-toggleable {background-color: white;}#sk-container-id-2 label.sk-toggleable__label {cursor: pointer;display: block;width: 100%;margin-bottom: 0;padding: 0.3em;box-sizing: border-box;text-align: center;}#sk-container-id-2 label.sk-toggleable__label-arrow:before {content: \"▸\";float: left;margin-right: 0.25em;color: #696969;}#sk-container-id-2 label.sk-toggleable__label-arrow:hover:before {color: black;}#sk-container-id-2 div.sk-estimator:hover label.sk-toggleable__label-arrow:before {color: black;}#sk-container-id-2 div.sk-toggleable__content {max-height: 0;max-width: 0;overflow: hidden;text-align: left;background-color: #f0f8ff;}#sk-container-id-2 div.sk-toggleable__content pre {margin: 0.2em;color: black;border-radius: 0.25em;background-color: #f0f8ff;}#sk-container-id-2 input.sk-toggleable__control:checked~div.sk-toggleable__content {max-height: 200px;max-width: 100%;overflow: auto;}#sk-container-id-2 input.sk-toggleable__control:checked~label.sk-toggleable__label-arrow:before {content: \"▾\";}#sk-container-id-2 div.sk-estimator input.sk-toggleable__control:checked~label.sk-toggleable__label {background-color: #d4ebff;}#sk-container-id-2 div.sk-label input.sk-toggleable__control:checked~label.sk-toggleable__label {background-color: #d4ebff;}#sk-container-id-2 input.sk-hidden--visually {border: 0;clip: rect(1px 1px 1px 1px);clip: rect(1px, 1px, 1px, 1px);height: 1px;margin: -1px;overflow: hidden;padding: 0;position: absolute;width: 1px;}#sk-container-id-2 div.sk-estimator {font-family: monospace;background-color: #f0f8ff;border: 1px dotted black;border-radius: 0.25em;box-sizing: border-box;margin-bottom: 0.5em;}#sk-container-id-2 div.sk-estimator:hover {background-color: #d4ebff;}#sk-container-id-2 div.sk-parallel-item::after {content: \"\";width: 100%;border-bottom: 1px solid gray;flex-grow: 1;}#sk-container-id-2 div.sk-label:hover label.sk-toggleable__label {background-color: #d4ebff;}#sk-container-id-2 div.sk-serial::before {content: \"\";position: absolute;border-left: 1px solid gray;box-sizing: border-box;top: 0;bottom: 0;left: 50%;z-index: 0;}#sk-container-id-2 div.sk-serial {display: flex;flex-direction: column;align-items: center;background-color: white;padding-right: 0.2em;padding-left: 0.2em;position: relative;}#sk-container-id-2 div.sk-item {position: relative;z-index: 1;}#sk-container-id-2 div.sk-parallel {display: flex;align-items: stretch;justify-content: center;background-color: white;position: relative;}#sk-container-id-2 div.sk-item::before, #sk-container-id-2 div.sk-parallel-item::before {content: \"\";position: absolute;border-left: 1px solid gray;box-sizing: border-box;top: 0;bottom: 0;left: 50%;z-index: -1;}#sk-container-id-2 div.sk-parallel-item {display: flex;flex-direction: column;z-index: 1;position: relative;background-color: white;}#sk-container-id-2 div.sk-parallel-item:first-child::after {align-self: flex-end;width: 50%;}#sk-container-id-2 div.sk-parallel-item:last-child::after {align-self: flex-start;width: 50%;}#sk-container-id-2 div.sk-parallel-item:only-child::after {width: 0;}#sk-container-id-2 div.sk-dashed-wrapped {border: 1px dashed gray;margin: 0 0.4em 0.5em 0.4em;box-sizing: border-box;padding-bottom: 0.4em;background-color: white;}#sk-container-id-2 div.sk-label label {font-family: monospace;font-weight: bold;display: inline-block;line-height: 1.2em;}#sk-container-id-2 div.sk-label-container {text-align: center;}#sk-container-id-2 div.sk-container {/* jupyter's `normalize.less` sets `[hidden] { display: none; }` but bootstrap.min.css set `[hidden] { display: none !important; }` so we also need the `!important` here to be able to override the default hidden behavior on the sphinx rendered scikit-learn.org. See: https://github.com/scikit-learn/scikit-learn/issues/21755 */display: inline-block !important;position: relative;}#sk-container-id-2 div.sk-text-repr-fallback {display: none;}</style><div id=\"sk-container-id-2\" class=\"sk-top-container\"><div class=\"sk-text-repr-fallback\"><pre>XGBClassifier(base_score=None, booster=None, callbacks=None,\n              colsample_bylevel=None, colsample_bynode=None,\n              colsample_bytree=None, device=None, early_stopping_rounds=None,\n              enable_categorical=False, eval_metric=None, feature_types=None,\n              gamma=None, grow_policy=None, importance_type=None,\n              interaction_constraints=None, learning_rate=None, max_bin=None,\n              max_cat_threshold=None, max_cat_to_onehot=None,\n              max_delta_step=None, max_depth=None, max_leaves=None,\n              min_child_weight=None, missing=nan, monotone_constraints=None,\n              multi_strategy=None, n_estimators=None, n_jobs=None, num_class=5,\n              num_parallel_tree=None, ...)</pre><b>In a Jupyter environment, please rerun this cell to show the HTML representation or trust the notebook. <br />On GitHub, the HTML representation is unable to render, please try loading this page with nbviewer.org.</b></div><div class=\"sk-container\" hidden><div class=\"sk-item\"><div class=\"sk-estimator sk-toggleable\"><input class=\"sk-toggleable__control sk-hidden--visually\" id=\"sk-estimator-id-2\" type=\"checkbox\" checked><label for=\"sk-estimator-id-2\" class=\"sk-toggleable__label sk-toggleable__label-arrow\">XGBClassifier</label><div class=\"sk-toggleable__content\"><pre>XGBClassifier(base_score=None, booster=None, callbacks=None,\n              colsample_bylevel=None, colsample_bynode=None,\n              colsample_bytree=None, device=None, early_stopping_rounds=None,\n              enable_categorical=False, eval_metric=None, feature_types=None,\n              gamma=None, grow_policy=None, importance_type=None,\n              interaction_constraints=None, learning_rate=None, max_bin=None,\n              max_cat_threshold=None, max_cat_to_onehot=None,\n              max_delta_step=None, max_depth=None, max_leaves=None,\n              min_child_weight=None, missing=nan, monotone_constraints=None,\n              multi_strategy=None, n_estimators=None, n_jobs=None, num_class=5,\n              num_parallel_tree=None, ...)</pre></div></div></div></div></div>"
     },
     "execution_count": 412,
     "metadata": {},
     "output_type": "execute_result"
    }
   ],
   "source": [
    "# 훈련 데이터와 검증 데이터 분리\n",
    "X_train, X_valid, y_train, y_valid = train_test_split(train_data.drop('대출등급', axis=1), train_data['대출등급'], test_size=0.2)\n",
    "\n",
    "# XGBoost 모델 설정 및 학습\n",
    "model = xgb.XGBClassifier(objective='multi:softmax', num_class=5)\n",
    "model.fit(X_train, y_train)"
   ],
   "metadata": {
    "collapsed": false,
    "ExecuteTime": {
     "end_time": "2024-01-19T14:03:51.390771Z",
     "start_time": "2024-01-19T14:03:49.014151Z"
    }
   },
   "id": "f2e13c7d87aa59ff"
  },
  {
   "cell_type": "code",
   "execution_count": 413,
   "outputs": [],
   "source": [
    "# 훈련 데이터 평가\n",
    "y_pred_train = model.predict(X_train)\n",
    "train_f1 = f1_score(y_train, y_pred_train, average='macro')\n",
    "train_precision = precision_score(y_train, y_pred_train, average='macro')\n",
    "train_recall = recall_score(y_train, y_pred_train, average='macro')\n",
    "train_roc_auc = roc_auc_score(pd.get_dummies(y_train), model.predict_proba(X_train), multi_class='ovr')\n",
    "\n",
    "# 검증 데이터 평가\n",
    "y_pred_valid = model.predict(X_valid)\n",
    "valid_f1 = f1_score(y_valid, y_pred_valid, average='macro')\n",
    "valid_precision = precision_score(y_valid, y_pred_valid, average='macro')\n",
    "valid_recall = recall_score(y_valid, y_pred_valid, average='macro')\n",
    "valid_roc_auc = roc_auc_score(pd.get_dummies(y_valid), model.predict_proba(X_valid), multi_class='ovr')"
   ],
   "metadata": {
    "collapsed": false,
    "ExecuteTime": {
     "end_time": "2024-01-19T14:03:52.090859Z",
     "start_time": "2024-01-19T14:03:51.394195Z"
    }
   },
   "id": "206b246fd6057a76"
  },
  {
   "cell_type": "code",
   "execution_count": 417,
   "outputs": [
    {
     "data": {
      "text/plain": "Index(['대출금액', '대출기간', '근로기간', '연간소득', '부채_대비_소득_비율', '총계좌수', '최근_2년간_연체_횟수',\n       '총상환원금', '총상환이자', '총연체금액', '연체계좌수', '주택소유상태_MORTGAGE', '주택소유상태_OWN',\n       '주택소유상태_RENT', '대출목적_결혼', '대출목적_기타', '대출목적_부채 통합', '대출목적_소규모 사업',\n       '대출목적_신용 카드', '대출목적_의료', '대출목적_이사', '대출목적_자동차', '대출목적_재생 에너지',\n       '대출목적_주요 구매', '대출목적_주택', '대출목적_주택 개선', '대출목적_휴가'],\n      dtype='object')"
     },
     "execution_count": 417,
     "metadata": {},
     "output_type": "execute_result"
    }
   ],
   "source": [
    "test_data.columns"
   ],
   "metadata": {
    "collapsed": false,
    "ExecuteTime": {
     "end_time": "2024-01-19T14:04:27.408338Z",
     "start_time": "2024-01-19T14:04:27.391143Z"
    }
   },
   "id": "39df3038fbcd1b61"
  },
  {
   "cell_type": "code",
   "execution_count": 414,
   "outputs": [
    {
     "ename": "ValueError",
     "evalue": "feature_names mismatch: ['대출금액', '대출기간', '근로기간', '연간소득', '부채_대비_소득_비율', '총계좌수', '최근_2년간_연체_횟수', '총상환원금', '총상환이자', '총연체금액', '연체계좌수', '주택소유상태_ANY', '주택소유상태_MORTGAGE', '주택소유상태_OWN', '주택소유상태_RENT', '대출목적_기타', '대출목적_부채 통합', '대출목적_소규모 사업', '대출목적_신용 카드', '대출목적_의료', '대출목적_이사', '대출목적_자동차', '대출목적_재생 에너지', '대출목적_주요 구매', '대출목적_주택', '대출목적_주택 개선', '대출목적_휴가'] ['대출금액', '대출기간', '근로기간', '연간소득', '부채_대비_소득_비율', '총계좌수', '최근_2년간_연체_횟수', '총상환원금', '총상환이자', '총연체금액', '연체계좌수', '주택소유상태_MORTGAGE', '주택소유상태_OWN', '주택소유상태_RENT', '대출목적_결혼', '대출목적_기타', '대출목적_부채 통합', '대출목적_소규모 사업', '대출목적_신용 카드', '대출목적_의료', '대출목적_이사', '대출목적_자동차', '대출목적_재생 에너지', '대출목적_주요 구매', '대출목적_주택', '대출목적_주택 개선', '대출목적_휴가']\nexpected 주택소유상태_ANY in input data\ntraining data did not have the following fields: 대출목적_결혼",
     "output_type": "error",
     "traceback": [
      "\u001B[0;31m---------------------------------------------------------------------------\u001B[0m",
      "\u001B[0;31mValueError\u001B[0m                                Traceback (most recent call last)",
      "Cell \u001B[0;32mIn[414], line 12\u001B[0m\n\u001B[1;32m      9\u001B[0m     \u001B[38;5;28;01mreturn\u001B[39;00m test_data[\u001B[38;5;124m'\u001B[39m\u001B[38;5;124m대출등급\u001B[39m\u001B[38;5;124m'\u001B[39m]\n\u001B[1;32m     11\u001B[0m \u001B[38;5;66;03m# 테스트 데이터에 대한 예측 수행\u001B[39;00m\n\u001B[0;32m---> 12\u001B[0m predictions_df \u001B[38;5;241m=\u001B[39m predict_with_xgboost(model, test_data)\n\u001B[1;32m     14\u001B[0m \u001B[38;5;66;03m# 예측 결과 출력\u001B[39;00m\n\u001B[1;32m     15\u001B[0m \u001B[38;5;28mprint\u001B[39m(predictions_df)\n",
      "Cell \u001B[0;32mIn[414], line 4\u001B[0m, in \u001B[0;36mpredict_with_xgboost\u001B[0;34m(model, test_data)\u001B[0m\n\u001B[1;32m      2\u001B[0m \u001B[38;5;28;01mdef\u001B[39;00m \u001B[38;5;21mpredict_with_xgboost\u001B[39m(model, test_data):\n\u001B[1;32m      3\u001B[0m     \u001B[38;5;66;03m# 모델을 사용하여 테스트 데이터에 대한 예측 수행\u001B[39;00m\n\u001B[0;32m----> 4\u001B[0m     predictions \u001B[38;5;241m=\u001B[39m model\u001B[38;5;241m.\u001B[39mpredict(test_data)\n\u001B[1;32m      6\u001B[0m     \u001B[38;5;66;03m# 예측 결과를 DataFrame에 추가\u001B[39;00m\n\u001B[1;32m      7\u001B[0m     test_data[\u001B[38;5;124m'\u001B[39m\u001B[38;5;124m대출등급\u001B[39m\u001B[38;5;124m'\u001B[39m] \u001B[38;5;241m=\u001B[39m predictions\n",
      "File \u001B[0;32m~/anaconda3/lib/python3.11/site-packages/xgboost/sklearn.py:1553\u001B[0m, in \u001B[0;36mXGBClassifier.predict\u001B[0;34m(self, X, output_margin, validate_features, base_margin, iteration_range)\u001B[0m\n\u001B[1;32m   1544\u001B[0m \u001B[38;5;28;01mdef\u001B[39;00m \u001B[38;5;21mpredict\u001B[39m(\n\u001B[1;32m   1545\u001B[0m     \u001B[38;5;28mself\u001B[39m,\n\u001B[1;32m   1546\u001B[0m     X: ArrayLike,\n\u001B[0;32m   (...)\u001B[0m\n\u001B[1;32m   1550\u001B[0m     iteration_range: Optional[Tuple[\u001B[38;5;28mint\u001B[39m, \u001B[38;5;28mint\u001B[39m]] \u001B[38;5;241m=\u001B[39m \u001B[38;5;28;01mNone\u001B[39;00m,\n\u001B[1;32m   1551\u001B[0m ) \u001B[38;5;241m-\u001B[39m\u001B[38;5;241m>\u001B[39m ArrayLike:\n\u001B[1;32m   1552\u001B[0m     \u001B[38;5;28;01mwith\u001B[39;00m config_context(verbosity\u001B[38;5;241m=\u001B[39m\u001B[38;5;28mself\u001B[39m\u001B[38;5;241m.\u001B[39mverbosity):\n\u001B[0;32m-> 1553\u001B[0m         class_probs \u001B[38;5;241m=\u001B[39m \u001B[38;5;28msuper\u001B[39m()\u001B[38;5;241m.\u001B[39mpredict(\n\u001B[1;32m   1554\u001B[0m             X\u001B[38;5;241m=\u001B[39mX,\n\u001B[1;32m   1555\u001B[0m             output_margin\u001B[38;5;241m=\u001B[39moutput_margin,\n\u001B[1;32m   1556\u001B[0m             validate_features\u001B[38;5;241m=\u001B[39mvalidate_features,\n\u001B[1;32m   1557\u001B[0m             base_margin\u001B[38;5;241m=\u001B[39mbase_margin,\n\u001B[1;32m   1558\u001B[0m             iteration_range\u001B[38;5;241m=\u001B[39miteration_range,\n\u001B[1;32m   1559\u001B[0m         )\n\u001B[1;32m   1560\u001B[0m         \u001B[38;5;28;01mif\u001B[39;00m output_margin:\n\u001B[1;32m   1561\u001B[0m             \u001B[38;5;66;03m# If output_margin is active, simply return the scores\u001B[39;00m\n\u001B[1;32m   1562\u001B[0m             \u001B[38;5;28;01mreturn\u001B[39;00m class_probs\n",
      "File \u001B[0;32m~/anaconda3/lib/python3.11/site-packages/xgboost/sklearn.py:1168\u001B[0m, in \u001B[0;36mXGBModel.predict\u001B[0;34m(self, X, output_margin, validate_features, base_margin, iteration_range)\u001B[0m\n\u001B[1;32m   1166\u001B[0m \u001B[38;5;28;01mif\u001B[39;00m \u001B[38;5;28mself\u001B[39m\u001B[38;5;241m.\u001B[39m_can_use_inplace_predict():\n\u001B[1;32m   1167\u001B[0m     \u001B[38;5;28;01mtry\u001B[39;00m:\n\u001B[0;32m-> 1168\u001B[0m         predts \u001B[38;5;241m=\u001B[39m \u001B[38;5;28mself\u001B[39m\u001B[38;5;241m.\u001B[39mget_booster()\u001B[38;5;241m.\u001B[39minplace_predict(\n\u001B[1;32m   1169\u001B[0m             data\u001B[38;5;241m=\u001B[39mX,\n\u001B[1;32m   1170\u001B[0m             iteration_range\u001B[38;5;241m=\u001B[39miteration_range,\n\u001B[1;32m   1171\u001B[0m             predict_type\u001B[38;5;241m=\u001B[39m\u001B[38;5;124m\"\u001B[39m\u001B[38;5;124mmargin\u001B[39m\u001B[38;5;124m\"\u001B[39m \u001B[38;5;28;01mif\u001B[39;00m output_margin \u001B[38;5;28;01melse\u001B[39;00m \u001B[38;5;124m\"\u001B[39m\u001B[38;5;124mvalue\u001B[39m\u001B[38;5;124m\"\u001B[39m,\n\u001B[1;32m   1172\u001B[0m             missing\u001B[38;5;241m=\u001B[39m\u001B[38;5;28mself\u001B[39m\u001B[38;5;241m.\u001B[39mmissing,\n\u001B[1;32m   1173\u001B[0m             base_margin\u001B[38;5;241m=\u001B[39mbase_margin,\n\u001B[1;32m   1174\u001B[0m             validate_features\u001B[38;5;241m=\u001B[39mvalidate_features,\n\u001B[1;32m   1175\u001B[0m         )\n\u001B[1;32m   1176\u001B[0m         \u001B[38;5;28;01mif\u001B[39;00m _is_cupy_array(predts):\n\u001B[1;32m   1177\u001B[0m             \u001B[38;5;28;01mimport\u001B[39;00m \u001B[38;5;21;01mcupy\u001B[39;00m  \u001B[38;5;66;03m# pylint: disable=import-error\u001B[39;00m\n",
      "File \u001B[0;32m~/anaconda3/lib/python3.11/site-packages/xgboost/core.py:2418\u001B[0m, in \u001B[0;36mBooster.inplace_predict\u001B[0;34m(self, data, iteration_range, predict_type, missing, validate_features, base_margin, strict_shape)\u001B[0m\n\u001B[1;32m   2416\u001B[0m     data, fns, _ \u001B[38;5;241m=\u001B[39m _transform_pandas_df(data, enable_categorical)\n\u001B[1;32m   2417\u001B[0m     \u001B[38;5;28;01mif\u001B[39;00m validate_features:\n\u001B[0;32m-> 2418\u001B[0m         \u001B[38;5;28mself\u001B[39m\u001B[38;5;241m.\u001B[39m_validate_features(fns)\n\u001B[1;32m   2419\u001B[0m \u001B[38;5;28;01mif\u001B[39;00m _is_list(data) \u001B[38;5;129;01mor\u001B[39;00m _is_tuple(data):\n\u001B[1;32m   2420\u001B[0m     data \u001B[38;5;241m=\u001B[39m np\u001B[38;5;241m.\u001B[39marray(data)\n",
      "File \u001B[0;32m~/anaconda3/lib/python3.11/site-packages/xgboost/core.py:2970\u001B[0m, in \u001B[0;36mBooster._validate_features\u001B[0;34m(self, feature_names)\u001B[0m\n\u001B[1;32m   2964\u001B[0m \u001B[38;5;28;01mif\u001B[39;00m my_missing:\n\u001B[1;32m   2965\u001B[0m     msg \u001B[38;5;241m+\u001B[39m\u001B[38;5;241m=\u001B[39m (\n\u001B[1;32m   2966\u001B[0m         \u001B[38;5;124m\"\u001B[39m\u001B[38;5;130;01m\\n\u001B[39;00m\u001B[38;5;124mtraining data did not have the following fields: \u001B[39m\u001B[38;5;124m\"\u001B[39m\n\u001B[1;32m   2967\u001B[0m         \u001B[38;5;241m+\u001B[39m \u001B[38;5;124m\"\u001B[39m\u001B[38;5;124m, \u001B[39m\u001B[38;5;124m\"\u001B[39m\u001B[38;5;241m.\u001B[39mjoin(\u001B[38;5;28mstr\u001B[39m(s) \u001B[38;5;28;01mfor\u001B[39;00m s \u001B[38;5;129;01min\u001B[39;00m my_missing)\n\u001B[1;32m   2968\u001B[0m     )\n\u001B[0;32m-> 2970\u001B[0m \u001B[38;5;28;01mraise\u001B[39;00m \u001B[38;5;167;01mValueError\u001B[39;00m(msg\u001B[38;5;241m.\u001B[39mformat(\u001B[38;5;28mself\u001B[39m\u001B[38;5;241m.\u001B[39mfeature_names, feature_names))\n",
      "\u001B[0;31mValueError\u001B[0m: feature_names mismatch: ['대출금액', '대출기간', '근로기간', '연간소득', '부채_대비_소득_비율', '총계좌수', '최근_2년간_연체_횟수', '총상환원금', '총상환이자', '총연체금액', '연체계좌수', '주택소유상태_ANY', '주택소유상태_MORTGAGE', '주택소유상태_OWN', '주택소유상태_RENT', '대출목적_기타', '대출목적_부채 통합', '대출목적_소규모 사업', '대출목적_신용 카드', '대출목적_의료', '대출목적_이사', '대출목적_자동차', '대출목적_재생 에너지', '대출목적_주요 구매', '대출목적_주택', '대출목적_주택 개선', '대출목적_휴가'] ['대출금액', '대출기간', '근로기간', '연간소득', '부채_대비_소득_비율', '총계좌수', '최근_2년간_연체_횟수', '총상환원금', '총상환이자', '총연체금액', '연체계좌수', '주택소유상태_MORTGAGE', '주택소유상태_OWN', '주택소유상태_RENT', '대출목적_결혼', '대출목적_기타', '대출목적_부채 통합', '대출목적_소규모 사업', '대출목적_신용 카드', '대출목적_의료', '대출목적_이사', '대출목적_자동차', '대출목적_재생 에너지', '대출목적_주요 구매', '대출목적_주택', '대출목적_주택 개선', '대출목적_휴가']\nexpected 주택소유상태_ANY in input data\ntraining data did not have the following fields: 대출목적_결혼"
     ]
    }
   ],
   "source": [
    "# 테스트 데이터에 모델 적용 (예측)\n",
    "def predict_with_xgboost(model, test_data):\n",
    "    # 모델을 사용하여 테스트 데이터에 대한 예측 수행\n",
    "    predictions = model.predict(test_data)\n",
    "    \n",
    "    # 예측 결과를 DataFrame에 추가\n",
    "    test_data['대출등급'] = predictions\n",
    "    \n",
    "    return test_data['대출등급']\n",
    "\n",
    "# 테스트 데이터에 대한 예측 수행\n",
    "predictions_df = predict_with_xgboost(model, test_data)\n",
    "\n",
    "# 예측 결과 출력\n",
    "print(predictions_df)"
   ],
   "metadata": {
    "collapsed": false,
    "ExecuteTime": {
     "end_time": "2024-01-19T14:03:52.699498Z",
     "start_time": "2024-01-19T14:03:52.643733Z"
    }
   },
   "id": "4e7520c748cc1077"
  },
  {
   "cell_type": "markdown",
   "source": [
    "# 피쳐 중요도"
   ],
   "metadata": {
    "collapsed": false
   },
   "id": "391ddd2180ee56c5"
  },
  {
   "cell_type": "code",
   "execution_count": null,
   "outputs": [],
   "source": [
    "\n",
    "# Feature Importance 출력\n",
    "feature_importance = pd.DataFrame({'feature': X_train.columns, 'importance': model.feature_importances_})\n",
    "feature_importance = feature_importance.sort_values(by='importance', ascending=False)\n"
   ],
   "metadata": {
    "collapsed": false
   },
   "id": "2645a02efa9ecb4a"
  },
  {
   "cell_type": "markdown",
   "source": [
    "# 평가지표 출력"
   ],
   "metadata": {
    "collapsed": false
   },
   "id": "cbd47d3da1bb3b46"
  },
  {
   "cell_type": "code",
   "execution_count": null,
   "outputs": [],
   "source": [
    "\n",
    "# 결과 출력\n",
    "print(\"Train F1 Score:\", train_f1)\n",
    "print(\"Train Precision:\", train_precision)\n",
    "print(\"Train Recall:\", train_recall)\n",
    "print(\"Train ROC AUC Score:\", train_roc_auc)\n",
    "print(\"\\nValidation F1 Score:\", valid_f1)\n",
    "print(\"Validation Precision:\", valid_precision)\n",
    "print(\"Validation Recall:\", valid_recall)\n",
    "print(\"Validation ROC AUC Score:\", valid_roc_auc)\n",
    "print(\"\\nFeature Importance:\")\n",
    "print(feature_importance)"
   ],
   "metadata": {
    "collapsed": false
   },
   "id": "b5a2ae2d2fde23c8"
  },
  {
   "cell_type": "markdown",
   "source": [
    "# Submission 파일 저장"
   ],
   "metadata": {
    "collapsed": false
   },
   "id": "52c76233d9aa2cc6"
  },
  {
   "cell_type": "code",
   "execution_count": null,
   "outputs": [],
   "source": [],
   "metadata": {
    "collapsed": false
   },
   "id": "6bf6f9a6fd65936"
  }
 ],
 "metadata": {
  "kernelspec": {
   "display_name": "Python 3",
   "language": "python",
   "name": "python3"
  },
  "language_info": {
   "codemirror_mode": {
    "name": "ipython",
    "version": 2
   },
   "file_extension": ".py",
   "mimetype": "text/x-python",
   "name": "python",
   "nbconvert_exporter": "python",
   "pygments_lexer": "ipython2",
   "version": "2.7.6"
  }
 },
 "nbformat": 4,
 "nbformat_minor": 5
}
